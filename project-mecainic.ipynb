{
 "cells": [
  {
   "cell_type": "code",
   "execution_count": 1,
   "metadata": {},
   "outputs": [],
   "source": [
    "import os\n",
    "import getpass\n",
    "\n",
    "os.environ[\"OPENAI_API_KEY\"] = getpass.getpass(\"OpenAI API Key: \")"
   ]
  },
  {
   "cell_type": "code",
   "execution_count": 2,
   "metadata": {},
   "outputs": [],
   "source": [
    "os.environ[\"PINECONE_API_KEY\"] = getpass.getpass(\"Pinecone API Key:\")"
   ]
  },
  {
   "cell_type": "code",
   "execution_count": 3,
   "metadata": {},
   "outputs": [],
   "source": [
    "from uuid import uuid4\n",
    "unique_id = uuid4().hex[0:8]\n",
    "\n",
    "os.environ[\"LANGCHAIN_TRACING_V2\"] = \"true\"\n",
    "os.environ[\"LANGCHAIN_PROJECT\"] = f\"Mecainic - {unique_id}\"\n",
    "os.environ[\"LANGCHAIN_ENDPOINT\"] = \"https://api.smith.langchain.com\"\n",
    "os.environ[\"LANGCHAIN_API_KEY\"] = getpass.getpass(\"Enter your LangSmith API key:\")"
   ]
  },
  {
   "cell_type": "code",
   "execution_count": 11,
   "metadata": {},
   "outputs": [],
   "source": [
    "from langchain.document_loaders import PyPDFLoader\n",
    "from dotenv import load_dotenv\n",
    "import os\n",
    "\n",
    "load_dotenv()\n",
    "\n",
    "# car_manual = PyMuPDFLoader('docs/owner_manual.pdf')\n",
    "car_manual = PyPDFLoader(os.environ.get('pdfurl'))"
   ]
  },
  {
   "cell_type": "code",
   "execution_count": 12,
   "metadata": {},
   "outputs": [
    {
     "name": "stdout",
     "output_type": "stream",
     "text": [
      "page_content='4 \\nResetting user data for change of\\nownership129\\nResetting settings in the centre\\ndisplay129\\nTable showing centre display settings 130\\nDriver profiles 131\\nSelecting driver profile 132\\nRenaming a driver profile 132\\nProtect driver profile 133\\nLinking remote control key to\\ndriver profile133\\nResetting settings in the driver\\nprofiles134\\nMessage in centre display 135\\nManaging messages in the centre\\ndisplay135\\nHandling a message saved from\\nthe centre display136\\nHead-up display * 137\\nActivating and deactivating the\\nhead-up display *138\\nSettings for head-up display * 139\\nVoice recognition 140\\nUsing voice recognition 141\\nControlling a telephone with voice\\nrecognition143\\nVoice control of radio and media 144 \\nSettings for voice recognition 145LIGHTING\\nLighting control 148\\nAdjusting light functions via the\\ncentre display150\\nAdapting the headlamp pattern\\nfrom the headlamps150\\nAdjusting headlamp level 150\\nPosition lamps 151\\nDaytime running lights 152\\nDipped beam 153\\nUsing main beam 153\\nActive main beam 154\\nUsing direction indicators 155\\nActive bending lights * 156\\nFront fog lamps/cornering lights * 157\\nRear fog lamp 158\\nBrake lights 158\\nEmergency brake lights 159\\nHazard warning flashers 159\\nUsing home safe lighting 160\\nApproach light duration 160\\nInterior lighting 160\\nAdjusting interior lighting 162' metadata={'source': 'https://az685612.vo.msecnd.net/pdfs/20w17/XC60_OwnersManual_MY21_en-GB_TP32005/XC60_OwnersManual_MY21_en-GB_TP32005.pdf', 'page': 5}\n"
     ]
    }
   ],
   "source": [
    "car_manual_data = car_manual.load()\n",
    "print(car_manual_data[5])"
   ]
  },
  {
   "cell_type": "code",
   "execution_count": 13,
   "metadata": {},
   "outputs": [
    {
     "name": "stdout",
     "output_type": "stream",
     "text": [
      "page_content=\"XC60\\nOWNER'S MANUAL\" metadata={'source': 'https://az685612.vo.msecnd.net/pdfs/20w17/XC60_OwnersManual_MY21_en-GB_TP32005/XC60_OwnersManual_MY21_en-GB_TP32005.pdf', 'page': 0}\n"
     ]
    }
   ],
   "source": [
    "partial_car_manual_data = car_manual_data\n",
    "\n",
    "print(partial_car_manual_data[0])"
   ]
  },
  {
   "cell_type": "code",
   "execution_count": 14,
   "metadata": {},
   "outputs": [
    {
     "data": {
      "text/plain": [
       "[Document(page_content=\"XC60\\nOWNER'S MANUAL\", metadata={'source': 'https://az685612.vo.msecnd.net/pdfs/20w17/XC60_OwnersManual_MY21_en-GB_TP32005/XC60_OwnersManual_MY21_en-GB_TP32005.pdf', 'page': 0}),\n",
       " Document(page_content=\"VÄLKOMMEN!\\nWe hope you will enjoy many years of driving pleasure in your Volvo.\\nThe car has been designed for the safety and comfort of you and\\nyour passengers. Volvo strives to design one of the safest cars in the\\nworld. Your Volvo is also designed to meet applicable safety and\\nenvironmental requirements.\\nTo increase your enjoyment of your Volvo, we recommend that you\\nread the instructions and maintenance information in this owner'smanual. The owner's manual is also available as a mobile app (Volvo\\nManual) and on the Volvo Cars support site (support.volvocars.com).\\nWe encourage everyone to always wear their seatbelt in this and\\nother cars. Please do not drive if you are under the influence of alco-\\nhol or medication – or have an impaired ability to drive in some\\nother way.\", metadata={'source': 'https://az685612.vo.msecnd.net/pdfs/20w17/XC60_OwnersManual_MY21_en-GB_TP32005/XC60_OwnersManual_MY21_en-GB_TP32005.pdf', 'page': 2}),\n",
       " Document(page_content=\"2OWNER INFORMATION\\nOwner information 16\\nOwner's manual in centre display 17\\nNavigate in the owner's manual in\\nthe centre display18\\nOwner's Manual in mobile devices 20\\nVolvo Cars support site 21\\nReading the owner's manual 21\\nThe owner's manual and the envi-\\nronment23YOUR VOLVO\\nVolvo ID 26\\nCreating and registering a Volvo ID 26\\nDrive-E - cleaner driving pleasure 28\\nIntelliSafe – driver support and safety 31\\nSensus - online connectivity and\\nentertainment32\\nSoftware updates 35\\nRecording data 35\\nTerms & Conditions for Services 36\\nCustomer Privacy Policy 37\\nImportant information on acces-\\nsories and auxiliary equipment37\\nInstallation of accessories 38\\nConnection of equipment to the\\ncar's diagnostic socket38\\nShowing the car's identification\\nnumber39\\nChange of market when importing\\nor relocating40\\nDriver distraction 40SAFETY\\nSafety 44\\nSafety during pregnancy 44\\nWhiplash Protection System 45\\nSeatbelts 46\\nPutting on and taking off seatbelts 47\\nSeatbelt tensioner 49\\nResetting the electric seatbelt\\ntensioner *50\\nDoor and seatbelt reminder 50\\nAirbags 51\\nDriver airbags 52\\nPassenger airbag 53\\nActivating and deactivating pas-\\nsenger airbag *54\\nSide airbags 57\\nInflatable curtains 57\\nSafety mode 58\\nStarting and moving the car after\\nsafety mode59\\nChild safety 60\\nChild seats 60\\nUpper mounting points for child seats 61\\nLower mounting points for child seats 62\\ni-Size/ISOFIX mounting points for\\nchild seats62\\nChild seat positioning 63TABLE OF CONTENTS\", metadata={'source': 'https://az685612.vo.msecnd.net/pdfs/20w17/XC60_OwnersManual_MY21_en-GB_TP32005/XC60_OwnersManual_MY21_en-GB_TP32005.pdf', 'page': 3}),\n",
       " Document(page_content=\"3 \\nChild seat mounting 64\\nTable for location of child seats\\nusing the car's seatbelts66\\nTable for location of i-Size child seats 68\\nTable for location of ISOFIX child\\nseats69\\nIntegrated child seat * 72\\nFolding up the seat cushion in the\\nintegrated child seat *73\\nFolding down the seat cushion in\\nthe integrated child seat *74DISPLAYS AND VOICE\\nCONTROL\\nDisplays and controls by the driver\\nin a left-hand drive car76\\nDisplays and controls by the driver\\nin a right-hand drive car77\\nDriver display 79\\nDriver display settings 83\\nFuel gauge 84\\nTrip computer 84\\nShow trip data in the driver display 86\\nResetting the trip meter 87\\nShow trip statistics in the centre\\ndisplay87\\nSettings for trip statistics 88\\nDate and time 88\\nOutside temperature gauge 89\\nIndicator and warning symbols 90\\nLicense agreement for the driver\\ndisplay92\\nApp menu in the driver display 98\\nManaging the app menu in the\\ndriver display99\\nMessages in the driver display 100\\nManaging messages in the driver\\ndisplay101\\nHandling a message saved from\\nthe driver display102 \\nOverview of centre display 104\\nManaging the centre display 107\\nActivating and deactivating centre\\ndisplay110\\nNavigating in the centre display's\\nviews110\\nManaging subviews in centre display 114\\nFunction view in centre display 117\\nMoving apps and buttons in cen-\\ntre display119\\nSymbols in the centre display's\\nstatus bar119\\nKeyboard in centre display 121\\nChanging keyboard language in\\ncentre display124\\nEnter the characters, letters and\\nwords manually in the centre display124\\nChanging the appearance in the\\ncentre display126\\nSwitching off and changing the\\nvolume of the system sound in the\\ncentre display126\\nChanging system units 127\", metadata={'source': 'https://az685612.vo.msecnd.net/pdfs/20w17/XC60_OwnersManual_MY21_en-GB_TP32005/XC60_OwnersManual_MY21_en-GB_TP32005.pdf', 'page': 4}),\n",
       " Document(page_content=\"Enter the characters, letters and\\nwords manually in the centre display124\\nChanging the appearance in the\\ncentre display126\\nSwitching off and changing the\\nvolume of the system sound in the\\ncentre display126\\nChanging system units 127\\nChanging system language 127\\nOther settings in the centre dis-\\nplay's top view127\\nOpen contextual setup in the cen-\\ntre display128\", metadata={'source': 'https://az685612.vo.msecnd.net/pdfs/20w17/XC60_OwnersManual_MY21_en-GB_TP32005/XC60_OwnersManual_MY21_en-GB_TP32005.pdf', 'page': 4})]"
      ]
     },
     "execution_count": 14,
     "metadata": {},
     "output_type": "execute_result"
    }
   ],
   "source": [
    "from langchain.text_splitter import RecursiveCharacterTextSplitter\n",
    "import tiktoken\n",
    "\n",
    "def tiktoken_len(text):\n",
    "    tokens = tiktoken.encoding_for_model(\"gpt-3.5-turbo\").encode(\n",
    "        text,\n",
    "    )\n",
    "    return len(tokens)\n",
    "\n",
    "text_splitter = RecursiveCharacterTextSplitter(\n",
    "    chunk_size = 400,\n",
    "    chunk_overlap = 50,\n",
    "    length_function = tiktoken_len,\n",
    ")\n",
    "\n",
    "car_manual_chunks = text_splitter.split_documents(partial_car_manual_data)\n",
    "car_manual_chunks[:5]"
   ]
  },
  {
   "cell_type": "code",
   "execution_count": 15,
   "metadata": {},
   "outputs": [
    {
     "data": {
      "text/plain": [
       "400"
      ]
     },
     "execution_count": 15,
     "metadata": {},
     "output_type": "execute_result"
    }
   ],
   "source": [
    "max_chunk_length = 0\n",
    "\n",
    "for chunk in car_manual_chunks:\n",
    "    max_chunk_length = max(max_chunk_length, tiktoken_len(chunk.page_content))\n",
    "\n",
    "max_chunk_length"
   ]
  },
  {
   "cell_type": "code",
   "execution_count": 16,
   "metadata": {},
   "outputs": [
    {
     "name": "stdout",
     "output_type": "stream",
     "text": [
      "index created: mechainic\n"
     ]
    }
   ],
   "source": [
    "from pinecone import Pinecone, PodSpec\n",
    "pinecone_client = Pinecone()\n",
    "\n",
    "pinecone_client.create_index(\n",
    "    name=os.environ.get('index'),\n",
    "    dimension=1536,\n",
    "    metric=\"cosine\",\n",
    "    spec=PodSpec(\n",
    "        environment=\"gcp-starter\"\n",
    "    )\n",
    ")\n",
    "\n",
    "while not pinecone_client.describe_index(os.environ.get('index')).status['ready']:\n",
    "    print(\"loading\")\n",
    "\n",
    "print(f\"index created: {os.environ.get('index')}\")"
   ]
  },
  {
   "cell_type": "code",
   "execution_count": 17,
   "metadata": {},
   "outputs": [],
   "source": [
    "from langchain.vectorstores import Pinecone\n",
    "from langchain_openai import OpenAIEmbeddings\n",
    "\n",
    "embedding_model = OpenAIEmbeddings(model=\"text-embedding-3-small\")\n",
    "\n",
    "vector_store = Pinecone.from_documents(car_manual_chunks, embedding_model, index_name=os.environ.get('index'))"
   ]
  },
  {
   "cell_type": "code",
   "execution_count": 18,
   "metadata": {},
   "outputs": [],
   "source": [
    "retriever = vector_store.as_retriever()"
   ]
  },
  {
   "cell_type": "code",
   "execution_count": 19,
   "metadata": {},
   "outputs": [],
   "source": [
    "from langchain_core.prompts import ChatPromptTemplate\n",
    "\n",
    "RAG_PROMPT = \"\"\"\n",
    "\n",
    "CONTEXT:\n",
    "{context}\n",
    "\n",
    "QUERY:\n",
    "{question}\n",
    "\n",
    "You are a car specialist and can only provide your answers from the context. \n",
    "\n",
    "Don't tell in your response that you are getting it from the context.\n",
    "\n",
    "\"\"\"\n",
    "\n",
    "rag_prompt = ChatPromptTemplate.from_template(RAG_PROMPT)"
   ]
  },
  {
   "cell_type": "code",
   "execution_count": 20,
   "metadata": {},
   "outputs": [],
   "source": [
    "from langchain_openai import ChatOpenAI\n",
    "model = ChatOpenAI(model=\"gpt-3.5-turbo\")"
   ]
  },
  {
   "cell_type": "code",
   "execution_count": 21,
   "metadata": {},
   "outputs": [],
   "source": [
    "from operator import itemgetter\n",
    "from langchain.schema.runnable import RunnablePassthrough\n",
    "\n",
    "mecanic_qa_chain = (\n",
    "    {\"context\": itemgetter(\"question\") | retriever, \"question\": itemgetter(\"question\")}\n",
    "    | RunnablePassthrough.assign(context=itemgetter(\"context\"))\n",
    "    | {\"response\": rag_prompt | model, \"context\": itemgetter(\"context\")}\n",
    ")\n"
   ]
  },
  {
   "cell_type": "code",
   "execution_count": 22,
   "metadata": {},
   "outputs": [],
   "source": [
    "response = mecanic_qa_chain.invoke({\"question\" : \"What is the purpose of Event Data Recorder?\"})"
   ]
  },
  {
   "cell_type": "code",
   "execution_count": 23,
   "metadata": {},
   "outputs": [
    {
     "data": {
      "text/plain": [
       "AIMessage(content='The purpose of the Event Data Recorder (EDR) is to register and record data related to traffic accidents or collision-like situations in order to increase understanding of how vehicle systems work in these types of situations.', response_metadata={'token_usage': {'completion_tokens': 41, 'prompt_tokens': 1595, 'total_tokens': 1636}, 'model_name': 'gpt-3.5-turbo', 'system_fingerprint': 'fp_3bc1b5746c', 'finish_reason': 'stop', 'logprobs': None})"
      ]
     },
     "execution_count": 23,
     "metadata": {},
     "output_type": "execute_result"
    }
   ],
   "source": [
    "response[\"response\"]"
   ]
  },
  {
   "cell_type": "code",
   "execution_count": 24,
   "metadata": {},
   "outputs": [
    {
     "data": {
      "text/plain": [
       "{'response': AIMessage(content='The primary purpose of Event Data Recorder (EDR) is to register and record data related to traffic accidents or collision-like situations in order to increase understanding of how vehicle systems work in these types of situations.', response_metadata={'token_usage': {'completion_tokens': 41, 'prompt_tokens': 1690, 'total_tokens': 1731}, 'model_name': 'gpt-3.5-turbo', 'system_fingerprint': 'fp_3bc1b5746c', 'finish_reason': 'stop', 'logprobs': None}),\n",
       " 'context': [Document(page_content=\"data related to the following in the event of\\ntraffic accidents or collision-like situations:\\n\\x81How the various systems in the car\\nworked\\n\\x81Whether the driver and passenger seat-\\nbelts were fastened/tensioned\\n\\x81The driver's use of the accelerator or brake\\npedal\\n\\x81The travel speed of the vehicle\\nThis information can help us understand the\\ncircumstances in which traffic accidents, inju-\\nries and damage occur. The EDR only recordsdata when a non-trivial collision situation\\noccurs. The EDR does not record any data\\nduring normal driving conditions. Similarly, the\\nsystem never registers who is driving the vehi-\\ncle or the geographic location of the accident\\nor near-miss situation. However, other parties,\\nsuch as the police, could use the recorded\\ndata in combination with the type of person-\\nally identifiable information routinely collected\\nafter a traffic accident. Special equipment and\\naccess to either the vehicle or the EDR is\\nrequired to be able to interpret the registered\\ndata.\\nIn addition to the EDR, the car is equipped\\nwith a number of computers designed to con-\\ntinually check and monitor the function of the\\ncar. They can record data during normal driv-\\ning conditions, but in particular register faults\\naffecting the vehicle's operation and function-\\nality, or upon activation of the vehicle's driver\\nsupport function (e.g. City Safety and the auto\\nbrake function).\\nSome of the recorded data is required to ena-\\nble service and maintenance technicians to\\ndiagnose and remedy any faults that occurred\\nin the vehicle. The registered information is\\nalso needed to enable Volvo to satisfy legal\\nrequirements laid out in laws and by govern-\\nment authorities. Information registered in the\\nvehicle is stored in its computer until the vehi-\\ncle is serviced or repaired.\", metadata={'page': 36.0, 'source': 'https://az685612.vo.msecnd.net/pdfs/20w17/XC60_OwnersManual_MY21_en-GB_TP32005/XC60_OwnersManual_MY21_en-GB_TP32005.pdf'}),\n",
       "  Document(page_content='YOUR VOLVO\\n}}\\n35Software updates\\nSo that you as a Volvo customer get the best\\nexperience of your car, Volvo continuously\\ndevelops the systems in the cars and the ser-\\nvices that you are offered.\\nIn connection with service at an authorised\\nVolvo dealer, the software in your Volvo will be\\nupdated to the latest version. The latest soft-\\nware update allows you to benefit from availa-\\nble improvements, including improvements\\nfrom earlier software updates.\\nFor more information about available updates\\nand frequently asked questions, visit\\nvolvocars.com/support.\\nNOTE\\nFunctionality after updating may vary\\ndepending on market, model, model year\\nand options.\\nRelated information\\n\\x81Sensus - online connectivity and entertain-\\nment (p. 32)\\n\\x81Managing system updates via the Down-\\nload Centre (p. 619)Recording data\\nAs part of Volvo\\'s safety and quality assur-\\nance, certain information about the vehicle\\'s\\noperation, functionality and incidents are\\nrecorded in the car.\\nEvent Data Recorder (EDR)\\nThis vehicle is equipped with an \"Event Data\\nRecorder\" (EDR). Its primary purpose is to\\nregister and record data related to traffic acci-\\ndents or collision-like situations, such as times\\nwhen the airbag deploys or the vehicle strikes\\nan obstacle in the road. The data is recorded in\\norder to increase understanding of how vehi-\\ncle systems work in these types of situations.\\nThe EDR is designed to record data related to\\nvehicle dynamics and safety systems for a\\nshort time, usually 30 seconds or less.\\nThe EDR in this vehicle is designed to record\\ndata related to the following in the event of\\ntraffic accidents or collision-like situations:\\n\\x81How the various systems in the car\\nworked\\n\\x81Whether the driver and passenger seat-', metadata={'page': 36.0, 'source': 'https://az685612.vo.msecnd.net/pdfs/20w17/XC60_OwnersManual_MY21_en-GB_TP32005/XC60_OwnersManual_MY21_en-GB_TP32005.pdf'}),\n",
       "  Document(page_content='DRIVER SUPPORT\\n* Option/accessory. 413Radar unit\\nThe radar unit is used by several driver sup-\\nport systems and has the task of sensing\\nother vehicles.\\nRadar unit location\\nThe radar unit is used by the following func-\\ntions:\\n\\x81Distance Warning *\\n\\x81Adaptive cruise control *\\n\\x81Pilot Assist *\\n\\x81Lane assistance\\n\\x81City Safety\\n\\x81Steering assistance at risk of collision\\nModification of the radar unit could result in its\\nuse being illegal.Related information\\n\\x81Driving support systems (p. 294)\\n\\x81Limitations for camera and radar unit\\n(p. 422)\\n\\x81Recommended maintenance for camera\\nand radar unit (p. 425)\\n\\x81Type approval for radar device (p. 414)', metadata={'page': 414.0, 'source': 'https://az685612.vo.msecnd.net/pdfs/20w17/XC60_OwnersManual_MY21_en-GB_TP32005/XC60_OwnersManual_MY21_en-GB_TP32005.pdf'}),\n",
       "  Document(page_content=\"||DRIVER SUPPORT\\n* Option/accessory. 296Spin control and traction control\\nsystem\\nThe function is active at low speed and brakes\\nthe drive wheels that spin so that additional\\ntraction shall be transferred to the drive\\nwheels that are not spinning.\\nThe function can also prevent the driving\\nwheels from spinning against the road surface\\nduring acceleration.\\nEngine Drag Control\\nEngine Drag Control (EDC3) can prevent invol-\\nuntary wheel locking, e.g. after shifting down\\nor engine braking when driving in low gear on\\nslippery road surfaces.\\nInvoluntary wheel locking while driving can,\\namongst other things, impair the driver's abil-\\nity to steer the car.\\nTrailer stability assist *4\\nTrailer stability assist (TSA5) stabilises a car\\ntowing a trailer in situations where they begin\\nsnaking.\\nNOTE\\nTrailer Stability Assist is deactivated if ESC\\nSport Mode  is activated.Roll Stability Control\\nThis function reduces the risk of overturning,\\nfor example during a sudden evasive manoeu-\\nvre or if the car skids. The system registers if\\nand how much the car's lateral inclination\\nchanges. This information is used to calculate\\nthe risk of the car overturning. If the car is at\\nrisk, its electronic stability control system\\nengages, the engine torque is reduced and\\none or more wheels are braked until the car\\nhas regained its stability.\\nWARNING\\nUnder normal driving conditions, the sys-\\ntem improves the car's road safety, but this\\nmust not be taken as a reason to increase\\nspeed. Always follow the normal precau-\\ntions for safe driving.\\nRelated information\\n\\x81Driving support systems (p. 294)\\n\\x81Activating or deactivating sport mode for\\nelectronic stability control (p. 297)\", metadata={'page': 297.0, 'source': 'https://az685612.vo.msecnd.net/pdfs/20w17/XC60_OwnersManual_MY21_en-GB_TP32005/XC60_OwnersManual_MY21_en-GB_TP32005.pdf'})]}"
      ]
     },
     "execution_count": 24,
     "metadata": {},
     "output_type": "execute_result"
    }
   ],
   "source": [
    "mecanic_qa_chain.invoke({\"question\" : \"what is the primary purpose of Event Data Recorder (EDR)?\"})"
   ]
  },
  {
   "cell_type": "code",
   "execution_count": 36,
   "metadata": {},
   "outputs": [],
   "source": [
    "dev_validation_questions = [\n",
    "    \"what is the primary purpose of Event Data Recorder?\",\n",
    "    \"how do you manage the centre display?\",\n",
    "    \"how do I adjust the door mirrors?\"\n",
    "    \"how do I lower the backrests in the rearseat?\"\n",
    "    \"how do I lock and unlock the car?\"\n",
    "    \"what is a care key?\"\n",
    "]\n",
    "\n",
    "dev_key_words_it_should_mention = [\n",
    "    {\"must_contain\": [\"EDR\"]},\n",
    "    {\"must_contain\": [\"centre display\", \"display\"]},\n",
    "    {\"must_contain\": [\"door mirrors\", \"door\", \"mirrors\"]},\n",
    "    {\"must_contain\": [\"backrests\", \"rearseat\"]},\n",
    "    {\"must_contain\": [\"lock\", \"unlock\"]},\n",
    "    {\"must_contain\": [\"care\", \"key\"]},\n",
    "]"
   ]
  },
  {
   "cell_type": "code",
   "execution_count": 37,
   "metadata": {},
   "outputs": [],
   "source": [
    "from langsmith import Client\n",
    "\n",
    "langsmith_client = Client()\n",
    "dataset_name =  f\"Mecainic - evaluation dataset {uuid4().hex[0:8]}\";\n",
    "\n",
    "dataset = langsmith_client.create_dataset(\n",
    "    dataset_name= dataset_name,\n",
    "    description=\"Questioning instruction manuals for use on validating mecainic RAG\"\n",
    ")\n",
    "\n",
    "langsmith_client.create_examples(\n",
    "    inputs=[{\"question\": question} for question in dev_validation_questions],\n",
    "    outputs= dev_key_words_it_should_mention,\n",
    "    dataset_id=dataset.id\n",
    ")\n"
   ]
  },
  {
   "cell_type": "code",
   "execution_count": 38,
   "metadata": {},
   "outputs": [],
   "source": [
    "from langsmith.evaluation import EvaluationResult, run_evaluator\n",
    "\n",
    "@run_evaluator\n",
    "def must_contain(run, example) -> EvaluationResult:\n",
    "    prediction = run.outputs.get(\"output\") or \"\"\n",
    "    required = example.outputs.get(\"must_contain\") or []\n",
    "    score = all(phrase in prediction for phrase in required)\n",
    "    return EvaluationResult(key=\"must_contain\", score=score)\n"
   ]
  },
  {
   "cell_type": "code",
   "execution_count": 39,
   "metadata": {},
   "outputs": [],
   "source": [
    "from langchain.smith import RunEvalConfig, run_on_dataset\n",
    "\n",
    "eval_configuration = RunEvalConfig(\n",
    "    custom_evaluators=[must_contain],\n",
    "    evaluators=[\n",
    "        \"criteria\", #evaluates a model based on custom set of criteria\n",
    "        \"qa\", #evaluates answers to questions using an LLM\n",
    "        \"cot_qa\", #chain of thought question answering - uses chain of thought\n",
    "    ],\n",
    ")"
   ]
  },
  {
   "cell_type": "code",
   "execution_count": 40,
   "metadata": {},
   "outputs": [
    {
     "name": "stdout",
     "output_type": "stream",
     "text": [
      "View the evaluation results for project 'Mecainic RAG evaluation - 3c8c9c9a' at:\n",
      "https://smith.langchain.com/o/269156a3-d252-5d5c-9e5a-09f79ff84f0a/datasets/244ed1fc-2752-4ff1-a9ab-2f9c59227cc6/compare?selectedSessions=bc1d91da-2a9e-450f-aefc-736e7deb1d8e\n",
      "\n",
      "View all tests for Dataset Mecainic - evaluation dataset 5062703f at:\n",
      "https://smith.langchain.com/o/269156a3-d252-5d5c-9e5a-09f79ff84f0a/datasets/244ed1fc-2752-4ff1-a9ab-2f9c59227cc6\n",
      "[------------------------------------------------->] 3/3"
     ]
    },
    {
     "data": {
      "text/html": [
       "<h3>Experiment Results:</h3>"
      ],
      "text/plain": [
       "<IPython.core.display.HTML object>"
      ]
     },
     "metadata": {},
     "output_type": "display_data"
    },
    {
     "data": {
      "text/html": [
       "<div>\n",
       "<style scoped>\n",
       "    .dataframe tbody tr th:only-of-type {\n",
       "        vertical-align: middle;\n",
       "    }\n",
       "\n",
       "    .dataframe tbody tr th {\n",
       "        vertical-align: top;\n",
       "    }\n",
       "\n",
       "    .dataframe thead th {\n",
       "        text-align: right;\n",
       "    }\n",
       "</style>\n",
       "<table border=\"1\" class=\"dataframe\">\n",
       "  <thead>\n",
       "    <tr style=\"text-align: right;\">\n",
       "      <th></th>\n",
       "      <th>feedback.helpfulness</th>\n",
       "      <th>feedback.correctness</th>\n",
       "      <th>feedback.COT Contextual Accuracy</th>\n",
       "      <th>feedback.must_contain</th>\n",
       "      <th>error</th>\n",
       "      <th>execution_time</th>\n",
       "      <th>run_id</th>\n",
       "    </tr>\n",
       "  </thead>\n",
       "  <tbody>\n",
       "    <tr>\n",
       "      <th>count</th>\n",
       "      <td>0</td>\n",
       "      <td>0</td>\n",
       "      <td>0</td>\n",
       "      <td>3</td>\n",
       "      <td>0</td>\n",
       "      <td>3.000000</td>\n",
       "      <td>3</td>\n",
       "    </tr>\n",
       "    <tr>\n",
       "      <th>unique</th>\n",
       "      <td>0</td>\n",
       "      <td>0</td>\n",
       "      <td>0</td>\n",
       "      <td>1</td>\n",
       "      <td>0</td>\n",
       "      <td>NaN</td>\n",
       "      <td>3</td>\n",
       "    </tr>\n",
       "    <tr>\n",
       "      <th>top</th>\n",
       "      <td>NaN</td>\n",
       "      <td>NaN</td>\n",
       "      <td>NaN</td>\n",
       "      <td>False</td>\n",
       "      <td>NaN</td>\n",
       "      <td>NaN</td>\n",
       "      <td>95132308-589a-4278-af21-6f809c6f95c4</td>\n",
       "    </tr>\n",
       "    <tr>\n",
       "      <th>freq</th>\n",
       "      <td>NaN</td>\n",
       "      <td>NaN</td>\n",
       "      <td>NaN</td>\n",
       "      <td>3</td>\n",
       "      <td>NaN</td>\n",
       "      <td>NaN</td>\n",
       "      <td>1</td>\n",
       "    </tr>\n",
       "    <tr>\n",
       "      <th>mean</th>\n",
       "      <td>NaN</td>\n",
       "      <td>NaN</td>\n",
       "      <td>NaN</td>\n",
       "      <td>NaN</td>\n",
       "      <td>NaN</td>\n",
       "      <td>10.783394</td>\n",
       "      <td>NaN</td>\n",
       "    </tr>\n",
       "    <tr>\n",
       "      <th>std</th>\n",
       "      <td>NaN</td>\n",
       "      <td>NaN</td>\n",
       "      <td>NaN</td>\n",
       "      <td>NaN</td>\n",
       "      <td>NaN</td>\n",
       "      <td>3.170581</td>\n",
       "      <td>NaN</td>\n",
       "    </tr>\n",
       "    <tr>\n",
       "      <th>min</th>\n",
       "      <td>NaN</td>\n",
       "      <td>NaN</td>\n",
       "      <td>NaN</td>\n",
       "      <td>NaN</td>\n",
       "      <td>NaN</td>\n",
       "      <td>8.778438</td>\n",
       "      <td>NaN</td>\n",
       "    </tr>\n",
       "    <tr>\n",
       "      <th>25%</th>\n",
       "      <td>NaN</td>\n",
       "      <td>NaN</td>\n",
       "      <td>NaN</td>\n",
       "      <td>NaN</td>\n",
       "      <td>NaN</td>\n",
       "      <td>8.955722</td>\n",
       "      <td>NaN</td>\n",
       "    </tr>\n",
       "    <tr>\n",
       "      <th>50%</th>\n",
       "      <td>NaN</td>\n",
       "      <td>NaN</td>\n",
       "      <td>NaN</td>\n",
       "      <td>NaN</td>\n",
       "      <td>NaN</td>\n",
       "      <td>9.133006</td>\n",
       "      <td>NaN</td>\n",
       "    </tr>\n",
       "    <tr>\n",
       "      <th>75%</th>\n",
       "      <td>NaN</td>\n",
       "      <td>NaN</td>\n",
       "      <td>NaN</td>\n",
       "      <td>NaN</td>\n",
       "      <td>NaN</td>\n",
       "      <td>11.785872</td>\n",
       "      <td>NaN</td>\n",
       "    </tr>\n",
       "    <tr>\n",
       "      <th>max</th>\n",
       "      <td>NaN</td>\n",
       "      <td>NaN</td>\n",
       "      <td>NaN</td>\n",
       "      <td>NaN</td>\n",
       "      <td>NaN</td>\n",
       "      <td>14.438738</td>\n",
       "      <td>NaN</td>\n",
       "    </tr>\n",
       "  </tbody>\n",
       "</table>\n",
       "</div>"
      ],
      "text/plain": [
       "       feedback.helpfulness feedback.correctness  \\\n",
       "count                     0                    0   \n",
       "unique                    0                    0   \n",
       "top                     NaN                  NaN   \n",
       "freq                    NaN                  NaN   \n",
       "mean                    NaN                  NaN   \n",
       "std                     NaN                  NaN   \n",
       "min                     NaN                  NaN   \n",
       "25%                     NaN                  NaN   \n",
       "50%                     NaN                  NaN   \n",
       "75%                     NaN                  NaN   \n",
       "max                     NaN                  NaN   \n",
       "\n",
       "       feedback.COT Contextual Accuracy feedback.must_contain error  \\\n",
       "count                                 0                     3     0   \n",
       "unique                                0                     1     0   \n",
       "top                                 NaN                 False   NaN   \n",
       "freq                                NaN                     3   NaN   \n",
       "mean                                NaN                   NaN   NaN   \n",
       "std                                 NaN                   NaN   NaN   \n",
       "min                                 NaN                   NaN   NaN   \n",
       "25%                                 NaN                   NaN   NaN   \n",
       "50%                                 NaN                   NaN   NaN   \n",
       "75%                                 NaN                   NaN   NaN   \n",
       "max                                 NaN                   NaN   NaN   \n",
       "\n",
       "        execution_time                                run_id  \n",
       "count         3.000000                                     3  \n",
       "unique             NaN                                     3  \n",
       "top                NaN  95132308-589a-4278-af21-6f809c6f95c4  \n",
       "freq               NaN                                     1  \n",
       "mean         10.783394                                   NaN  \n",
       "std           3.170581                                   NaN  \n",
       "min           8.778438                                   NaN  \n",
       "25%           8.955722                                   NaN  \n",
       "50%           9.133006                                   NaN  \n",
       "75%          11.785872                                   NaN  \n",
       "max          14.438738                                   NaN  "
      ]
     },
     "metadata": {},
     "output_type": "display_data"
    },
    {
     "data": {
      "text/plain": [
       "{'project_name': 'Mecainic RAG evaluation - 3c8c9c9a',\n",
       " 'results': {'eb8c4e09-c9b0-4448-ae62-5d87dd5275d7': {'input': {'question': 'what is the primary purpose of Event Data Recorder?'},\n",
       "   'feedback': [EvaluationResult(key='helpfulness', score=None, value=None, comment='Error evaluating run 95132308-589a-4278-af21-6f809c6f95c4: Could not map run prediction with multiple keys: {\\'response\\': AIMessage(content=\\'The primary purpose of the Event Data Recorder (EDR) is to register and record data related to traffic accidents or collision-like situations, such as when the airbag deploys or the vehicle strikes an obstacle in the road. The data is recorded to increase understanding of how vehicle systems work in these types of situations.\\', response_metadata={\\'token_usage\\': {\\'completion_tokens\\': 63, \\'prompt_tokens\\': 1668, \\'total_tokens\\': 1731}, \\'model_name\\': \\'gpt-3.5-turbo\\', \\'system_fingerprint\\': \\'fp_3bc1b5746c\\', \\'finish_reason\\': \\'stop\\', \\'logprobs\\': None}), \\'context\\': [Document(page_content=\"data related to the following in the event of\\\\ntraffic accidents or collision-like situations:\\\\n\\\\x81How the various systems in the car\\\\nworked\\\\n\\\\x81Whether the driver and passenger seat-\\\\nbelts were fastened/tensioned\\\\n\\\\x81The driver\\'s use of the accelerator or brake\\\\npedal\\\\n\\\\x81The travel speed of the vehicle\\\\nThis information can help us understand the\\\\ncircumstances in which traffic accidents, inju-\\\\nries and damage occur. The EDR only recordsdata when a non-trivial collision situation\\\\noccurs. The EDR does not record any data\\\\nduring normal driving conditions. Similarly, the\\\\nsystem never registers who is driving the vehi-\\\\ncle or the geographic location of the accident\\\\nor near-miss situation. However, other parties,\\\\nsuch as the police, could use the recorded\\\\ndata in combination with the type of person-\\\\nally identifiable information routinely collected\\\\nafter a traffic accident. Special equipment and\\\\naccess to either the vehicle or the EDR is\\\\nrequired to be able to interpret the registered\\\\ndata.\\\\nIn addition to the EDR, the car is equipped\\\\nwith a number of computers designed to con-\\\\ntinually check and monitor the function of the\\\\ncar. They can record data during normal driv-\\\\ning conditions, but in particular register faults\\\\naffecting the vehicle\\'s operation and function-\\\\nality, or upon activation of the vehicle\\'s driver\\\\nsupport function (e.g. City Safety and the auto\\\\nbrake function).\\\\nSome of the recorded data is required to ena-\\\\nble service and maintenance technicians to\\\\ndiagnose and remedy any faults that occurred\\\\nin the vehicle. The registered information is\\\\nalso needed to enable Volvo to satisfy legal\\\\nrequirements laid out in laws and by govern-\\\\nment authorities. Information registered in the\\\\nvehicle is stored in its computer until the vehi-\\\\ncle is serviced or repaired.\", metadata={\\'page\\': 36.0, \\'source\\': \\'https://az685612.vo.msecnd.net/pdfs/20w17/XC60_OwnersManual_MY21_en-GB_TP32005/XC60_OwnersManual_MY21_en-GB_TP32005.pdf\\'}), Document(page_content=\\'YOUR VOLVO\\\\n}}\\\\n35Software updates\\\\nSo that you as a Volvo customer get the best\\\\nexperience of your car, Volvo continuously\\\\ndevelops the systems in the cars and the ser-\\\\nvices that you are offered.\\\\nIn connection with service at an authorised\\\\nVolvo dealer, the software in your Volvo will be\\\\nupdated to the latest version. The latest soft-\\\\nware update allows you to benefit from availa-\\\\nble improvements, including improvements\\\\nfrom earlier software updates.\\\\nFor more information about available updates\\\\nand frequently asked questions, visit\\\\nvolvocars.com/support.\\\\nNOTE\\\\nFunctionality after updating may vary\\\\ndepending on market, model, model year\\\\nand options.\\\\nRelated information\\\\n\\\\x81Sensus - online connectivity and entertain-\\\\nment (p. 32)\\\\n\\\\x81Managing system updates via the Down-\\\\nload Centre (p. 619)Recording data\\\\nAs part of Volvo\\\\\\'s safety and quality assur-\\\\nance, certain information about the vehicle\\\\\\'s\\\\noperation, functionality and incidents are\\\\nrecorded in the car.\\\\nEvent Data Recorder (EDR)\\\\nThis vehicle is equipped with an \"Event Data\\\\nRecorder\" (EDR). Its primary purpose is to\\\\nregister and record data related to traffic acci-\\\\ndents or collision-like situations, such as times\\\\nwhen the airbag deploys or the vehicle strikes\\\\nan obstacle in the road. The data is recorded in\\\\norder to increase understanding of how vehi-\\\\ncle systems work in these types of situations.\\\\nThe EDR is designed to record data related to\\\\nvehicle dynamics and safety systems for a\\\\nshort time, usually 30 seconds or less.\\\\nThe EDR in this vehicle is designed to record\\\\ndata related to the following in the event of\\\\ntraffic accidents or collision-like situations:\\\\n\\\\x81How the various systems in the car\\\\nworked\\\\n\\\\x81Whether the driver and passenger seat-\\', metadata={\\'page\\': 36.0, \\'source\\': \\'https://az685612.vo.msecnd.net/pdfs/20w17/XC60_OwnersManual_MY21_en-GB_TP32005/XC60_OwnersManual_MY21_en-GB_TP32005.pdf\\'}), Document(page_content=\\'DRIVER SUPPORT\\\\n* Option/accessory. 413Radar unit\\\\nThe radar unit is used by several driver sup-\\\\nport systems and has the task of sensing\\\\nother vehicles.\\\\nRadar unit location\\\\nThe radar unit is used by the following func-\\\\ntions:\\\\n\\\\x81Distance Warning *\\\\n\\\\x81Adaptive cruise control *\\\\n\\\\x81Pilot Assist *\\\\n\\\\x81Lane assistance\\\\n\\\\x81City Safety\\\\n\\\\x81Steering assistance at risk of collision\\\\nModification of the radar unit could result in its\\\\nuse being illegal.Related information\\\\n\\\\x81Driving support systems (p. 294)\\\\n\\\\x81Limitations for camera and radar unit\\\\n(p. 422)\\\\n\\\\x81Recommended maintenance for camera\\\\nand radar unit (p. 425)\\\\n\\\\x81Type approval for radar device (p. 414)\\', metadata={\\'page\\': 414.0, \\'source\\': \\'https://az685612.vo.msecnd.net/pdfs/20w17/XC60_OwnersManual_MY21_en-GB_TP32005/XC60_OwnersManual_MY21_en-GB_TP32005.pdf\\'}), Document(page_content=\"||DRIVER SUPPORT\\\\n* Option/accessory. 396WARNING\\\\n\\\\x81The function is supplementary driver\\\\nsupport intended to facilitate driving\\\\nand make it safer – it cannot handle all\\\\nsituations in all traffic, weather and\\\\nroad conditions.\\\\n\\\\x81The driver is advised to read all sec-\\\\ntions in the Owner\\'s Manual that relate\\\\nto this function to learn about factors\\\\nsuch as its limitations and what the\\\\ndriver should be aware of before using\\\\nthe system.\\\\n\\\\x81Driver support functions are not a sub-\\\\nstitute for the driver\\'s attention and\\\\njudgement. The driver is always\\\\nresponsible for ensuring the car is\\\\ndriven in a safe manner, at the appro-\\\\npriate speed, with an appropriate dis-\\\\ntance to other vehicles, and in accord-\\\\nance with current traffic rules and reg-\\\\nulations.\\\\nRelated information\\\\n\\\\x81Driving support systems (p. 294)\\\\n\\\\x81Park assist camera locations and surveil-\\\\nlance areas * (p. 396)\\\\n\\\\x81Park assist lines for park assist camera *\\\\n(p. 398)\\\\n\\\\x81Sensor fields for parking assistance sys-\\\\ntem (p. 400)\\\\x81Activate park assist camera (p. 402)\\\\n\\\\x81Symbols and messages for Park assist\\\\ncamera (p. 403)\\\\n\\\\x81Limitations for camera and radar unit\\\\n(p. 422)\\\\n\\\\x81Park Assist * (p. 389)\\\\n\\\\x81Cross Traffic Alert * (p. 385)Park assist camera locations and\\\\nsurveillance areas *\\\\nThe Park assist cameras (PAC124) can display\\\\na composite 360° view and separate views\\\\nfor each of the four cameras: rear, front, left\\\\nor right camera view.\", metadata={\\'page\\': 397.0, \\'source\\': \\'https://az685612.vo.msecnd.net/pdfs/20w17/XC60_OwnersManual_MY21_en-GB_TP32005/XC60_OwnersManual_MY21_en-GB_TP32005.pdf\\'})]}\\nPlease manually specify a prediction_key', correction=None, evaluator_info={}, source_run_id=None, target_run_id=None),\n",
       "    EvaluationResult(key='correctness', score=None, value=None, comment='Error evaluating run 95132308-589a-4278-af21-6f809c6f95c4: Could not map run prediction with multiple keys: {\\'response\\': AIMessage(content=\\'The primary purpose of the Event Data Recorder (EDR) is to register and record data related to traffic accidents or collision-like situations, such as when the airbag deploys or the vehicle strikes an obstacle in the road. The data is recorded to increase understanding of how vehicle systems work in these types of situations.\\', response_metadata={\\'token_usage\\': {\\'completion_tokens\\': 63, \\'prompt_tokens\\': 1668, \\'total_tokens\\': 1731}, \\'model_name\\': \\'gpt-3.5-turbo\\', \\'system_fingerprint\\': \\'fp_3bc1b5746c\\', \\'finish_reason\\': \\'stop\\', \\'logprobs\\': None}), \\'context\\': [Document(page_content=\"data related to the following in the event of\\\\ntraffic accidents or collision-like situations:\\\\n\\\\x81How the various systems in the car\\\\nworked\\\\n\\\\x81Whether the driver and passenger seat-\\\\nbelts were fastened/tensioned\\\\n\\\\x81The driver\\'s use of the accelerator or brake\\\\npedal\\\\n\\\\x81The travel speed of the vehicle\\\\nThis information can help us understand the\\\\ncircumstances in which traffic accidents, inju-\\\\nries and damage occur. The EDR only recordsdata when a non-trivial collision situation\\\\noccurs. The EDR does not record any data\\\\nduring normal driving conditions. Similarly, the\\\\nsystem never registers who is driving the vehi-\\\\ncle or the geographic location of the accident\\\\nor near-miss situation. However, other parties,\\\\nsuch as the police, could use the recorded\\\\ndata in combination with the type of person-\\\\nally identifiable information routinely collected\\\\nafter a traffic accident. Special equipment and\\\\naccess to either the vehicle or the EDR is\\\\nrequired to be able to interpret the registered\\\\ndata.\\\\nIn addition to the EDR, the car is equipped\\\\nwith a number of computers designed to con-\\\\ntinually check and monitor the function of the\\\\ncar. They can record data during normal driv-\\\\ning conditions, but in particular register faults\\\\naffecting the vehicle\\'s operation and function-\\\\nality, or upon activation of the vehicle\\'s driver\\\\nsupport function (e.g. City Safety and the auto\\\\nbrake function).\\\\nSome of the recorded data is required to ena-\\\\nble service and maintenance technicians to\\\\ndiagnose and remedy any faults that occurred\\\\nin the vehicle. The registered information is\\\\nalso needed to enable Volvo to satisfy legal\\\\nrequirements laid out in laws and by govern-\\\\nment authorities. Information registered in the\\\\nvehicle is stored in its computer until the vehi-\\\\ncle is serviced or repaired.\", metadata={\\'page\\': 36.0, \\'source\\': \\'https://az685612.vo.msecnd.net/pdfs/20w17/XC60_OwnersManual_MY21_en-GB_TP32005/XC60_OwnersManual_MY21_en-GB_TP32005.pdf\\'}), Document(page_content=\\'YOUR VOLVO\\\\n}}\\\\n35Software updates\\\\nSo that you as a Volvo customer get the best\\\\nexperience of your car, Volvo continuously\\\\ndevelops the systems in the cars and the ser-\\\\nvices that you are offered.\\\\nIn connection with service at an authorised\\\\nVolvo dealer, the software in your Volvo will be\\\\nupdated to the latest version. The latest soft-\\\\nware update allows you to benefit from availa-\\\\nble improvements, including improvements\\\\nfrom earlier software updates.\\\\nFor more information about available updates\\\\nand frequently asked questions, visit\\\\nvolvocars.com/support.\\\\nNOTE\\\\nFunctionality after updating may vary\\\\ndepending on market, model, model year\\\\nand options.\\\\nRelated information\\\\n\\\\x81Sensus - online connectivity and entertain-\\\\nment (p. 32)\\\\n\\\\x81Managing system updates via the Down-\\\\nload Centre (p. 619)Recording data\\\\nAs part of Volvo\\\\\\'s safety and quality assur-\\\\nance, certain information about the vehicle\\\\\\'s\\\\noperation, functionality and incidents are\\\\nrecorded in the car.\\\\nEvent Data Recorder (EDR)\\\\nThis vehicle is equipped with an \"Event Data\\\\nRecorder\" (EDR). Its primary purpose is to\\\\nregister and record data related to traffic acci-\\\\ndents or collision-like situations, such as times\\\\nwhen the airbag deploys or the vehicle strikes\\\\nan obstacle in the road. The data is recorded in\\\\norder to increase understanding of how vehi-\\\\ncle systems work in these types of situations.\\\\nThe EDR is designed to record data related to\\\\nvehicle dynamics and safety systems for a\\\\nshort time, usually 30 seconds or less.\\\\nThe EDR in this vehicle is designed to record\\\\ndata related to the following in the event of\\\\ntraffic accidents or collision-like situations:\\\\n\\\\x81How the various systems in the car\\\\nworked\\\\n\\\\x81Whether the driver and passenger seat-\\', metadata={\\'page\\': 36.0, \\'source\\': \\'https://az685612.vo.msecnd.net/pdfs/20w17/XC60_OwnersManual_MY21_en-GB_TP32005/XC60_OwnersManual_MY21_en-GB_TP32005.pdf\\'}), Document(page_content=\\'DRIVER SUPPORT\\\\n* Option/accessory. 413Radar unit\\\\nThe radar unit is used by several driver sup-\\\\nport systems and has the task of sensing\\\\nother vehicles.\\\\nRadar unit location\\\\nThe radar unit is used by the following func-\\\\ntions:\\\\n\\\\x81Distance Warning *\\\\n\\\\x81Adaptive cruise control *\\\\n\\\\x81Pilot Assist *\\\\n\\\\x81Lane assistance\\\\n\\\\x81City Safety\\\\n\\\\x81Steering assistance at risk of collision\\\\nModification of the radar unit could result in its\\\\nuse being illegal.Related information\\\\n\\\\x81Driving support systems (p. 294)\\\\n\\\\x81Limitations for camera and radar unit\\\\n(p. 422)\\\\n\\\\x81Recommended maintenance for camera\\\\nand radar unit (p. 425)\\\\n\\\\x81Type approval for radar device (p. 414)\\', metadata={\\'page\\': 414.0, \\'source\\': \\'https://az685612.vo.msecnd.net/pdfs/20w17/XC60_OwnersManual_MY21_en-GB_TP32005/XC60_OwnersManual_MY21_en-GB_TP32005.pdf\\'}), Document(page_content=\"||DRIVER SUPPORT\\\\n* Option/accessory. 396WARNING\\\\n\\\\x81The function is supplementary driver\\\\nsupport intended to facilitate driving\\\\nand make it safer – it cannot handle all\\\\nsituations in all traffic, weather and\\\\nroad conditions.\\\\n\\\\x81The driver is advised to read all sec-\\\\ntions in the Owner\\'s Manual that relate\\\\nto this function to learn about factors\\\\nsuch as its limitations and what the\\\\ndriver should be aware of before using\\\\nthe system.\\\\n\\\\x81Driver support functions are not a sub-\\\\nstitute for the driver\\'s attention and\\\\njudgement. The driver is always\\\\nresponsible for ensuring the car is\\\\ndriven in a safe manner, at the appro-\\\\npriate speed, with an appropriate dis-\\\\ntance to other vehicles, and in accord-\\\\nance with current traffic rules and reg-\\\\nulations.\\\\nRelated information\\\\n\\\\x81Driving support systems (p. 294)\\\\n\\\\x81Park assist camera locations and surveil-\\\\nlance areas * (p. 396)\\\\n\\\\x81Park assist lines for park assist camera *\\\\n(p. 398)\\\\n\\\\x81Sensor fields for parking assistance sys-\\\\ntem (p. 400)\\\\x81Activate park assist camera (p. 402)\\\\n\\\\x81Symbols and messages for Park assist\\\\ncamera (p. 403)\\\\n\\\\x81Limitations for camera and radar unit\\\\n(p. 422)\\\\n\\\\x81Park Assist * (p. 389)\\\\n\\\\x81Cross Traffic Alert * (p. 385)Park assist camera locations and\\\\nsurveillance areas *\\\\nThe Park assist cameras (PAC124) can display\\\\na composite 360° view and separate views\\\\nfor each of the four cameras: rear, front, left\\\\nor right camera view.\", metadata={\\'page\\': 397.0, \\'source\\': \\'https://az685612.vo.msecnd.net/pdfs/20w17/XC60_OwnersManual_MY21_en-GB_TP32005/XC60_OwnersManual_MY21_en-GB_TP32005.pdf\\'})]}\\nPlease manually specify a prediction_key', correction=None, evaluator_info={}, source_run_id=None, target_run_id=None),\n",
       "    EvaluationResult(key='COT Contextual Accuracy', score=None, value=None, comment='Error evaluating run 95132308-589a-4278-af21-6f809c6f95c4: Could not map run prediction with multiple keys: {\\'response\\': AIMessage(content=\\'The primary purpose of the Event Data Recorder (EDR) is to register and record data related to traffic accidents or collision-like situations, such as when the airbag deploys or the vehicle strikes an obstacle in the road. The data is recorded to increase understanding of how vehicle systems work in these types of situations.\\', response_metadata={\\'token_usage\\': {\\'completion_tokens\\': 63, \\'prompt_tokens\\': 1668, \\'total_tokens\\': 1731}, \\'model_name\\': \\'gpt-3.5-turbo\\', \\'system_fingerprint\\': \\'fp_3bc1b5746c\\', \\'finish_reason\\': \\'stop\\', \\'logprobs\\': None}), \\'context\\': [Document(page_content=\"data related to the following in the event of\\\\ntraffic accidents or collision-like situations:\\\\n\\\\x81How the various systems in the car\\\\nworked\\\\n\\\\x81Whether the driver and passenger seat-\\\\nbelts were fastened/tensioned\\\\n\\\\x81The driver\\'s use of the accelerator or brake\\\\npedal\\\\n\\\\x81The travel speed of the vehicle\\\\nThis information can help us understand the\\\\ncircumstances in which traffic accidents, inju-\\\\nries and damage occur. The EDR only recordsdata when a non-trivial collision situation\\\\noccurs. The EDR does not record any data\\\\nduring normal driving conditions. Similarly, the\\\\nsystem never registers who is driving the vehi-\\\\ncle or the geographic location of the accident\\\\nor near-miss situation. However, other parties,\\\\nsuch as the police, could use the recorded\\\\ndata in combination with the type of person-\\\\nally identifiable information routinely collected\\\\nafter a traffic accident. Special equipment and\\\\naccess to either the vehicle or the EDR is\\\\nrequired to be able to interpret the registered\\\\ndata.\\\\nIn addition to the EDR, the car is equipped\\\\nwith a number of computers designed to con-\\\\ntinually check and monitor the function of the\\\\ncar. They can record data during normal driv-\\\\ning conditions, but in particular register faults\\\\naffecting the vehicle\\'s operation and function-\\\\nality, or upon activation of the vehicle\\'s driver\\\\nsupport function (e.g. City Safety and the auto\\\\nbrake function).\\\\nSome of the recorded data is required to ena-\\\\nble service and maintenance technicians to\\\\ndiagnose and remedy any faults that occurred\\\\nin the vehicle. The registered information is\\\\nalso needed to enable Volvo to satisfy legal\\\\nrequirements laid out in laws and by govern-\\\\nment authorities. Information registered in the\\\\nvehicle is stored in its computer until the vehi-\\\\ncle is serviced or repaired.\", metadata={\\'page\\': 36.0, \\'source\\': \\'https://az685612.vo.msecnd.net/pdfs/20w17/XC60_OwnersManual_MY21_en-GB_TP32005/XC60_OwnersManual_MY21_en-GB_TP32005.pdf\\'}), Document(page_content=\\'YOUR VOLVO\\\\n}}\\\\n35Software updates\\\\nSo that you as a Volvo customer get the best\\\\nexperience of your car, Volvo continuously\\\\ndevelops the systems in the cars and the ser-\\\\nvices that you are offered.\\\\nIn connection with service at an authorised\\\\nVolvo dealer, the software in your Volvo will be\\\\nupdated to the latest version. The latest soft-\\\\nware update allows you to benefit from availa-\\\\nble improvements, including improvements\\\\nfrom earlier software updates.\\\\nFor more information about available updates\\\\nand frequently asked questions, visit\\\\nvolvocars.com/support.\\\\nNOTE\\\\nFunctionality after updating may vary\\\\ndepending on market, model, model year\\\\nand options.\\\\nRelated information\\\\n\\\\x81Sensus - online connectivity and entertain-\\\\nment (p. 32)\\\\n\\\\x81Managing system updates via the Down-\\\\nload Centre (p. 619)Recording data\\\\nAs part of Volvo\\\\\\'s safety and quality assur-\\\\nance, certain information about the vehicle\\\\\\'s\\\\noperation, functionality and incidents are\\\\nrecorded in the car.\\\\nEvent Data Recorder (EDR)\\\\nThis vehicle is equipped with an \"Event Data\\\\nRecorder\" (EDR). Its primary purpose is to\\\\nregister and record data related to traffic acci-\\\\ndents or collision-like situations, such as times\\\\nwhen the airbag deploys or the vehicle strikes\\\\nan obstacle in the road. The data is recorded in\\\\norder to increase understanding of how vehi-\\\\ncle systems work in these types of situations.\\\\nThe EDR is designed to record data related to\\\\nvehicle dynamics and safety systems for a\\\\nshort time, usually 30 seconds or less.\\\\nThe EDR in this vehicle is designed to record\\\\ndata related to the following in the event of\\\\ntraffic accidents or collision-like situations:\\\\n\\\\x81How the various systems in the car\\\\nworked\\\\n\\\\x81Whether the driver and passenger seat-\\', metadata={\\'page\\': 36.0, \\'source\\': \\'https://az685612.vo.msecnd.net/pdfs/20w17/XC60_OwnersManual_MY21_en-GB_TP32005/XC60_OwnersManual_MY21_en-GB_TP32005.pdf\\'}), Document(page_content=\\'DRIVER SUPPORT\\\\n* Option/accessory. 413Radar unit\\\\nThe radar unit is used by several driver sup-\\\\nport systems and has the task of sensing\\\\nother vehicles.\\\\nRadar unit location\\\\nThe radar unit is used by the following func-\\\\ntions:\\\\n\\\\x81Distance Warning *\\\\n\\\\x81Adaptive cruise control *\\\\n\\\\x81Pilot Assist *\\\\n\\\\x81Lane assistance\\\\n\\\\x81City Safety\\\\n\\\\x81Steering assistance at risk of collision\\\\nModification of the radar unit could result in its\\\\nuse being illegal.Related information\\\\n\\\\x81Driving support systems (p. 294)\\\\n\\\\x81Limitations for camera and radar unit\\\\n(p. 422)\\\\n\\\\x81Recommended maintenance for camera\\\\nand radar unit (p. 425)\\\\n\\\\x81Type approval for radar device (p. 414)\\', metadata={\\'page\\': 414.0, \\'source\\': \\'https://az685612.vo.msecnd.net/pdfs/20w17/XC60_OwnersManual_MY21_en-GB_TP32005/XC60_OwnersManual_MY21_en-GB_TP32005.pdf\\'}), Document(page_content=\"||DRIVER SUPPORT\\\\n* Option/accessory. 396WARNING\\\\n\\\\x81The function is supplementary driver\\\\nsupport intended to facilitate driving\\\\nand make it safer – it cannot handle all\\\\nsituations in all traffic, weather and\\\\nroad conditions.\\\\n\\\\x81The driver is advised to read all sec-\\\\ntions in the Owner\\'s Manual that relate\\\\nto this function to learn about factors\\\\nsuch as its limitations and what the\\\\ndriver should be aware of before using\\\\nthe system.\\\\n\\\\x81Driver support functions are not a sub-\\\\nstitute for the driver\\'s attention and\\\\njudgement. The driver is always\\\\nresponsible for ensuring the car is\\\\ndriven in a safe manner, at the appro-\\\\npriate speed, with an appropriate dis-\\\\ntance to other vehicles, and in accord-\\\\nance with current traffic rules and reg-\\\\nulations.\\\\nRelated information\\\\n\\\\x81Driving support systems (p. 294)\\\\n\\\\x81Park assist camera locations and surveil-\\\\nlance areas * (p. 396)\\\\n\\\\x81Park assist lines for park assist camera *\\\\n(p. 398)\\\\n\\\\x81Sensor fields for parking assistance sys-\\\\ntem (p. 400)\\\\x81Activate park assist camera (p. 402)\\\\n\\\\x81Symbols and messages for Park assist\\\\ncamera (p. 403)\\\\n\\\\x81Limitations for camera and radar unit\\\\n(p. 422)\\\\n\\\\x81Park Assist * (p. 389)\\\\n\\\\x81Cross Traffic Alert * (p. 385)Park assist camera locations and\\\\nsurveillance areas *\\\\nThe Park assist cameras (PAC124) can display\\\\na composite 360° view and separate views\\\\nfor each of the four cameras: rear, front, left\\\\nor right camera view.\", metadata={\\'page\\': 397.0, \\'source\\': \\'https://az685612.vo.msecnd.net/pdfs/20w17/XC60_OwnersManual_MY21_en-GB_TP32005/XC60_OwnersManual_MY21_en-GB_TP32005.pdf\\'})]}\\nPlease manually specify a prediction_key', correction=None, evaluator_info={}, source_run_id=None, target_run_id=None),\n",
       "    EvaluationResult(key='must_contain', score=False, value=None, comment=None, correction=None, evaluator_info={}, source_run_id=None, target_run_id=None)],\n",
       "   'execution_time': 8.778438,\n",
       "   'run_id': '95132308-589a-4278-af21-6f809c6f95c4',\n",
       "   'output': {'response': AIMessage(content='The primary purpose of the Event Data Recorder (EDR) is to register and record data related to traffic accidents or collision-like situations, such as when the airbag deploys or the vehicle strikes an obstacle in the road. The data is recorded to increase understanding of how vehicle systems work in these types of situations.', response_metadata={'token_usage': {'completion_tokens': 63, 'prompt_tokens': 1668, 'total_tokens': 1731}, 'model_name': 'gpt-3.5-turbo', 'system_fingerprint': 'fp_3bc1b5746c', 'finish_reason': 'stop', 'logprobs': None}),\n",
       "    'context': [Document(page_content=\"data related to the following in the event of\\ntraffic accidents or collision-like situations:\\n\\x81How the various systems in the car\\nworked\\n\\x81Whether the driver and passenger seat-\\nbelts were fastened/tensioned\\n\\x81The driver's use of the accelerator or brake\\npedal\\n\\x81The travel speed of the vehicle\\nThis information can help us understand the\\ncircumstances in which traffic accidents, inju-\\nries and damage occur. The EDR only recordsdata when a non-trivial collision situation\\noccurs. The EDR does not record any data\\nduring normal driving conditions. Similarly, the\\nsystem never registers who is driving the vehi-\\ncle or the geographic location of the accident\\nor near-miss situation. However, other parties,\\nsuch as the police, could use the recorded\\ndata in combination with the type of person-\\nally identifiable information routinely collected\\nafter a traffic accident. Special equipment and\\naccess to either the vehicle or the EDR is\\nrequired to be able to interpret the registered\\ndata.\\nIn addition to the EDR, the car is equipped\\nwith a number of computers designed to con-\\ntinually check and monitor the function of the\\ncar. They can record data during normal driv-\\ning conditions, but in particular register faults\\naffecting the vehicle's operation and function-\\nality, or upon activation of the vehicle's driver\\nsupport function (e.g. City Safety and the auto\\nbrake function).\\nSome of the recorded data is required to ena-\\nble service and maintenance technicians to\\ndiagnose and remedy any faults that occurred\\nin the vehicle. The registered information is\\nalso needed to enable Volvo to satisfy legal\\nrequirements laid out in laws and by govern-\\nment authorities. Information registered in the\\nvehicle is stored in its computer until the vehi-\\ncle is serviced or repaired.\", metadata={'page': 36.0, 'source': 'https://az685612.vo.msecnd.net/pdfs/20w17/XC60_OwnersManual_MY21_en-GB_TP32005/XC60_OwnersManual_MY21_en-GB_TP32005.pdf'}),\n",
       "     Document(page_content='YOUR VOLVO\\n}}\\n35Software updates\\nSo that you as a Volvo customer get the best\\nexperience of your car, Volvo continuously\\ndevelops the systems in the cars and the ser-\\nvices that you are offered.\\nIn connection with service at an authorised\\nVolvo dealer, the software in your Volvo will be\\nupdated to the latest version. The latest soft-\\nware update allows you to benefit from availa-\\nble improvements, including improvements\\nfrom earlier software updates.\\nFor more information about available updates\\nand frequently asked questions, visit\\nvolvocars.com/support.\\nNOTE\\nFunctionality after updating may vary\\ndepending on market, model, model year\\nand options.\\nRelated information\\n\\x81Sensus - online connectivity and entertain-\\nment (p. 32)\\n\\x81Managing system updates via the Down-\\nload Centre (p. 619)Recording data\\nAs part of Volvo\\'s safety and quality assur-\\nance, certain information about the vehicle\\'s\\noperation, functionality and incidents are\\nrecorded in the car.\\nEvent Data Recorder (EDR)\\nThis vehicle is equipped with an \"Event Data\\nRecorder\" (EDR). Its primary purpose is to\\nregister and record data related to traffic acci-\\ndents or collision-like situations, such as times\\nwhen the airbag deploys or the vehicle strikes\\nan obstacle in the road. The data is recorded in\\norder to increase understanding of how vehi-\\ncle systems work in these types of situations.\\nThe EDR is designed to record data related to\\nvehicle dynamics and safety systems for a\\nshort time, usually 30 seconds or less.\\nThe EDR in this vehicle is designed to record\\ndata related to the following in the event of\\ntraffic accidents or collision-like situations:\\n\\x81How the various systems in the car\\nworked\\n\\x81Whether the driver and passenger seat-', metadata={'page': 36.0, 'source': 'https://az685612.vo.msecnd.net/pdfs/20w17/XC60_OwnersManual_MY21_en-GB_TP32005/XC60_OwnersManual_MY21_en-GB_TP32005.pdf'}),\n",
       "     Document(page_content='DRIVER SUPPORT\\n* Option/accessory. 413Radar unit\\nThe radar unit is used by several driver sup-\\nport systems and has the task of sensing\\nother vehicles.\\nRadar unit location\\nThe radar unit is used by the following func-\\ntions:\\n\\x81Distance Warning *\\n\\x81Adaptive cruise control *\\n\\x81Pilot Assist *\\n\\x81Lane assistance\\n\\x81City Safety\\n\\x81Steering assistance at risk of collision\\nModification of the radar unit could result in its\\nuse being illegal.Related information\\n\\x81Driving support systems (p. 294)\\n\\x81Limitations for camera and radar unit\\n(p. 422)\\n\\x81Recommended maintenance for camera\\nand radar unit (p. 425)\\n\\x81Type approval for radar device (p. 414)', metadata={'page': 414.0, 'source': 'https://az685612.vo.msecnd.net/pdfs/20w17/XC60_OwnersManual_MY21_en-GB_TP32005/XC60_OwnersManual_MY21_en-GB_TP32005.pdf'}),\n",
       "     Document(page_content=\"||DRIVER SUPPORT\\n* Option/accessory. 396WARNING\\n\\x81The function is supplementary driver\\nsupport intended to facilitate driving\\nand make it safer – it cannot handle all\\nsituations in all traffic, weather and\\nroad conditions.\\n\\x81The driver is advised to read all sec-\\ntions in the Owner's Manual that relate\\nto this function to learn about factors\\nsuch as its limitations and what the\\ndriver should be aware of before using\\nthe system.\\n\\x81Driver support functions are not a sub-\\nstitute for the driver's attention and\\njudgement. The driver is always\\nresponsible for ensuring the car is\\ndriven in a safe manner, at the appro-\\npriate speed, with an appropriate dis-\\ntance to other vehicles, and in accord-\\nance with current traffic rules and reg-\\nulations.\\nRelated information\\n\\x81Driving support systems (p. 294)\\n\\x81Park assist camera locations and surveil-\\nlance areas * (p. 396)\\n\\x81Park assist lines for park assist camera *\\n(p. 398)\\n\\x81Sensor fields for parking assistance sys-\\ntem (p. 400)\\x81Activate park assist camera (p. 402)\\n\\x81Symbols and messages for Park assist\\ncamera (p. 403)\\n\\x81Limitations for camera and radar unit\\n(p. 422)\\n\\x81Park Assist * (p. 389)\\n\\x81Cross Traffic Alert * (p. 385)Park assist camera locations and\\nsurveillance areas *\\nThe Park assist cameras (PAC124) can display\\na composite 360° view and separate views\\nfor each of the four cameras: rear, front, left\\nor right camera view.\", metadata={'page': 397.0, 'source': 'https://az685612.vo.msecnd.net/pdfs/20w17/XC60_OwnersManual_MY21_en-GB_TP32005/XC60_OwnersManual_MY21_en-GB_TP32005.pdf'})]},\n",
       "   'reference': {'must_contain': ['EDR']}},\n",
       "  'c5649e93-a78f-433a-8b0a-c725c00e8759': {'input': {'question': 'how do you manage the centre display?'},\n",
       "   'feedback': [EvaluationResult(key='helpfulness', score=None, value=None, comment='Error evaluating run b0eacea0-3fd8-4bee-85b1-25fb6ef32960: Could not map run prediction with multiple keys: {\\'response\\': AIMessage(content=\"To manage the centre display, you can control and regulate many of the car\\'s functions through the touch screen functionality. The screen reacts differently depending on whether it is touched by dragging, swiping, or tapping. Actions such as browsing between different views, marking objects, and scrolling in a list can be performed by touching the screen in different ways. Additionally, you can press once to highlight an object, confirm a selection, or activate a function, press twice quickly to zoom in on a digital object, press and hold to grab an object and move it, and tap once with two fingers to zoom out from a digital object. Remember not to use sharp objects on the screen to prevent scratching.\", response_metadata={\\'token_usage\\': {\\'completion_tokens\\': 138, \\'prompt_tokens\\': 1100, \\'total_tokens\\': 1238}, \\'model_name\\': \\'gpt-3.5-turbo\\', \\'system_fingerprint\\': \\'fp_3bc1b5746c\\', \\'finish_reason\\': \\'stop\\', \\'logprobs\\': None}), \\'context\\': [Document(page_content=\"DISPLAYS AND VOICE CONTROL\\\\n104Overview of centre display\\\\nMany of the car\\'s functions are controlled\\\\nfrom the centre display. Presented here is the\\\\ncentre display and its options.\", metadata={\\'page\\': 105.0, \\'source\\': \\'https://az685612.vo.msecnd.net/pdfs/20w17/XC60_OwnersManual_MY21_en-GB_TP32005/XC60_OwnersManual_MY21_en-GB_TP32005.pdf\\'}), Document(page_content=\"DISPLAYS AND VOICE CONTROL\\\\n}}\\\\n107Managing the centre display\\\\nMany of the car\\'s functions are controlled and\\\\nregulated from the centre display. The centre\\\\ndisplay is a touch screen that reacts to touch.\\\\nUsing the touch screen functionality in\\\\nthe centre display\\\\nThe screen reacts differently depending on\\\\nwhether it is touched by dragging, swiping, or\\\\ntapping. Actions such as browsing between\\\\ndifferent views, marking objects and scrollingin a list can be performed by touching the\\\\nscreen in different ways.\\\\nAn infrared light curtain just above the surface\\\\nof the screen enables the screen to detect a\\\\nfinger that is just in front of the screen. This\\\\ntechnology makes it possible to use the\\\\nscreen even with gloves on.\\\\nTwo people can interact with the screen at the\\\\nsame time, e.g. to adjust the climate for the\\\\ndriver and passenger side respectively.IMPORTANT\\\\nDo not use sharp objects on the screen as\\\\nthey may scratch it.\\\\nThe table below presents the different proce-\\\\ndures for operating the screen:\\\\nProcedure Execution Result\\\\nPress once. Highlights an object, confirms a selection or activates a function.\\\\nPress twice in quick suc-\\\\ncession.Zooms in on a digital object, such as the map.\\\\nPress and hold. Grabs an object. Can be used to move apps or map points on the map. Press and hold your finger\\\\nagainst the screen and at the same time drag the object to the desired location.\\\\nTap once with two fin-\\\\ngers.Zooms out from a digital object, such as the map.\", metadata={\\'page\\': 108.0, \\'source\\': \\'https://az685612.vo.msecnd.net/pdfs/20w17/XC60_OwnersManual_MY21_en-GB_TP32005/XC60_OwnersManual_MY21_en-GB_TP32005.pdf\\'}), Document(page_content=\"ton.\\\\nRelated information\\\\n\\\\x81Managing the centre display (p. 107)\\\\n\\\\x81Activating and deactivating centre display\\\\n(p. 110)\\\\n\\\\x81Navigating in the centre display\\'s views\\\\n(p. 110)\\\\n9Does not apply to all apps or car functions opened via the extra tile.\", metadata={\\'page\\': 117.0, \\'source\\': \\'https://az685612.vo.msecnd.net/pdfs/20w17/XC60_OwnersManual_MY21_en-GB_TP32005/XC60_OwnersManual_MY21_en-GB_TP32005.pdf\\'}), Document(page_content=\"DISPLAYS AND VOICE CONTROL\\\\n}}\\\\n135Message in centre display\\\\nThe centre display can show messages to\\\\ninform or assist the driver in the event of dif-\\\\nferent events.\\\\nExample of a message in the centre display\\'s top\\\\nview.\\\\nThe centre display shows messages that are\\\\nof lower priority for the driver.\\\\nMost messages are shown above the centre\\\\ndisplay\\'s status bar. After a while, or when any\\\\nrequired action related to the message has\\\\nbeen taken, the message disappears from the\\\\nstatus bar. If a message needs to be saved, it\\\\nis positioned in the top view in the centre dis-\\\\nplay.\\\\nMessage composition may vary and they can\\\\nbe shown together with graphics, symbols or\\\\na button for activating/deactivating a function\\\\nlinked to the message.Pop-up messages\\\\nIn some cases, a message is shown in the\\\\nform of a pop-up window. Pop-up messages\\\\nhave higher priority than messages shown in\\\\nthe status bar and require acknowledgement/\\\\naction before they disappear.\\\\nRelated information\\\\n\\\\x81Managing messages in the centre display\\\\n(p. 135)\\\\n\\\\x81Handling a message saved from the cen-\\\\ntre display (p. 136)\\\\n\\\\x81Messages in the driver display (p. 100)Managing messages in the centre\\\\ndisplay\\\\nMessages in the centre display are handled in\\\\ncentre display views.\\\\nExample of a message in the centre display\\'s top\\\\nview.\\\\nSome messages in the centre display have a\\\\nbutton (or several buttons in pop-up mes-\\\\nsages) for e.g. activating/deactivating a func-\\\\ntion linked to the message.\", metadata={\\'page\\': 136.0, \\'source\\': \\'https://az685612.vo.msecnd.net/pdfs/20w17/XC60_OwnersManual_MY21_en-GB_TP32005/XC60_OwnersManual_MY21_en-GB_TP32005.pdf\\'})]}\\nPlease manually specify a prediction_key', correction=None, evaluator_info={}, source_run_id=None, target_run_id=None),\n",
       "    EvaluationResult(key='correctness', score=None, value=None, comment='Error evaluating run b0eacea0-3fd8-4bee-85b1-25fb6ef32960: Could not map run prediction with multiple keys: {\\'response\\': AIMessage(content=\"To manage the centre display, you can control and regulate many of the car\\'s functions through the touch screen functionality. The screen reacts differently depending on whether it is touched by dragging, swiping, or tapping. Actions such as browsing between different views, marking objects, and scrolling in a list can be performed by touching the screen in different ways. Additionally, you can press once to highlight an object, confirm a selection, or activate a function, press twice quickly to zoom in on a digital object, press and hold to grab an object and move it, and tap once with two fingers to zoom out from a digital object. Remember not to use sharp objects on the screen to prevent scratching.\", response_metadata={\\'token_usage\\': {\\'completion_tokens\\': 138, \\'prompt_tokens\\': 1100, \\'total_tokens\\': 1238}, \\'model_name\\': \\'gpt-3.5-turbo\\', \\'system_fingerprint\\': \\'fp_3bc1b5746c\\', \\'finish_reason\\': \\'stop\\', \\'logprobs\\': None}), \\'context\\': [Document(page_content=\"DISPLAYS AND VOICE CONTROL\\\\n104Overview of centre display\\\\nMany of the car\\'s functions are controlled\\\\nfrom the centre display. Presented here is the\\\\ncentre display and its options.\", metadata={\\'page\\': 105.0, \\'source\\': \\'https://az685612.vo.msecnd.net/pdfs/20w17/XC60_OwnersManual_MY21_en-GB_TP32005/XC60_OwnersManual_MY21_en-GB_TP32005.pdf\\'}), Document(page_content=\"DISPLAYS AND VOICE CONTROL\\\\n}}\\\\n107Managing the centre display\\\\nMany of the car\\'s functions are controlled and\\\\nregulated from the centre display. The centre\\\\ndisplay is a touch screen that reacts to touch.\\\\nUsing the touch screen functionality in\\\\nthe centre display\\\\nThe screen reacts differently depending on\\\\nwhether it is touched by dragging, swiping, or\\\\ntapping. Actions such as browsing between\\\\ndifferent views, marking objects and scrollingin a list can be performed by touching the\\\\nscreen in different ways.\\\\nAn infrared light curtain just above the surface\\\\nof the screen enables the screen to detect a\\\\nfinger that is just in front of the screen. This\\\\ntechnology makes it possible to use the\\\\nscreen even with gloves on.\\\\nTwo people can interact with the screen at the\\\\nsame time, e.g. to adjust the climate for the\\\\ndriver and passenger side respectively.IMPORTANT\\\\nDo not use sharp objects on the screen as\\\\nthey may scratch it.\\\\nThe table below presents the different proce-\\\\ndures for operating the screen:\\\\nProcedure Execution Result\\\\nPress once. Highlights an object, confirms a selection or activates a function.\\\\nPress twice in quick suc-\\\\ncession.Zooms in on a digital object, such as the map.\\\\nPress and hold. Grabs an object. Can be used to move apps or map points on the map. Press and hold your finger\\\\nagainst the screen and at the same time drag the object to the desired location.\\\\nTap once with two fin-\\\\ngers.Zooms out from a digital object, such as the map.\", metadata={\\'page\\': 108.0, \\'source\\': \\'https://az685612.vo.msecnd.net/pdfs/20w17/XC60_OwnersManual_MY21_en-GB_TP32005/XC60_OwnersManual_MY21_en-GB_TP32005.pdf\\'}), Document(page_content=\"ton.\\\\nRelated information\\\\n\\\\x81Managing the centre display (p. 107)\\\\n\\\\x81Activating and deactivating centre display\\\\n(p. 110)\\\\n\\\\x81Navigating in the centre display\\'s views\\\\n(p. 110)\\\\n9Does not apply to all apps or car functions opened via the extra tile.\", metadata={\\'page\\': 117.0, \\'source\\': \\'https://az685612.vo.msecnd.net/pdfs/20w17/XC60_OwnersManual_MY21_en-GB_TP32005/XC60_OwnersManual_MY21_en-GB_TP32005.pdf\\'}), Document(page_content=\"DISPLAYS AND VOICE CONTROL\\\\n}}\\\\n135Message in centre display\\\\nThe centre display can show messages to\\\\ninform or assist the driver in the event of dif-\\\\nferent events.\\\\nExample of a message in the centre display\\'s top\\\\nview.\\\\nThe centre display shows messages that are\\\\nof lower priority for the driver.\\\\nMost messages are shown above the centre\\\\ndisplay\\'s status bar. After a while, or when any\\\\nrequired action related to the message has\\\\nbeen taken, the message disappears from the\\\\nstatus bar. If a message needs to be saved, it\\\\nis positioned in the top view in the centre dis-\\\\nplay.\\\\nMessage composition may vary and they can\\\\nbe shown together with graphics, symbols or\\\\na button for activating/deactivating a function\\\\nlinked to the message.Pop-up messages\\\\nIn some cases, a message is shown in the\\\\nform of a pop-up window. Pop-up messages\\\\nhave higher priority than messages shown in\\\\nthe status bar and require acknowledgement/\\\\naction before they disappear.\\\\nRelated information\\\\n\\\\x81Managing messages in the centre display\\\\n(p. 135)\\\\n\\\\x81Handling a message saved from the cen-\\\\ntre display (p. 136)\\\\n\\\\x81Messages in the driver display (p. 100)Managing messages in the centre\\\\ndisplay\\\\nMessages in the centre display are handled in\\\\ncentre display views.\\\\nExample of a message in the centre display\\'s top\\\\nview.\\\\nSome messages in the centre display have a\\\\nbutton (or several buttons in pop-up mes-\\\\nsages) for e.g. activating/deactivating a func-\\\\ntion linked to the message.\", metadata={\\'page\\': 136.0, \\'source\\': \\'https://az685612.vo.msecnd.net/pdfs/20w17/XC60_OwnersManual_MY21_en-GB_TP32005/XC60_OwnersManual_MY21_en-GB_TP32005.pdf\\'})]}\\nPlease manually specify a prediction_key', correction=None, evaluator_info={}, source_run_id=None, target_run_id=None),\n",
       "    EvaluationResult(key='COT Contextual Accuracy', score=None, value=None, comment='Error evaluating run b0eacea0-3fd8-4bee-85b1-25fb6ef32960: Could not map run prediction with multiple keys: {\\'response\\': AIMessage(content=\"To manage the centre display, you can control and regulate many of the car\\'s functions through the touch screen functionality. The screen reacts differently depending on whether it is touched by dragging, swiping, or tapping. Actions such as browsing between different views, marking objects, and scrolling in a list can be performed by touching the screen in different ways. Additionally, you can press once to highlight an object, confirm a selection, or activate a function, press twice quickly to zoom in on a digital object, press and hold to grab an object and move it, and tap once with two fingers to zoom out from a digital object. Remember not to use sharp objects on the screen to prevent scratching.\", response_metadata={\\'token_usage\\': {\\'completion_tokens\\': 138, \\'prompt_tokens\\': 1100, \\'total_tokens\\': 1238}, \\'model_name\\': \\'gpt-3.5-turbo\\', \\'system_fingerprint\\': \\'fp_3bc1b5746c\\', \\'finish_reason\\': \\'stop\\', \\'logprobs\\': None}), \\'context\\': [Document(page_content=\"DISPLAYS AND VOICE CONTROL\\\\n104Overview of centre display\\\\nMany of the car\\'s functions are controlled\\\\nfrom the centre display. Presented here is the\\\\ncentre display and its options.\", metadata={\\'page\\': 105.0, \\'source\\': \\'https://az685612.vo.msecnd.net/pdfs/20w17/XC60_OwnersManual_MY21_en-GB_TP32005/XC60_OwnersManual_MY21_en-GB_TP32005.pdf\\'}), Document(page_content=\"DISPLAYS AND VOICE CONTROL\\\\n}}\\\\n107Managing the centre display\\\\nMany of the car\\'s functions are controlled and\\\\nregulated from the centre display. The centre\\\\ndisplay is a touch screen that reacts to touch.\\\\nUsing the touch screen functionality in\\\\nthe centre display\\\\nThe screen reacts differently depending on\\\\nwhether it is touched by dragging, swiping, or\\\\ntapping. Actions such as browsing between\\\\ndifferent views, marking objects and scrollingin a list can be performed by touching the\\\\nscreen in different ways.\\\\nAn infrared light curtain just above the surface\\\\nof the screen enables the screen to detect a\\\\nfinger that is just in front of the screen. This\\\\ntechnology makes it possible to use the\\\\nscreen even with gloves on.\\\\nTwo people can interact with the screen at the\\\\nsame time, e.g. to adjust the climate for the\\\\ndriver and passenger side respectively.IMPORTANT\\\\nDo not use sharp objects on the screen as\\\\nthey may scratch it.\\\\nThe table below presents the different proce-\\\\ndures for operating the screen:\\\\nProcedure Execution Result\\\\nPress once. Highlights an object, confirms a selection or activates a function.\\\\nPress twice in quick suc-\\\\ncession.Zooms in on a digital object, such as the map.\\\\nPress and hold. Grabs an object. Can be used to move apps or map points on the map. Press and hold your finger\\\\nagainst the screen and at the same time drag the object to the desired location.\\\\nTap once with two fin-\\\\ngers.Zooms out from a digital object, such as the map.\", metadata={\\'page\\': 108.0, \\'source\\': \\'https://az685612.vo.msecnd.net/pdfs/20w17/XC60_OwnersManual_MY21_en-GB_TP32005/XC60_OwnersManual_MY21_en-GB_TP32005.pdf\\'}), Document(page_content=\"ton.\\\\nRelated information\\\\n\\\\x81Managing the centre display (p. 107)\\\\n\\\\x81Activating and deactivating centre display\\\\n(p. 110)\\\\n\\\\x81Navigating in the centre display\\'s views\\\\n(p. 110)\\\\n9Does not apply to all apps or car functions opened via the extra tile.\", metadata={\\'page\\': 117.0, \\'source\\': \\'https://az685612.vo.msecnd.net/pdfs/20w17/XC60_OwnersManual_MY21_en-GB_TP32005/XC60_OwnersManual_MY21_en-GB_TP32005.pdf\\'}), Document(page_content=\"DISPLAYS AND VOICE CONTROL\\\\n}}\\\\n135Message in centre display\\\\nThe centre display can show messages to\\\\ninform or assist the driver in the event of dif-\\\\nferent events.\\\\nExample of a message in the centre display\\'s top\\\\nview.\\\\nThe centre display shows messages that are\\\\nof lower priority for the driver.\\\\nMost messages are shown above the centre\\\\ndisplay\\'s status bar. After a while, or when any\\\\nrequired action related to the message has\\\\nbeen taken, the message disappears from the\\\\nstatus bar. If a message needs to be saved, it\\\\nis positioned in the top view in the centre dis-\\\\nplay.\\\\nMessage composition may vary and they can\\\\nbe shown together with graphics, symbols or\\\\na button for activating/deactivating a function\\\\nlinked to the message.Pop-up messages\\\\nIn some cases, a message is shown in the\\\\nform of a pop-up window. Pop-up messages\\\\nhave higher priority than messages shown in\\\\nthe status bar and require acknowledgement/\\\\naction before they disappear.\\\\nRelated information\\\\n\\\\x81Managing messages in the centre display\\\\n(p. 135)\\\\n\\\\x81Handling a message saved from the cen-\\\\ntre display (p. 136)\\\\n\\\\x81Messages in the driver display (p. 100)Managing messages in the centre\\\\ndisplay\\\\nMessages in the centre display are handled in\\\\ncentre display views.\\\\nExample of a message in the centre display\\'s top\\\\nview.\\\\nSome messages in the centre display have a\\\\nbutton (or several buttons in pop-up mes-\\\\nsages) for e.g. activating/deactivating a func-\\\\ntion linked to the message.\", metadata={\\'page\\': 136.0, \\'source\\': \\'https://az685612.vo.msecnd.net/pdfs/20w17/XC60_OwnersManual_MY21_en-GB_TP32005/XC60_OwnersManual_MY21_en-GB_TP32005.pdf\\'})]}\\nPlease manually specify a prediction_key', correction=None, evaluator_info={}, source_run_id=None, target_run_id=None),\n",
       "    EvaluationResult(key='must_contain', score=False, value=None, comment=None, correction=None, evaluator_info={}, source_run_id=None, target_run_id=None)],\n",
       "   'execution_time': 9.133006,\n",
       "   'run_id': 'b0eacea0-3fd8-4bee-85b1-25fb6ef32960',\n",
       "   'output': {'response': AIMessage(content=\"To manage the centre display, you can control and regulate many of the car's functions through the touch screen functionality. The screen reacts differently depending on whether it is touched by dragging, swiping, or tapping. Actions such as browsing between different views, marking objects, and scrolling in a list can be performed by touching the screen in different ways. Additionally, you can press once to highlight an object, confirm a selection, or activate a function, press twice quickly to zoom in on a digital object, press and hold to grab an object and move it, and tap once with two fingers to zoom out from a digital object. Remember not to use sharp objects on the screen to prevent scratching.\", response_metadata={'token_usage': {'completion_tokens': 138, 'prompt_tokens': 1100, 'total_tokens': 1238}, 'model_name': 'gpt-3.5-turbo', 'system_fingerprint': 'fp_3bc1b5746c', 'finish_reason': 'stop', 'logprobs': None}),\n",
       "    'context': [Document(page_content=\"DISPLAYS AND VOICE CONTROL\\n104Overview of centre display\\nMany of the car's functions are controlled\\nfrom the centre display. Presented here is the\\ncentre display and its options.\", metadata={'page': 105.0, 'source': 'https://az685612.vo.msecnd.net/pdfs/20w17/XC60_OwnersManual_MY21_en-GB_TP32005/XC60_OwnersManual_MY21_en-GB_TP32005.pdf'}),\n",
       "     Document(page_content=\"DISPLAYS AND VOICE CONTROL\\n}}\\n107Managing the centre display\\nMany of the car's functions are controlled and\\nregulated from the centre display. The centre\\ndisplay is a touch screen that reacts to touch.\\nUsing the touch screen functionality in\\nthe centre display\\nThe screen reacts differently depending on\\nwhether it is touched by dragging, swiping, or\\ntapping. Actions such as browsing between\\ndifferent views, marking objects and scrollingin a list can be performed by touching the\\nscreen in different ways.\\nAn infrared light curtain just above the surface\\nof the screen enables the screen to detect a\\nfinger that is just in front of the screen. This\\ntechnology makes it possible to use the\\nscreen even with gloves on.\\nTwo people can interact with the screen at the\\nsame time, e.g. to adjust the climate for the\\ndriver and passenger side respectively.IMPORTANT\\nDo not use sharp objects on the screen as\\nthey may scratch it.\\nThe table below presents the different proce-\\ndures for operating the screen:\\nProcedure Execution Result\\nPress once. Highlights an object, confirms a selection or activates a function.\\nPress twice in quick suc-\\ncession.Zooms in on a digital object, such as the map.\\nPress and hold. Grabs an object. Can be used to move apps or map points on the map. Press and hold your finger\\nagainst the screen and at the same time drag the object to the desired location.\\nTap once with two fin-\\ngers.Zooms out from a digital object, such as the map.\", metadata={'page': 108.0, 'source': 'https://az685612.vo.msecnd.net/pdfs/20w17/XC60_OwnersManual_MY21_en-GB_TP32005/XC60_OwnersManual_MY21_en-GB_TP32005.pdf'}),\n",
       "     Document(page_content=\"ton.\\nRelated information\\n\\x81Managing the centre display (p. 107)\\n\\x81Activating and deactivating centre display\\n(p. 110)\\n\\x81Navigating in the centre display's views\\n(p. 110)\\n9Does not apply to all apps or car functions opened via the extra tile.\", metadata={'page': 117.0, 'source': 'https://az685612.vo.msecnd.net/pdfs/20w17/XC60_OwnersManual_MY21_en-GB_TP32005/XC60_OwnersManual_MY21_en-GB_TP32005.pdf'}),\n",
       "     Document(page_content=\"DISPLAYS AND VOICE CONTROL\\n}}\\n135Message in centre display\\nThe centre display can show messages to\\ninform or assist the driver in the event of dif-\\nferent events.\\nExample of a message in the centre display's top\\nview.\\nThe centre display shows messages that are\\nof lower priority for the driver.\\nMost messages are shown above the centre\\ndisplay's status bar. After a while, or when any\\nrequired action related to the message has\\nbeen taken, the message disappears from the\\nstatus bar. If a message needs to be saved, it\\nis positioned in the top view in the centre dis-\\nplay.\\nMessage composition may vary and they can\\nbe shown together with graphics, symbols or\\na button for activating/deactivating a function\\nlinked to the message.Pop-up messages\\nIn some cases, a message is shown in the\\nform of a pop-up window. Pop-up messages\\nhave higher priority than messages shown in\\nthe status bar and require acknowledgement/\\naction before they disappear.\\nRelated information\\n\\x81Managing messages in the centre display\\n(p. 135)\\n\\x81Handling a message saved from the cen-\\ntre display (p. 136)\\n\\x81Messages in the driver display (p. 100)Managing messages in the centre\\ndisplay\\nMessages in the centre display are handled in\\ncentre display views.\\nExample of a message in the centre display's top\\nview.\\nSome messages in the centre display have a\\nbutton (or several buttons in pop-up mes-\\nsages) for e.g. activating/deactivating a func-\\ntion linked to the message.\", metadata={'page': 136.0, 'source': 'https://az685612.vo.msecnd.net/pdfs/20w17/XC60_OwnersManual_MY21_en-GB_TP32005/XC60_OwnersManual_MY21_en-GB_TP32005.pdf'})]},\n",
       "   'reference': {'must_contain': ['centre display', 'display']}},\n",
       "  '858cf79a-7e3c-424a-b771-1d4710d179d9': {'input': {'question': 'how do I adjust the door mirrors?how do I lower the backrests in the rearseat?how do I lock and unlock the car?what is a care key?'},\n",
       "   'feedback': [EvaluationResult(key='helpfulness', score=None, value=None, comment='Error evaluating run 1b100610-254c-40be-bfef-0fb8e7ff0296: Could not map run prediction with multiple keys: {\\'response\\': AIMessage(content=\"To adjust the door mirrors, you need to go to the Settings in the centre display\\'s top view, then press My Car Mirrors and Convenience, and select Fold Mirror When Locked to activate or deactivate the function.\\\\n\\\\nTo lower the backrests in the rear seat, you must ensure there are no objects on the rear seat, the seat belts are not connected, the seat cushion on the integrated child seat is in the lowered position, the armrest for the centre seat is raised, and the through-load hatch in the rear seat is closed before lowering the backrests.\\\\n\\\\nTo lock and unlock the car, you can use the remote control key to lock and unlock all doors, the tailgate, and the fuel filler flap simultaneously. Press the lock button on the remote control key to lock the car, ensuring the driver door is closed for the lock sequence to be activated.\\\\n\\\\nA Care Key is a restricted remote control key that provides limited access to the car, designed for situations where you want to lend your car to someone else.\", response_metadata={\\'token_usage\\': {\\'completion_tokens\\': 206, \\'prompt_tokens\\': 1693, \\'total_tokens\\': 1899}, \\'model_name\\': \\'gpt-3.5-turbo\\', \\'system_fingerprint\\': \\'fp_3bc1b5746c\\', \\'finish_reason\\': \\'stop\\', \\'logprobs\\': None}), \\'context\\': [Document(page_content=\"KEY, LOCKS AND ALARM\\\\n* Option/accessory. 246Lock indication setting\\\\nIt is possible to select various options for how\\\\nthe car confirms locking and unlocking in the\\\\nsettings menu in the centre display.\\\\nTo change the locking response setting:\\\\n1.Tap on Settings  in the centre display\\'s\\\\ntop view.\\\\n2. Press My Car Locking .\\\\n3.Press Visible Locking Feedback  to\\\\nselect when the car is to give a visible\\\\nresponse:\\\\n\\\\x81Lock\\\\n\\\\x81Unlock\\\\n\\\\x81Both\\\\nOr switch off the function by selecting\\\\nOff .\\\\nTo change the setting for retractable rearview\\\\nmirrors* when locking:\\\\n1.Tap on Settings  in the centre display\\'s\\\\ntop view.\\\\n2. Press My Car Mirrors and\\\\nConvenience .\\\\n3.Select Fold Mirror When Locked  to acti-\\\\nvate or deactivate the function.\\\\nRelated information\\\\n\\\\x81Lock confirmation (p. 244)Remote control key\\\\nThe remote control key locks and unlocks the\\\\ndoors, tailgate and fuel filler flap. The remote\\\\ncontrol key needs to be inside the car for it to\\\\nbe started.\\\\nRemote control key3, Care Key or respective key tag\\\\n(Key Tag) *.\\\\nThe remote control key is not physically used\\\\nwhen starting since the car is equipped with\\\\nsupport for keyless starting (Passive Start) as\\\\nstandard. You simply need to have the key in\\\\nthe front part of the passenger compartment.\\\\nFor cars equipped with keyless locking and\\\\nunlocking (Passive Entry) * the key can be any-\\\\nwhere in the car to start the car. In this case, a\\\\nslightly smaller, lighter key tag (Key Tag) is\\\\nalso supplied.The remote control keys can be linked to dif-\\\\nferent driver profiles to save personal preferen-\\\\nces in the car.\\\\nWARNING\", metadata={\\'page\\': 247.0, \\'source\\': \\'https://az685612.vo.msecnd.net/pdfs/20w17/XC60_OwnersManual_MY21_en-GB_TP32005/XC60_OwnersManual_MY21_en-GB_TP32005.pdf\\'}), Document(page_content=\"\\\\x81Care Key - restricted remote control key\\\\n(p. 255)\\\\n\\\\x81Immobiliser (p. 259)\\\\n\\\\x81Linking remote control key to driver profile\\\\n(p. 133)Locking and unlocking with the\\\\nremote control key\\\\nThe buttons on the remote control key can be\\\\nused to lock and unlock all doors, the tailgate\\\\nand the fuel filler flap simultaneously.\\\\nLocking with the remote control key\\\\nThe figure is schematic - parts may vary depending\\\\non car model.\\\\n–Press the remote control key  button to\\\\nlock the car.\\\\nFor the lock sequence to be activated, the\\\\ndriver door must be closed4. If any of the other\\\\ndoors or the tailgate are open, these are\\\\nlocked and alarmed * only when they are\\\\nclosed. The alarm\\'s movement detectors * are\\\\nactivated when all the doors and the tailgate\\\\nare closed and locked.\\\\n4If the car is equipped with keyless locking/unlocking * then all side doors must be closed.\", metadata={\\'page\\': 249.0, \\'source\\': \\'https://az685612.vo.msecnd.net/pdfs/20w17/XC60_OwnersManual_MY21_en-GB_TP32005/XC60_OwnersManual_MY21_en-GB_TP32005.pdf\\'}), Document(page_content=\"KEY, LOCKS AND ALARM\\\\n}}\\\\n* Option/accessory. 279Locking and unlocking from inside\\\\nthe car\\\\nThe doors and tailgate can be locked and\\\\nunlocked from inside using the central lock-\\\\ning controls in the front doors.\\\\nCentral locking\\\\nLocking and unlocking button with indicator lamp in\\\\nthe front door.\\\\nUnlocking using a button in the front\\\\ndoor\\\\n–Press the  button to unlock all side\\\\ndoors and the tailgate.Alternative unlocking method\\\\nOpening handle for alternative unlocking in the side\\\\ndoor11.\\\\n–Pull the opening handle on one of the side\\\\ndoors and release.\\\\n> Depending on the settings in the\\\\nremote control key, either all doors will\\\\nbe unlocked or only the selected door\\\\nwill be unlocked and opened.\\\\nTo change this setting, tap on Settings\\\\nMy Car Locking Remote and\\\\nInterior Unlock  in the centre display\\'s\\\\ntop view.Locking using a button in the front\\\\ndoor\\\\n–Press the  button - both front doors\\\\nmust be closed.\\\\n> All doors and the tailgate are locked.\\\\nLocking using a button in the rear\\\\ndoor*\\\\nLocking button with indicator lamp in the rear door.\\\\nThe rear door lock buttons lock their respec-\\\\ntive rear door.\\\\nUnlocking the rear door\\\\n–Pull the opening handle.\\\\n>The rear door is unlocked and opened12.\\\\n10Only in cars equipped with keyless locking and unlocking *.\\\\n11The figure is schematic - parts may vary depending on car model.\\\\n12Provided that the child lock is not activated.\", metadata={\\'page\\': 280.0, \\'source\\': \\'https://az685612.vo.msecnd.net/pdfs/20w17/XC60_OwnersManual_MY21_en-GB_TP32005/XC60_OwnersManual_MY21_en-GB_TP32005.pdf\\'}), Document(page_content=\"SEATS AND STEERING WHEEL\\\\n* Option/accessory. 194\\\\x81Adjusting * the length of the seat cushion\\\\nin the front seat (p. 190)\\\\n\\\\x81Massage settings * in the front seat\\\\n(p. 188)\\\\n\\\\x81Adjusting the side support * in the front\\\\nseat (p. 191)\\\\n\\\\x81Adjusting the lumbar support * in the front\\\\nseat (p. 192)Lowering the backrests in the rear\\\\nseat\\\\nThe rear seat\\'s backrest is divided into two\\\\nparts. The two parts can be folded forward\\\\nindividually.\\\\nWARNING\\\\n\\\\x81Adjust the seat and fix it before driving\\\\naway. Take care when adjusting the\\\\nseat. Uncontrolled or careless adjust-\\\\nment can lead to trapping injuries.\\\\n\\\\x81When loading long objects, they must\\\\nalways be strapped in securely to avoid\\\\ninjury and damage during sudden brak-\\\\ning.\\\\n\\\\x81Always switch off the engine and apply\\\\nthe parking brake when loading and\\\\nunloading the car.\\\\n\\\\x81For cars with automatic gearbox, set\\\\nthe gear selector in P to prevent it from\\\\nbeing moved by mistake.\\\\nIMPORTANT\\\\nThere must be no objects on the rear seat\\\\nwhen the backrest is to be folded down.\\\\nThe seat belts must not be connected\\\\neither. Otherwise there is a risk of damag-\\\\ning the rear seat upholstery.IMPORTANT\\\\nThe seat cushion on the integrated child\\\\nseat* must be in the lowered position\\\\nbefore lowering the rear seat backrest.\\\\nThe armrest * for the centre seat must be\\\\nraised before lowering the seat.\\\\nThrough-load hatch in the rear seat must\\\\nbe closed before lowering.\\\\nNOTE\\\\nThe front seats may need to be pushed for-\\\\nwards, and/or the backrests adjusted\\\\nupwards, in order that the rear backrests\", metadata={\\'page\\': 195.0, \\'source\\': \\'https://az685612.vo.msecnd.net/pdfs/20w17/XC60_OwnersManual_MY21_en-GB_TP32005/XC60_OwnersManual_MY21_en-GB_TP32005.pdf\\'})]}\\nPlease manually specify a prediction_key', correction=None, evaluator_info={}, source_run_id=None, target_run_id=None),\n",
       "    EvaluationResult(key='correctness', score=None, value=None, comment='Error evaluating run 1b100610-254c-40be-bfef-0fb8e7ff0296: Could not map run prediction with multiple keys: {\\'response\\': AIMessage(content=\"To adjust the door mirrors, you need to go to the Settings in the centre display\\'s top view, then press My Car Mirrors and Convenience, and select Fold Mirror When Locked to activate or deactivate the function.\\\\n\\\\nTo lower the backrests in the rear seat, you must ensure there are no objects on the rear seat, the seat belts are not connected, the seat cushion on the integrated child seat is in the lowered position, the armrest for the centre seat is raised, and the through-load hatch in the rear seat is closed before lowering the backrests.\\\\n\\\\nTo lock and unlock the car, you can use the remote control key to lock and unlock all doors, the tailgate, and the fuel filler flap simultaneously. Press the lock button on the remote control key to lock the car, ensuring the driver door is closed for the lock sequence to be activated.\\\\n\\\\nA Care Key is a restricted remote control key that provides limited access to the car, designed for situations where you want to lend your car to someone else.\", response_metadata={\\'token_usage\\': {\\'completion_tokens\\': 206, \\'prompt_tokens\\': 1693, \\'total_tokens\\': 1899}, \\'model_name\\': \\'gpt-3.5-turbo\\', \\'system_fingerprint\\': \\'fp_3bc1b5746c\\', \\'finish_reason\\': \\'stop\\', \\'logprobs\\': None}), \\'context\\': [Document(page_content=\"KEY, LOCKS AND ALARM\\\\n* Option/accessory. 246Lock indication setting\\\\nIt is possible to select various options for how\\\\nthe car confirms locking and unlocking in the\\\\nsettings menu in the centre display.\\\\nTo change the locking response setting:\\\\n1.Tap on Settings  in the centre display\\'s\\\\ntop view.\\\\n2. Press My Car Locking .\\\\n3.Press Visible Locking Feedback  to\\\\nselect when the car is to give a visible\\\\nresponse:\\\\n\\\\x81Lock\\\\n\\\\x81Unlock\\\\n\\\\x81Both\\\\nOr switch off the function by selecting\\\\nOff .\\\\nTo change the setting for retractable rearview\\\\nmirrors* when locking:\\\\n1.Tap on Settings  in the centre display\\'s\\\\ntop view.\\\\n2. Press My Car Mirrors and\\\\nConvenience .\\\\n3.Select Fold Mirror When Locked  to acti-\\\\nvate or deactivate the function.\\\\nRelated information\\\\n\\\\x81Lock confirmation (p. 244)Remote control key\\\\nThe remote control key locks and unlocks the\\\\ndoors, tailgate and fuel filler flap. The remote\\\\ncontrol key needs to be inside the car for it to\\\\nbe started.\\\\nRemote control key3, Care Key or respective key tag\\\\n(Key Tag) *.\\\\nThe remote control key is not physically used\\\\nwhen starting since the car is equipped with\\\\nsupport for keyless starting (Passive Start) as\\\\nstandard. You simply need to have the key in\\\\nthe front part of the passenger compartment.\\\\nFor cars equipped with keyless locking and\\\\nunlocking (Passive Entry) * the key can be any-\\\\nwhere in the car to start the car. In this case, a\\\\nslightly smaller, lighter key tag (Key Tag) is\\\\nalso supplied.The remote control keys can be linked to dif-\\\\nferent driver profiles to save personal preferen-\\\\nces in the car.\\\\nWARNING\", metadata={\\'page\\': 247.0, \\'source\\': \\'https://az685612.vo.msecnd.net/pdfs/20w17/XC60_OwnersManual_MY21_en-GB_TP32005/XC60_OwnersManual_MY21_en-GB_TP32005.pdf\\'}), Document(page_content=\"\\\\x81Care Key - restricted remote control key\\\\n(p. 255)\\\\n\\\\x81Immobiliser (p. 259)\\\\n\\\\x81Linking remote control key to driver profile\\\\n(p. 133)Locking and unlocking with the\\\\nremote control key\\\\nThe buttons on the remote control key can be\\\\nused to lock and unlock all doors, the tailgate\\\\nand the fuel filler flap simultaneously.\\\\nLocking with the remote control key\\\\nThe figure is schematic - parts may vary depending\\\\non car model.\\\\n–Press the remote control key  button to\\\\nlock the car.\\\\nFor the lock sequence to be activated, the\\\\ndriver door must be closed4. If any of the other\\\\ndoors or the tailgate are open, these are\\\\nlocked and alarmed * only when they are\\\\nclosed. The alarm\\'s movement detectors * are\\\\nactivated when all the doors and the tailgate\\\\nare closed and locked.\\\\n4If the car is equipped with keyless locking/unlocking * then all side doors must be closed.\", metadata={\\'page\\': 249.0, \\'source\\': \\'https://az685612.vo.msecnd.net/pdfs/20w17/XC60_OwnersManual_MY21_en-GB_TP32005/XC60_OwnersManual_MY21_en-GB_TP32005.pdf\\'}), Document(page_content=\"KEY, LOCKS AND ALARM\\\\n}}\\\\n* Option/accessory. 279Locking and unlocking from inside\\\\nthe car\\\\nThe doors and tailgate can be locked and\\\\nunlocked from inside using the central lock-\\\\ning controls in the front doors.\\\\nCentral locking\\\\nLocking and unlocking button with indicator lamp in\\\\nthe front door.\\\\nUnlocking using a button in the front\\\\ndoor\\\\n–Press the  button to unlock all side\\\\ndoors and the tailgate.Alternative unlocking method\\\\nOpening handle for alternative unlocking in the side\\\\ndoor11.\\\\n–Pull the opening handle on one of the side\\\\ndoors and release.\\\\n> Depending on the settings in the\\\\nremote control key, either all doors will\\\\nbe unlocked or only the selected door\\\\nwill be unlocked and opened.\\\\nTo change this setting, tap on Settings\\\\nMy Car Locking Remote and\\\\nInterior Unlock  in the centre display\\'s\\\\ntop view.Locking using a button in the front\\\\ndoor\\\\n–Press the  button - both front doors\\\\nmust be closed.\\\\n> All doors and the tailgate are locked.\\\\nLocking using a button in the rear\\\\ndoor*\\\\nLocking button with indicator lamp in the rear door.\\\\nThe rear door lock buttons lock their respec-\\\\ntive rear door.\\\\nUnlocking the rear door\\\\n–Pull the opening handle.\\\\n>The rear door is unlocked and opened12.\\\\n10Only in cars equipped with keyless locking and unlocking *.\\\\n11The figure is schematic - parts may vary depending on car model.\\\\n12Provided that the child lock is not activated.\", metadata={\\'page\\': 280.0, \\'source\\': \\'https://az685612.vo.msecnd.net/pdfs/20w17/XC60_OwnersManual_MY21_en-GB_TP32005/XC60_OwnersManual_MY21_en-GB_TP32005.pdf\\'}), Document(page_content=\"SEATS AND STEERING WHEEL\\\\n* Option/accessory. 194\\\\x81Adjusting * the length of the seat cushion\\\\nin the front seat (p. 190)\\\\n\\\\x81Massage settings * in the front seat\\\\n(p. 188)\\\\n\\\\x81Adjusting the side support * in the front\\\\nseat (p. 191)\\\\n\\\\x81Adjusting the lumbar support * in the front\\\\nseat (p. 192)Lowering the backrests in the rear\\\\nseat\\\\nThe rear seat\\'s backrest is divided into two\\\\nparts. The two parts can be folded forward\\\\nindividually.\\\\nWARNING\\\\n\\\\x81Adjust the seat and fix it before driving\\\\naway. Take care when adjusting the\\\\nseat. Uncontrolled or careless adjust-\\\\nment can lead to trapping injuries.\\\\n\\\\x81When loading long objects, they must\\\\nalways be strapped in securely to avoid\\\\ninjury and damage during sudden brak-\\\\ning.\\\\n\\\\x81Always switch off the engine and apply\\\\nthe parking brake when loading and\\\\nunloading the car.\\\\n\\\\x81For cars with automatic gearbox, set\\\\nthe gear selector in P to prevent it from\\\\nbeing moved by mistake.\\\\nIMPORTANT\\\\nThere must be no objects on the rear seat\\\\nwhen the backrest is to be folded down.\\\\nThe seat belts must not be connected\\\\neither. Otherwise there is a risk of damag-\\\\ning the rear seat upholstery.IMPORTANT\\\\nThe seat cushion on the integrated child\\\\nseat* must be in the lowered position\\\\nbefore lowering the rear seat backrest.\\\\nThe armrest * for the centre seat must be\\\\nraised before lowering the seat.\\\\nThrough-load hatch in the rear seat must\\\\nbe closed before lowering.\\\\nNOTE\\\\nThe front seats may need to be pushed for-\\\\nwards, and/or the backrests adjusted\\\\nupwards, in order that the rear backrests\", metadata={\\'page\\': 195.0, \\'source\\': \\'https://az685612.vo.msecnd.net/pdfs/20w17/XC60_OwnersManual_MY21_en-GB_TP32005/XC60_OwnersManual_MY21_en-GB_TP32005.pdf\\'})]}\\nPlease manually specify a prediction_key', correction=None, evaluator_info={}, source_run_id=None, target_run_id=None),\n",
       "    EvaluationResult(key='COT Contextual Accuracy', score=None, value=None, comment='Error evaluating run 1b100610-254c-40be-bfef-0fb8e7ff0296: Could not map run prediction with multiple keys: {\\'response\\': AIMessage(content=\"To adjust the door mirrors, you need to go to the Settings in the centre display\\'s top view, then press My Car Mirrors and Convenience, and select Fold Mirror When Locked to activate or deactivate the function.\\\\n\\\\nTo lower the backrests in the rear seat, you must ensure there are no objects on the rear seat, the seat belts are not connected, the seat cushion on the integrated child seat is in the lowered position, the armrest for the centre seat is raised, and the through-load hatch in the rear seat is closed before lowering the backrests.\\\\n\\\\nTo lock and unlock the car, you can use the remote control key to lock and unlock all doors, the tailgate, and the fuel filler flap simultaneously. Press the lock button on the remote control key to lock the car, ensuring the driver door is closed for the lock sequence to be activated.\\\\n\\\\nA Care Key is a restricted remote control key that provides limited access to the car, designed for situations where you want to lend your car to someone else.\", response_metadata={\\'token_usage\\': {\\'completion_tokens\\': 206, \\'prompt_tokens\\': 1693, \\'total_tokens\\': 1899}, \\'model_name\\': \\'gpt-3.5-turbo\\', \\'system_fingerprint\\': \\'fp_3bc1b5746c\\', \\'finish_reason\\': \\'stop\\', \\'logprobs\\': None}), \\'context\\': [Document(page_content=\"KEY, LOCKS AND ALARM\\\\n* Option/accessory. 246Lock indication setting\\\\nIt is possible to select various options for how\\\\nthe car confirms locking and unlocking in the\\\\nsettings menu in the centre display.\\\\nTo change the locking response setting:\\\\n1.Tap on Settings  in the centre display\\'s\\\\ntop view.\\\\n2. Press My Car Locking .\\\\n3.Press Visible Locking Feedback  to\\\\nselect when the car is to give a visible\\\\nresponse:\\\\n\\\\x81Lock\\\\n\\\\x81Unlock\\\\n\\\\x81Both\\\\nOr switch off the function by selecting\\\\nOff .\\\\nTo change the setting for retractable rearview\\\\nmirrors* when locking:\\\\n1.Tap on Settings  in the centre display\\'s\\\\ntop view.\\\\n2. Press My Car Mirrors and\\\\nConvenience .\\\\n3.Select Fold Mirror When Locked  to acti-\\\\nvate or deactivate the function.\\\\nRelated information\\\\n\\\\x81Lock confirmation (p. 244)Remote control key\\\\nThe remote control key locks and unlocks the\\\\ndoors, tailgate and fuel filler flap. The remote\\\\ncontrol key needs to be inside the car for it to\\\\nbe started.\\\\nRemote control key3, Care Key or respective key tag\\\\n(Key Tag) *.\\\\nThe remote control key is not physically used\\\\nwhen starting since the car is equipped with\\\\nsupport for keyless starting (Passive Start) as\\\\nstandard. You simply need to have the key in\\\\nthe front part of the passenger compartment.\\\\nFor cars equipped with keyless locking and\\\\nunlocking (Passive Entry) * the key can be any-\\\\nwhere in the car to start the car. In this case, a\\\\nslightly smaller, lighter key tag (Key Tag) is\\\\nalso supplied.The remote control keys can be linked to dif-\\\\nferent driver profiles to save personal preferen-\\\\nces in the car.\\\\nWARNING\", metadata={\\'page\\': 247.0, \\'source\\': \\'https://az685612.vo.msecnd.net/pdfs/20w17/XC60_OwnersManual_MY21_en-GB_TP32005/XC60_OwnersManual_MY21_en-GB_TP32005.pdf\\'}), Document(page_content=\"\\\\x81Care Key - restricted remote control key\\\\n(p. 255)\\\\n\\\\x81Immobiliser (p. 259)\\\\n\\\\x81Linking remote control key to driver profile\\\\n(p. 133)Locking and unlocking with the\\\\nremote control key\\\\nThe buttons on the remote control key can be\\\\nused to lock and unlock all doors, the tailgate\\\\nand the fuel filler flap simultaneously.\\\\nLocking with the remote control key\\\\nThe figure is schematic - parts may vary depending\\\\non car model.\\\\n–Press the remote control key  button to\\\\nlock the car.\\\\nFor the lock sequence to be activated, the\\\\ndriver door must be closed4. If any of the other\\\\ndoors or the tailgate are open, these are\\\\nlocked and alarmed * only when they are\\\\nclosed. The alarm\\'s movement detectors * are\\\\nactivated when all the doors and the tailgate\\\\nare closed and locked.\\\\n4If the car is equipped with keyless locking/unlocking * then all side doors must be closed.\", metadata={\\'page\\': 249.0, \\'source\\': \\'https://az685612.vo.msecnd.net/pdfs/20w17/XC60_OwnersManual_MY21_en-GB_TP32005/XC60_OwnersManual_MY21_en-GB_TP32005.pdf\\'}), Document(page_content=\"KEY, LOCKS AND ALARM\\\\n}}\\\\n* Option/accessory. 279Locking and unlocking from inside\\\\nthe car\\\\nThe doors and tailgate can be locked and\\\\nunlocked from inside using the central lock-\\\\ning controls in the front doors.\\\\nCentral locking\\\\nLocking and unlocking button with indicator lamp in\\\\nthe front door.\\\\nUnlocking using a button in the front\\\\ndoor\\\\n–Press the  button to unlock all side\\\\ndoors and the tailgate.Alternative unlocking method\\\\nOpening handle for alternative unlocking in the side\\\\ndoor11.\\\\n–Pull the opening handle on one of the side\\\\ndoors and release.\\\\n> Depending on the settings in the\\\\nremote control key, either all doors will\\\\nbe unlocked or only the selected door\\\\nwill be unlocked and opened.\\\\nTo change this setting, tap on Settings\\\\nMy Car Locking Remote and\\\\nInterior Unlock  in the centre display\\'s\\\\ntop view.Locking using a button in the front\\\\ndoor\\\\n–Press the  button - both front doors\\\\nmust be closed.\\\\n> All doors and the tailgate are locked.\\\\nLocking using a button in the rear\\\\ndoor*\\\\nLocking button with indicator lamp in the rear door.\\\\nThe rear door lock buttons lock their respec-\\\\ntive rear door.\\\\nUnlocking the rear door\\\\n–Pull the opening handle.\\\\n>The rear door is unlocked and opened12.\\\\n10Only in cars equipped with keyless locking and unlocking *.\\\\n11The figure is schematic - parts may vary depending on car model.\\\\n12Provided that the child lock is not activated.\", metadata={\\'page\\': 280.0, \\'source\\': \\'https://az685612.vo.msecnd.net/pdfs/20w17/XC60_OwnersManual_MY21_en-GB_TP32005/XC60_OwnersManual_MY21_en-GB_TP32005.pdf\\'}), Document(page_content=\"SEATS AND STEERING WHEEL\\\\n* Option/accessory. 194\\\\x81Adjusting * the length of the seat cushion\\\\nin the front seat (p. 190)\\\\n\\\\x81Massage settings * in the front seat\\\\n(p. 188)\\\\n\\\\x81Adjusting the side support * in the front\\\\nseat (p. 191)\\\\n\\\\x81Adjusting the lumbar support * in the front\\\\nseat (p. 192)Lowering the backrests in the rear\\\\nseat\\\\nThe rear seat\\'s backrest is divided into two\\\\nparts. The two parts can be folded forward\\\\nindividually.\\\\nWARNING\\\\n\\\\x81Adjust the seat and fix it before driving\\\\naway. Take care when adjusting the\\\\nseat. Uncontrolled or careless adjust-\\\\nment can lead to trapping injuries.\\\\n\\\\x81When loading long objects, they must\\\\nalways be strapped in securely to avoid\\\\ninjury and damage during sudden brak-\\\\ning.\\\\n\\\\x81Always switch off the engine and apply\\\\nthe parking brake when loading and\\\\nunloading the car.\\\\n\\\\x81For cars with automatic gearbox, set\\\\nthe gear selector in P to prevent it from\\\\nbeing moved by mistake.\\\\nIMPORTANT\\\\nThere must be no objects on the rear seat\\\\nwhen the backrest is to be folded down.\\\\nThe seat belts must not be connected\\\\neither. Otherwise there is a risk of damag-\\\\ning the rear seat upholstery.IMPORTANT\\\\nThe seat cushion on the integrated child\\\\nseat* must be in the lowered position\\\\nbefore lowering the rear seat backrest.\\\\nThe armrest * for the centre seat must be\\\\nraised before lowering the seat.\\\\nThrough-load hatch in the rear seat must\\\\nbe closed before lowering.\\\\nNOTE\\\\nThe front seats may need to be pushed for-\\\\nwards, and/or the backrests adjusted\\\\nupwards, in order that the rear backrests\", metadata={\\'page\\': 195.0, \\'source\\': \\'https://az685612.vo.msecnd.net/pdfs/20w17/XC60_OwnersManual_MY21_en-GB_TP32005/XC60_OwnersManual_MY21_en-GB_TP32005.pdf\\'})]}\\nPlease manually specify a prediction_key', correction=None, evaluator_info={}, source_run_id=None, target_run_id=None),\n",
       "    EvaluationResult(key='must_contain', score=False, value=None, comment=None, correction=None, evaluator_info={}, source_run_id=None, target_run_id=None)],\n",
       "   'execution_time': 14.438738,\n",
       "   'run_id': '1b100610-254c-40be-bfef-0fb8e7ff0296',\n",
       "   'output': {'response': AIMessage(content=\"To adjust the door mirrors, you need to go to the Settings in the centre display's top view, then press My Car Mirrors and Convenience, and select Fold Mirror When Locked to activate or deactivate the function.\\n\\nTo lower the backrests in the rear seat, you must ensure there are no objects on the rear seat, the seat belts are not connected, the seat cushion on the integrated child seat is in the lowered position, the armrest for the centre seat is raised, and the through-load hatch in the rear seat is closed before lowering the backrests.\\n\\nTo lock and unlock the car, you can use the remote control key to lock and unlock all doors, the tailgate, and the fuel filler flap simultaneously. Press the lock button on the remote control key to lock the car, ensuring the driver door is closed for the lock sequence to be activated.\\n\\nA Care Key is a restricted remote control key that provides limited access to the car, designed for situations where you want to lend your car to someone else.\", response_metadata={'token_usage': {'completion_tokens': 206, 'prompt_tokens': 1693, 'total_tokens': 1899}, 'model_name': 'gpt-3.5-turbo', 'system_fingerprint': 'fp_3bc1b5746c', 'finish_reason': 'stop', 'logprobs': None}),\n",
       "    'context': [Document(page_content=\"KEY, LOCKS AND ALARM\\n* Option/accessory. 246Lock indication setting\\nIt is possible to select various options for how\\nthe car confirms locking and unlocking in the\\nsettings menu in the centre display.\\nTo change the locking response setting:\\n1.Tap on Settings  in the centre display's\\ntop view.\\n2. Press My Car Locking .\\n3.Press Visible Locking Feedback  to\\nselect when the car is to give a visible\\nresponse:\\n\\x81Lock\\n\\x81Unlock\\n\\x81Both\\nOr switch off the function by selecting\\nOff .\\nTo change the setting for retractable rearview\\nmirrors* when locking:\\n1.Tap on Settings  in the centre display's\\ntop view.\\n2. Press My Car Mirrors and\\nConvenience .\\n3.Select Fold Mirror When Locked  to acti-\\nvate or deactivate the function.\\nRelated information\\n\\x81Lock confirmation (p. 244)Remote control key\\nThe remote control key locks and unlocks the\\ndoors, tailgate and fuel filler flap. The remote\\ncontrol key needs to be inside the car for it to\\nbe started.\\nRemote control key3, Care Key or respective key tag\\n(Key Tag) *.\\nThe remote control key is not physically used\\nwhen starting since the car is equipped with\\nsupport for keyless starting (Passive Start) as\\nstandard. You simply need to have the key in\\nthe front part of the passenger compartment.\\nFor cars equipped with keyless locking and\\nunlocking (Passive Entry) * the key can be any-\\nwhere in the car to start the car. In this case, a\\nslightly smaller, lighter key tag (Key Tag) is\\nalso supplied.The remote control keys can be linked to dif-\\nferent driver profiles to save personal preferen-\\nces in the car.\\nWARNING\", metadata={'page': 247.0, 'source': 'https://az685612.vo.msecnd.net/pdfs/20w17/XC60_OwnersManual_MY21_en-GB_TP32005/XC60_OwnersManual_MY21_en-GB_TP32005.pdf'}),\n",
       "     Document(page_content=\"\\x81Care Key - restricted remote control key\\n(p. 255)\\n\\x81Immobiliser (p. 259)\\n\\x81Linking remote control key to driver profile\\n(p. 133)Locking and unlocking with the\\nremote control key\\nThe buttons on the remote control key can be\\nused to lock and unlock all doors, the tailgate\\nand the fuel filler flap simultaneously.\\nLocking with the remote control key\\nThe figure is schematic - parts may vary depending\\non car model.\\n–Press the remote control key  button to\\nlock the car.\\nFor the lock sequence to be activated, the\\ndriver door must be closed4. If any of the other\\ndoors or the tailgate are open, these are\\nlocked and alarmed * only when they are\\nclosed. The alarm's movement detectors * are\\nactivated when all the doors and the tailgate\\nare closed and locked.\\n4If the car is equipped with keyless locking/unlocking * then all side doors must be closed.\", metadata={'page': 249.0, 'source': 'https://az685612.vo.msecnd.net/pdfs/20w17/XC60_OwnersManual_MY21_en-GB_TP32005/XC60_OwnersManual_MY21_en-GB_TP32005.pdf'}),\n",
       "     Document(page_content=\"KEY, LOCKS AND ALARM\\n}}\\n* Option/accessory. 279Locking and unlocking from inside\\nthe car\\nThe doors and tailgate can be locked and\\nunlocked from inside using the central lock-\\ning controls in the front doors.\\nCentral locking\\nLocking and unlocking button with indicator lamp in\\nthe front door.\\nUnlocking using a button in the front\\ndoor\\n–Press the  button to unlock all side\\ndoors and the tailgate.Alternative unlocking method\\nOpening handle for alternative unlocking in the side\\ndoor11.\\n–Pull the opening handle on one of the side\\ndoors and release.\\n> Depending on the settings in the\\nremote control key, either all doors will\\nbe unlocked or only the selected door\\nwill be unlocked and opened.\\nTo change this setting, tap on Settings\\nMy Car Locking Remote and\\nInterior Unlock  in the centre display's\\ntop view.Locking using a button in the front\\ndoor\\n–Press the  button - both front doors\\nmust be closed.\\n> All doors and the tailgate are locked.\\nLocking using a button in the rear\\ndoor*\\nLocking button with indicator lamp in the rear door.\\nThe rear door lock buttons lock their respec-\\ntive rear door.\\nUnlocking the rear door\\n–Pull the opening handle.\\n>The rear door is unlocked and opened12.\\n10Only in cars equipped with keyless locking and unlocking *.\\n11The figure is schematic - parts may vary depending on car model.\\n12Provided that the child lock is not activated.\", metadata={'page': 280.0, 'source': 'https://az685612.vo.msecnd.net/pdfs/20w17/XC60_OwnersManual_MY21_en-GB_TP32005/XC60_OwnersManual_MY21_en-GB_TP32005.pdf'}),\n",
       "     Document(page_content=\"SEATS AND STEERING WHEEL\\n* Option/accessory. 194\\x81Adjusting * the length of the seat cushion\\nin the front seat (p. 190)\\n\\x81Massage settings * in the front seat\\n(p. 188)\\n\\x81Adjusting the side support * in the front\\nseat (p. 191)\\n\\x81Adjusting the lumbar support * in the front\\nseat (p. 192)Lowering the backrests in the rear\\nseat\\nThe rear seat's backrest is divided into two\\nparts. The two parts can be folded forward\\nindividually.\\nWARNING\\n\\x81Adjust the seat and fix it before driving\\naway. Take care when adjusting the\\nseat. Uncontrolled or careless adjust-\\nment can lead to trapping injuries.\\n\\x81When loading long objects, they must\\nalways be strapped in securely to avoid\\ninjury and damage during sudden brak-\\ning.\\n\\x81Always switch off the engine and apply\\nthe parking brake when loading and\\nunloading the car.\\n\\x81For cars with automatic gearbox, set\\nthe gear selector in P to prevent it from\\nbeing moved by mistake.\\nIMPORTANT\\nThere must be no objects on the rear seat\\nwhen the backrest is to be folded down.\\nThe seat belts must not be connected\\neither. Otherwise there is a risk of damag-\\ning the rear seat upholstery.IMPORTANT\\nThe seat cushion on the integrated child\\nseat* must be in the lowered position\\nbefore lowering the rear seat backrest.\\nThe armrest * for the centre seat must be\\nraised before lowering the seat.\\nThrough-load hatch in the rear seat must\\nbe closed before lowering.\\nNOTE\\nThe front seats may need to be pushed for-\\nwards, and/or the backrests adjusted\\nupwards, in order that the rear backrests\", metadata={'page': 195.0, 'source': 'https://az685612.vo.msecnd.net/pdfs/20w17/XC60_OwnersManual_MY21_en-GB_TP32005/XC60_OwnersManual_MY21_en-GB_TP32005.pdf'})]},\n",
       "   'reference': {'must_contain': ['door mirrors', 'door', 'mirrors']}}},\n",
       " 'aggregate_metrics': None}"
      ]
     },
     "execution_count": 40,
     "metadata": {},
     "output_type": "execute_result"
    }
   ],
   "source": [
    "langsmith_client.run_on_dataset(\n",
    "    dataset_name=dataset_name,\n",
    "    llm_or_chain_factory=mecanic_qa_chain,\n",
    "    evaluation=eval_configuration,\n",
    "    verbose=True,\n",
    "    project_name=f\"Mecainic RAG evaluation - {uuid4().hex[0:8]}\",\n",
    "    project_metadata={\"version\": \"1.0.0\"}\n",
    ")\n",
    "\n"
   ]
  },
  {
   "cell_type": "code",
   "execution_count": null,
   "metadata": {},
   "outputs": [],
   "source": []
  }
 ],
 "metadata": {
  "kernelspec": {
   "display_name": "llmops-course",
   "language": "python",
   "name": "python3"
  },
  "language_info": {
   "codemirror_mode": {
    "name": "ipython",
    "version": 3
   },
   "file_extension": ".py",
   "mimetype": "text/x-python",
   "name": "python",
   "nbconvert_exporter": "python",
   "pygments_lexer": "ipython3",
   "version": "3.11.7"
  }
 },
 "nbformat": 4,
 "nbformat_minor": 2
}
