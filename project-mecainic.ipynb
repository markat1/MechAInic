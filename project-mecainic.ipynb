{
 "cells": [
  {
   "cell_type": "code",
   "execution_count": 1,
   "metadata": {},
   "outputs": [],
   "source": [
    "import os\n",
    "import getpass\n",
    "\n",
    "os.environ[\"OPENAI_API_KEY\"] = getpass.getpass(\"OpenAI API Key: \")"
   ]
  },
  {
   "cell_type": "code",
   "execution_count": 2,
   "metadata": {},
   "outputs": [],
   "source": [
    "import os\n",
    "import getpass\n",
    "\n",
    "os.environ[\"PINECONE_API_KEY\"] = getpass.getpass(\"Pinecone API Key:\")"
   ]
  },
  {
   "cell_type": "code",
   "execution_count": 4,
   "metadata": {},
   "outputs": [],
   "source": [
    "from langchain.document_loaders import PyMuPDFLoader\n",
    "from dotenv import load_dotenv\n",
    "import os\n",
    "\n",
    "load_dotenv()\n",
    "\n",
    "# car_manual = PyMuPDFLoader('docs/owner_manual.pdf')\n",
    "car_manual = PyMuPDFLoader(os.environ.get('pdfurl'))"
   ]
  },
  {
   "cell_type": "code",
   "execution_count": 70,
   "metadata": {},
   "outputs": [
    {
     "name": "stdout",
     "output_type": "stream",
     "text": [
      "page_content='4\\n \\nResetting user data for change of\\nownership\\n129\\nResetting settings in the centre\\ndisplay\\n129\\nTable showing centre display settings\\n130\\nDriver profiles\\n131\\nSelecting driver profile\\n132\\nRenaming a driver profile\\n132\\nProtect driver profile\\n133\\nLinking remote control key to\\ndriver profile\\n133\\nResetting settings in the driver\\nprofiles\\n134\\nMessage in centre display\\n135\\nManaging messages in the centre\\ndisplay\\n135\\nHandling a message saved from\\nthe centre display\\n136\\nHead-up display*\\n137\\nActivating and deactivating the\\nhead-up display*\\n138\\nSettings for head-up display*\\n139\\nVoice recognition\\n140\\nUsing voice recognition\\n141\\nControlling a telephone with voice\\nrecognition\\n143\\nVoice control of radio and media\\n144\\n \\nSettings for voice recognition\\n145\\nLIGHTING\\nLighting control\\n148\\nAdjusting light functions via the\\ncentre display\\n150\\nAdapting the headlamp pattern\\nfrom the headlamps\\n150\\nAdjusting headlamp level\\n150\\nPosition lamps\\n151\\nDaytime running lights\\n152\\nDipped beam\\n153\\nUsing main beam\\n153\\nActive main beam\\n154\\nUsing direction indicators\\n155\\nActive bending lights*\\n156\\nFront fog lamps/cornering lights*\\n157\\nRear fog lamp\\n158\\nBrake lights\\n158\\nEmergency brake lights\\n159\\nHazard warning flashers\\n159\\nUsing home safe lighting\\n160\\nApproach light duration\\n160\\nInterior lighting\\n160\\nAdjusting interior lighting\\n162\\n' metadata={'source': 'https://az685612.vo.msecnd.net/pdfs/20w17/XC60_OwnersManual_MY21_en-GB_TP32005/XC60_OwnersManual_MY21_en-GB_TP32005.pdf', 'file_path': 'https://az685612.vo.msecnd.net/pdfs/20w17/XC60_OwnersManual_MY21_en-GB_TP32005/XC60_OwnersManual_MY21_en-GB_TP32005.pdf', 'page': 5, 'total_pages': 720, 'format': 'PDF 1.4', 'title': '', 'author': '', 'subject': '', 'keywords': '', 'creator': '', 'producer': 'GPL Ghostscript 9.06', 'creationDate': \"D:20200421104728+02'00'\", 'modDate': \"D:20200421104728+02'00'\", 'trapped': ''}\n"
     ]
    }
   ],
   "source": [
    "car_manual_data = car_manual.load()\n",
    "print(car_manual_data[5])"
   ]
  },
  {
   "cell_type": "code",
   "execution_count": 6,
   "metadata": {},
   "outputs": [
    {
     "name": "stdout",
     "output_type": "stream",
     "text": [
      "page_content=\"XC60\\nOWNER'S MANUAL\\n\" metadata={'source': 'https://az685612.vo.msecnd.net/pdfs/20w17/XC60_OwnersManual_MY21_en-GB_TP32005/XC60_OwnersManual_MY21_en-GB_TP32005.pdf', 'file_path': 'https://az685612.vo.msecnd.net/pdfs/20w17/XC60_OwnersManual_MY21_en-GB_TP32005/XC60_OwnersManual_MY21_en-GB_TP32005.pdf', 'page': 0, 'total_pages': 720, 'format': 'PDF 1.4', 'title': '', 'author': '', 'subject': '', 'keywords': '', 'creator': '', 'producer': 'GPL Ghostscript 9.06', 'creationDate': \"D:20200421104728+02'00'\", 'modDate': \"D:20200421104728+02'00'\", 'trapped': ''}\n"
     ]
    }
   ],
   "source": [
    "partial_car_manual_data = car_manual_data[:20]\n",
    "\n",
    "print(partial_car_manual_data[0])"
   ]
  },
  {
   "cell_type": "code",
   "execution_count": 71,
   "metadata": {},
   "outputs": [
    {
     "data": {
      "text/plain": [
       "[Document(page_content=\"XC60\\nOWNER'S MANUAL\", metadata={'source': 'https://az685612.vo.msecnd.net/pdfs/20w17/XC60_OwnersManual_MY21_en-GB_TP32005/XC60_OwnersManual_MY21_en-GB_TP32005.pdf', 'file_path': 'https://az685612.vo.msecnd.net/pdfs/20w17/XC60_OwnersManual_MY21_en-GB_TP32005/XC60_OwnersManual_MY21_en-GB_TP32005.pdf', 'page': 0, 'total_pages': 720, 'format': 'PDF 1.4', 'title': '', 'author': '', 'subject': '', 'keywords': '', 'creator': '', 'producer': 'GPL Ghostscript 9.06', 'creationDate': \"D:20200421104728+02'00'\", 'modDate': \"D:20200421104728+02'00'\", 'trapped': ''}),\n",
       " Document(page_content=\"VÄLKOMMEN!\\nWe hope you will enjoy many years of driving pleasure in your Volvo.\\nThe car has been designed for the safety and comfort of you and\\nyour passengers. Volvo strives to design one of the safest cars in the\\nworld. Your Volvo is also designed to meet applicable safety and\\nenvironmental requirements.\\nTo increase your enjoyment of your Volvo, we recommend that you\\nread the instructions and maintenance information in this owner's\\nmanual. The owner's manual is also available as a mobile app (Volvo\\nManual) and on the Volvo Cars support site (support.volvocars.com).\\nWe encourage everyone to always wear their seatbelt in this and\\nother cars. Please do not drive if you are under the influence of alco-\\nhol or medication – or have an impaired ability to drive in some\\nother way.\", metadata={'source': 'https://az685612.vo.msecnd.net/pdfs/20w17/XC60_OwnersManual_MY21_en-GB_TP32005/XC60_OwnersManual_MY21_en-GB_TP32005.pdf', 'file_path': 'https://az685612.vo.msecnd.net/pdfs/20w17/XC60_OwnersManual_MY21_en-GB_TP32005/XC60_OwnersManual_MY21_en-GB_TP32005.pdf', 'page': 2, 'total_pages': 720, 'format': 'PDF 1.4', 'title': '', 'author': '', 'subject': '', 'keywords': '', 'creator': '', 'producer': 'GPL Ghostscript 9.06', 'creationDate': \"D:20200421104728+02'00'\", 'modDate': \"D:20200421104728+02'00'\", 'trapped': ''}),\n",
       " Document(page_content=\"2\\nOWNER INFORMATION\\nOwner information\\n16\\nOwner's manual in centre display\\n17\\nNavigate in the owner's manual in\\nthe centre display\\n18\\nOwner's Manual in mobile devices\\n20\\nVolvo Cars support site\\n21\\nReading the owner's manual\\n21\\nThe owner's manual and the envi-\\nronment\\n23\\nYOUR VOLVO\\nVolvo ID\\n26\\nCreating and registering a Volvo ID\\n26\\nDrive-E - cleaner driving pleasure\\n28\\nIntelliSafe – driver support and safety\\n31\\nSensus - online connectivity and\\nentertainment\\n32\\nSoftware updates\\n35\\nRecording data\\n35\\nTerms & Conditions for Services\\n36\\nCustomer Privacy Policy\\n37\\nImportant information on acces-\\nsories and auxiliary equipment\\n37\\nInstallation of accessories\\n38\\nConnection of equipment to the\\ncar's diagnostic socket\\n38\\nShowing the car's identification\\nnumber\\n39\\nChange of market when importing\\nor relocating\\n40\\nDriver distraction\\n40\\nSAFETY\\nSafety\\n44\\nSafety during pregnancy\\n44\\nWhiplash Protection System\\n45\\nSeatbelts\\n46\\nPutting on and taking off seatbelts\\n47\\nSeatbelt tensioner\\n49\\nResetting the electric seatbelt\\ntensioner*\\n50\\nDoor and seatbelt reminder\\n50\\nAirbags\\n51\\nDriver airbags\\n52\\nPassenger airbag\\n53\\nActivating and deactivating pas-\\nsenger airbag*\\n54\\nSide airbags\\n57\\nInflatable curtains\\n57\\nSafety mode\\n58\\nStarting and moving the car after\\nsafety mode\\n59\\nChild safety\\n60\\nChild seats\\n60\\nUpper mounting points for child seats\\n61\\nLower mounting points for child seats\\n62\\ni-Size/ISOFIX mounting points for\\nchild seats\\n62\\nChild seat positioning\\n63\\nTABLE OF CONTENTS\", metadata={'source': 'https://az685612.vo.msecnd.net/pdfs/20w17/XC60_OwnersManual_MY21_en-GB_TP32005/XC60_OwnersManual_MY21_en-GB_TP32005.pdf', 'file_path': 'https://az685612.vo.msecnd.net/pdfs/20w17/XC60_OwnersManual_MY21_en-GB_TP32005/XC60_OwnersManual_MY21_en-GB_TP32005.pdf', 'page': 3, 'total_pages': 720, 'format': 'PDF 1.4', 'title': '', 'author': '', 'subject': '', 'keywords': '', 'creator': '', 'producer': 'GPL Ghostscript 9.06', 'creationDate': \"D:20200421104728+02'00'\", 'modDate': \"D:20200421104728+02'00'\", 'trapped': ''}),\n",
       " Document(page_content=\"3\\n \\nChild seat mounting\\n64\\nTable for location of child seats\\nusing the car's seatbelts\\n66\\nTable for location of i-Size child seats\\n68\\nTable for location of ISOFIX child\\nseats\\n69\\nIntegrated child seat*\\n72\\nFolding up the seat cushion in the\\nintegrated child seat*\\n73\\nFolding down the seat cushion in\\nthe integrated child seat*\\n74\\nDISPLAYS AND VOICE\\nCONTROL\\nDisplays and controls by the driver\\nin a left-hand drive car\\n76\\nDisplays and controls by the driver\\nin a right-hand drive car\\n77\\nDriver display\\n79\\nDriver display settings\\n83\\nFuel gauge\\n84\\nTrip computer\\n84\\nShow trip data in the driver display\\n86\\nResetting the trip meter\\n87\\nShow trip statistics in the centre\\ndisplay\\n87\\nSettings for trip statistics\\n88\\nDate and time\\n88\\nOutside temperature gauge\\n89\\nIndicator and warning symbols\\n90\\nLicense agreement for the driver\\ndisplay\\n92\\nApp menu in the driver display\\n98\\nManaging the app menu in the\\ndriver display\\n99\\nMessages in the driver display\\n100\\nManaging messages in the driver\\ndisplay\\n101\\nHandling a message saved from\\nthe driver display\\n102\\n \\nOverview of centre display\\n104\\nManaging the centre display\\n107\\nActivating and deactivating centre\\ndisplay\\n110\\nNavigating in the centre display's\\nviews\\n110\\nManaging subviews in centre display\\n114\\nFunction view in centre display\\n117\\nMoving apps and buttons in cen-\\ntre display\\n119\\nSymbols in the centre display's\\nstatus bar\\n119\\nKeyboard in centre display\\n121\\nChanging keyboard language in\\ncentre display\\n124\\nEnter the characters, letters and\\nwords manually in the centre display\\n124\\nChanging the appearance in the\\ncentre display\\n126\", metadata={'source': 'https://az685612.vo.msecnd.net/pdfs/20w17/XC60_OwnersManual_MY21_en-GB_TP32005/XC60_OwnersManual_MY21_en-GB_TP32005.pdf', 'file_path': 'https://az685612.vo.msecnd.net/pdfs/20w17/XC60_OwnersManual_MY21_en-GB_TP32005/XC60_OwnersManual_MY21_en-GB_TP32005.pdf', 'page': 4, 'total_pages': 720, 'format': 'PDF 1.4', 'title': '', 'author': '', 'subject': '', 'keywords': '', 'creator': '', 'producer': 'GPL Ghostscript 9.06', 'creationDate': \"D:20200421104728+02'00'\", 'modDate': \"D:20200421104728+02'00'\", 'trapped': ''}),\n",
       " Document(page_content=\"status bar\\n119\\nKeyboard in centre display\\n121\\nChanging keyboard language in\\ncentre display\\n124\\nEnter the characters, letters and\\nwords manually in the centre display\\n124\\nChanging the appearance in the\\ncentre display\\n126\\nSwitching off and changing the\\nvolume of the system sound in the\\ncentre display\\n126\\nChanging system units\\n127\\nChanging system language\\n127\\nOther settings in the centre dis-\\nplay's top view\\n127\\nOpen contextual setup in the cen-\\ntre display\\n128\", metadata={'source': 'https://az685612.vo.msecnd.net/pdfs/20w17/XC60_OwnersManual_MY21_en-GB_TP32005/XC60_OwnersManual_MY21_en-GB_TP32005.pdf', 'file_path': 'https://az685612.vo.msecnd.net/pdfs/20w17/XC60_OwnersManual_MY21_en-GB_TP32005/XC60_OwnersManual_MY21_en-GB_TP32005.pdf', 'page': 4, 'total_pages': 720, 'format': 'PDF 1.4', 'title': '', 'author': '', 'subject': '', 'keywords': '', 'creator': '', 'producer': 'GPL Ghostscript 9.06', 'creationDate': \"D:20200421104728+02'00'\", 'modDate': \"D:20200421104728+02'00'\", 'trapped': ''})]"
      ]
     },
     "execution_count": 71,
     "metadata": {},
     "output_type": "execute_result"
    }
   ],
   "source": [
    "from langchain.text_splitter import RecursiveCharacterTextSplitter\n",
    "import tiktoken\n",
    "\n",
    "def tiktoken_len(text):\n",
    "    tokens = tiktoken.encoding_for_model(\"gpt-3.5-turbo\").encode(\n",
    "        text,\n",
    "    )\n",
    "    return len(tokens)\n",
    "\n",
    "text_splitter = RecursiveCharacterTextSplitter(\n",
    "    chunk_size = 400,\n",
    "    chunk_overlap = 50,\n",
    "    length_function = tiktoken_len,\n",
    ")\n",
    "\n",
    "car_manual_chunks = text_splitter.split_documents(partial_car_manual_data)\n",
    "car_manual_chunks[:5]"
   ]
  },
  {
   "cell_type": "code",
   "execution_count": 8,
   "metadata": {},
   "outputs": [
    {
     "data": {
      "text/plain": [
       "392"
      ]
     },
     "execution_count": 8,
     "metadata": {},
     "output_type": "execute_result"
    }
   ],
   "source": [
    "max_chunk_length = 0\n",
    "\n",
    "for chunk in car_manual_chunks:\n",
    "    max_chunk_length = max(max_chunk_length, tiktoken_len(chunk.page_content))\n",
    "\n",
    "max_chunk_length"
   ]
  },
  {
   "cell_type": "code",
   "execution_count": 9,
   "metadata": {},
   "outputs": [
    {
     "name": "stdout",
     "output_type": "stream",
     "text": [
      "index created: mechainic\n"
     ]
    }
   ],
   "source": [
    "from pinecone import Pinecone, PodSpec\n",
    "pinecone_client = Pinecone()\n",
    "\n",
    "pinecone_client.create_index(\n",
    "    name=os.environ.get('index'),\n",
    "    dimension=1536,\n",
    "    metric=\"cosine\",\n",
    "    spec=PodSpec(\n",
    "        environment=\"gcp-starter\"\n",
    "    )\n",
    ")\n",
    "\n",
    "while not pinecone_client.describe_index(os.environ.get('index')).status['ready']:\n",
    "    print(\"loading\")\n",
    "\n",
    "print(f\"index created: {os.environ.get('index')}\")"
   ]
  },
  {
   "cell_type": "code",
   "execution_count": 63,
   "metadata": {},
   "outputs": [],
   "source": [
    "from langchain.vectorstores import Pinecone\n",
    "from langchain_openai import OpenAIEmbeddings\n",
    "\n",
    "embedding_model = OpenAIEmbeddings(model=\"text-embedding-3-small\")\n",
    "\n",
    "vector_store = Pinecone.from_documents(car_manual_chunks, embedding_model, index_name=os.environ.get('index'))"
   ]
  },
  {
   "cell_type": "code",
   "execution_count": 64,
   "metadata": {},
   "outputs": [],
   "source": [
    "retriever = vector_store.as_retriever()"
   ]
  },
  {
   "cell_type": "code",
   "execution_count": 65,
   "metadata": {},
   "outputs": [],
   "source": [
    "from langchain_core.prompts import ChatPromptTemplate\n",
    "\n",
    "RAG_PROMPT = \"\"\"\n",
    "\n",
    "CONTEXT:\n",
    "{context}\n",
    "\n",
    "QUERY:\n",
    "{question}\n",
    "\n",
    "You are a car specialist and can only provide your answers from the context. \n",
    "\n",
    "Don't tell in your response that you are getting it from the context.\n",
    "\n",
    "\"\"\"\n",
    "\n",
    "rag_prompt = ChatPromptTemplate.from_template(RAG_PROMPT)"
   ]
  },
  {
   "cell_type": "code",
   "execution_count": 66,
   "metadata": {},
   "outputs": [],
   "source": [
    "from langchain_openai import ChatOpenAI\n",
    "model = ChatOpenAI(model=\"gpt-3.5-turbo\")"
   ]
  },
  {
   "cell_type": "code",
   "execution_count": 67,
   "metadata": {},
   "outputs": [],
   "source": [
    "from operator import itemgetter\n",
    "from langchain.schema.runnable import RunnablePassthrough\n",
    "from langchain.schema.output_parser import StrOutputParser\n",
    "\n",
    "retrieval_augmented_qa_chain = (\n",
    "    {\"context\": itemgetter(\"question\") | retriever, \"question\": itemgetter(\"question\")}\n",
    "    | RunnablePassthrough.assign(context=itemgetter(\"context\"))\n",
    "    | {\"response\": rag_prompt | model, \"context\": itemgetter(\"context\")}\n",
    ")\n"
   ]
  },
  {
   "cell_type": "code",
   "execution_count": 68,
   "metadata": {},
   "outputs": [],
   "source": [
    "response = retrieval_augmented_qa_chain.invoke({\"question\" : \"What is the puporse of Event Data Recorder?\"})"
   ]
  },
  {
   "cell_type": "code",
   "execution_count": 69,
   "metadata": {},
   "outputs": [
    {
     "data": {
      "text/plain": [
       "AIMessage(content='The purpose of the Event Data Recorder is to provide assistance when taking evasive action and to automatically brake in the event of an impeded evasive maneuver with City Safety.', response_metadata={'token_usage': {'completion_tokens': 34, 'prompt_tokens': 2343, 'total_tokens': 2377}, 'model_name': 'gpt-3.5-turbo', 'system_fingerprint': 'fp_3bc1b5746c', 'finish_reason': 'stop', 'logprobs': None})"
      ]
     },
     "execution_count": 69,
     "metadata": {},
     "output_type": "execute_result"
    }
   ],
   "source": [
    "response[\"response\"]"
   ]
  }
 ],
 "metadata": {
  "kernelspec": {
   "display_name": "llmops-course",
   "language": "python",
   "name": "python3"
  },
  "language_info": {
   "codemirror_mode": {
    "name": "ipython",
    "version": 3
   },
   "file_extension": ".py",
   "mimetype": "text/x-python",
   "name": "python",
   "nbconvert_exporter": "python",
   "pygments_lexer": "ipython3",
   "version": "3.11.7"
  }
 },
 "nbformat": 4,
 "nbformat_minor": 2
}
