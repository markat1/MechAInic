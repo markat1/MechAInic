{
 "cells": [
  {
   "cell_type": "code",
   "execution_count": 1,
   "metadata": {},
   "outputs": [],
   "source": [
    "import os\n",
    "import getpass\n",
    "\n",
    "os.environ[\"OPENAI_API_KEY\"] = getpass.getpass(\"OpenAI API Key: \")"
   ]
  },
  {
   "cell_type": "code",
   "execution_count": 2,
   "metadata": {},
   "outputs": [],
   "source": [
    "import os\n",
    "import getpass\n",
    "\n",
    "os.environ[\"PINECONE_API_KEY\"] = getpass.getpass(\"Pinecone API Key:\")"
   ]
  },
  {
   "cell_type": "code",
   "execution_count": 4,
   "metadata": {},
   "outputs": [],
   "source": [
    "from langchain.document_loaders import PyMuPDFLoader\n",
    "from dotenv import load_dotenv\n",
    "import os\n",
    "\n",
    "load_dotenv()\n",
    "\n",
    "# car_manual = PyMuPDFLoader('docs/owner_manual.pdf')\n",
    "car_manual = PyMuPDFLoader(os.environ.get('pdfurl'))"
   ]
  },
  {
   "cell_type": "code",
   "execution_count": 70,
   "metadata": {},
   "outputs": [
    {
     "name": "stdout",
     "output_type": "stream",
     "text": [
      "page_content='4\\n \\nResetting user data for change of\\nownership\\n129\\nResetting settings in the centre\\ndisplay\\n129\\nTable showing centre display settings\\n130\\nDriver profiles\\n131\\nSelecting driver profile\\n132\\nRenaming a driver profile\\n132\\nProtect driver profile\\n133\\nLinking remote control key to\\ndriver profile\\n133\\nResetting settings in the driver\\nprofiles\\n134\\nMessage in centre display\\n135\\nManaging messages in the centre\\ndisplay\\n135\\nHandling a message saved from\\nthe centre display\\n136\\nHead-up display*\\n137\\nActivating and deactivating the\\nhead-up display*\\n138\\nSettings for head-up display*\\n139\\nVoice recognition\\n140\\nUsing voice recognition\\n141\\nControlling a telephone with voice\\nrecognition\\n143\\nVoice control of radio and media\\n144\\n \\nSettings for voice recognition\\n145\\nLIGHTING\\nLighting control\\n148\\nAdjusting light functions via the\\ncentre display\\n150\\nAdapting the headlamp pattern\\nfrom the headlamps\\n150\\nAdjusting headlamp level\\n150\\nPosition lamps\\n151\\nDaytime running lights\\n152\\nDipped beam\\n153\\nUsing main beam\\n153\\nActive main beam\\n154\\nUsing direction indicators\\n155\\nActive bending lights*\\n156\\nFront fog lamps/cornering lights*\\n157\\nRear fog lamp\\n158\\nBrake lights\\n158\\nEmergency brake lights\\n159\\nHazard warning flashers\\n159\\nUsing home safe lighting\\n160\\nApproach light duration\\n160\\nInterior lighting\\n160\\nAdjusting interior lighting\\n162\\n' metadata={'source': 'https://az685612.vo.msecnd.net/pdfs/20w17/XC60_OwnersManual_MY21_en-GB_TP32005/XC60_OwnersManual_MY21_en-GB_TP32005.pdf', 'file_path': 'https://az685612.vo.msecnd.net/pdfs/20w17/XC60_OwnersManual_MY21_en-GB_TP32005/XC60_OwnersManual_MY21_en-GB_TP32005.pdf', 'page': 5, 'total_pages': 720, 'format': 'PDF 1.4', 'title': '', 'author': '', 'subject': '', 'keywords': '', 'creator': '', 'producer': 'GPL Ghostscript 9.06', 'creationDate': \"D:20200421104728+02'00'\", 'modDate': \"D:20200421104728+02'00'\", 'trapped': ''}\n"
     ]
    }
   ],
   "source": [
    "car_manual_data = car_manual.load()\n",
    "print(car_manual_data[5])"
   ]
  },
  {
   "cell_type": "code",
   "execution_count": 6,
   "metadata": {},
   "outputs": [
    {
     "name": "stdout",
     "output_type": "stream",
     "text": [
      "page_content=\"XC60\\nOWNER'S MANUAL\\n\" metadata={'source': 'https://az685612.vo.msecnd.net/pdfs/20w17/XC60_OwnersManual_MY21_en-GB_TP32005/XC60_OwnersManual_MY21_en-GB_TP32005.pdf', 'file_path': 'https://az685612.vo.msecnd.net/pdfs/20w17/XC60_OwnersManual_MY21_en-GB_TP32005/XC60_OwnersManual_MY21_en-GB_TP32005.pdf', 'page': 0, 'total_pages': 720, 'format': 'PDF 1.4', 'title': '', 'author': '', 'subject': '', 'keywords': '', 'creator': '', 'producer': 'GPL Ghostscript 9.06', 'creationDate': \"D:20200421104728+02'00'\", 'modDate': \"D:20200421104728+02'00'\", 'trapped': ''}\n"
     ]
    }
   ],
   "source": [
    "partial_car_manual_data = car_manual_data[:20]\n",
    "\n",
    "print(partial_car_manual_data[0])"
   ]
  },
  {
   "cell_type": "code",
   "execution_count": 7,
   "metadata": {},
   "outputs": [
    {
     "data": {
      "text/plain": [
       "[Document(page_content=\"XC60\\nOWNER'S MANUAL\", metadata={'source': 'https://az685612.vo.msecnd.net/pdfs/20w17/XC60_OwnersManual_MY21_en-GB_TP32005/XC60_OwnersManual_MY21_en-GB_TP32005.pdf', 'file_path': 'https://az685612.vo.msecnd.net/pdfs/20w17/XC60_OwnersManual_MY21_en-GB_TP32005/XC60_OwnersManual_MY21_en-GB_TP32005.pdf', 'page': 0, 'total_pages': 720, 'format': 'PDF 1.4', 'title': '', 'author': '', 'subject': '', 'keywords': '', 'creator': '', 'producer': 'GPL Ghostscript 9.06', 'creationDate': \"D:20200421104728+02'00'\", 'modDate': \"D:20200421104728+02'00'\", 'trapped': ''}),\n",
       " Document(page_content=\"VÄLKOMMEN!\\nWe hope you will enjoy many years of driving pleasure in your Volvo.\\nThe car has been designed for the safety and comfort of you and\\nyour passengers. Volvo strives to design one of the safest cars in the\\nworld. Your Volvo is also designed to meet applicable safety and\\nenvironmental requirements.\\nTo increase your enjoyment of your Volvo, we recommend that you\\nread the instructions and maintenance information in this owner's\\nmanual. The owner's manual is also available as a mobile app (Volvo\\nManual) and on the Volvo Cars support site (support.volvocars.com).\\nWe encourage everyone to always wear their seatbelt in this and\\nother cars. Please do not drive if you are under the influence of alco-\\nhol or medication – or have an impaired ability to drive in some\\nother way.\", metadata={'source': 'https://az685612.vo.msecnd.net/pdfs/20w17/XC60_OwnersManual_MY21_en-GB_TP32005/XC60_OwnersManual_MY21_en-GB_TP32005.pdf', 'file_path': 'https://az685612.vo.msecnd.net/pdfs/20w17/XC60_OwnersManual_MY21_en-GB_TP32005/XC60_OwnersManual_MY21_en-GB_TP32005.pdf', 'page': 2, 'total_pages': 720, 'format': 'PDF 1.4', 'title': '', 'author': '', 'subject': '', 'keywords': '', 'creator': '', 'producer': 'GPL Ghostscript 9.06', 'creationDate': \"D:20200421104728+02'00'\", 'modDate': \"D:20200421104728+02'00'\", 'trapped': ''}),\n",
       " Document(page_content=\"2\\nOWNER INFORMATION\\nOwner information\\n16\\nOwner's manual in centre display\\n17\\nNavigate in the owner's manual in\\nthe centre display\\n18\\nOwner's Manual in mobile devices\\n20\\nVolvo Cars support site\\n21\\nReading the owner's manual\\n21\\nThe owner's manual and the envi-\\nronment\\n23\\nYOUR VOLVO\\nVolvo ID\\n26\\nCreating and registering a Volvo ID\\n26\\nDrive-E - cleaner driving pleasure\\n28\\nIntelliSafe – driver support and safety\\n31\\nSensus - online connectivity and\\nentertainment\\n32\\nSoftware updates\\n35\\nRecording data\\n35\\nTerms & Conditions for Services\\n36\\nCustomer Privacy Policy\\n37\\nImportant information on acces-\\nsories and auxiliary equipment\\n37\\nInstallation of accessories\\n38\\nConnection of equipment to the\\ncar's diagnostic socket\\n38\\nShowing the car's identification\\nnumber\\n39\\nChange of market when importing\\nor relocating\\n40\\nDriver distraction\\n40\\nSAFETY\\nSafety\\n44\\nSafety during pregnancy\\n44\\nWhiplash Protection System\\n45\\nSeatbelts\\n46\\nPutting on and taking off seatbelts\\n47\\nSeatbelt tensioner\\n49\\nResetting the electric seatbelt\\ntensioner*\\n50\\nDoor and seatbelt reminder\\n50\\nAirbags\\n51\\nDriver airbags\\n52\\nPassenger airbag\\n53\\nActivating and deactivating pas-\\nsenger airbag*\\n54\\nSide airbags\\n57\\nInflatable curtains\\n57\\nSafety mode\\n58\\nStarting and moving the car after\\nsafety mode\\n59\\nChild safety\\n60\\nChild seats\\n60\\nUpper mounting points for child seats\\n61\\nLower mounting points for child seats\\n62\\ni-Size/ISOFIX mounting points for\\nchild seats\\n62\\nChild seat positioning\\n63\\nTABLE OF CONTENTS\", metadata={'source': 'https://az685612.vo.msecnd.net/pdfs/20w17/XC60_OwnersManual_MY21_en-GB_TP32005/XC60_OwnersManual_MY21_en-GB_TP32005.pdf', 'file_path': 'https://az685612.vo.msecnd.net/pdfs/20w17/XC60_OwnersManual_MY21_en-GB_TP32005/XC60_OwnersManual_MY21_en-GB_TP32005.pdf', 'page': 3, 'total_pages': 720, 'format': 'PDF 1.4', 'title': '', 'author': '', 'subject': '', 'keywords': '', 'creator': '', 'producer': 'GPL Ghostscript 9.06', 'creationDate': \"D:20200421104728+02'00'\", 'modDate': \"D:20200421104728+02'00'\", 'trapped': ''}),\n",
       " Document(page_content=\"3\\n \\nChild seat mounting\\n64\\nTable for location of child seats\\nusing the car's seatbelts\\n66\\nTable for location of i-Size child seats\\n68\\nTable for location of ISOFIX child\\nseats\\n69\\nIntegrated child seat*\\n72\\nFolding up the seat cushion in the\\nintegrated child seat*\\n73\\nFolding down the seat cushion in\\nthe integrated child seat*\\n74\\nDISPLAYS AND VOICE\\nCONTROL\\nDisplays and controls by the driver\\nin a left-hand drive car\\n76\\nDisplays and controls by the driver\\nin a right-hand drive car\\n77\\nDriver display\\n79\\nDriver display settings\\n83\\nFuel gauge\\n84\\nTrip computer\\n84\\nShow trip data in the driver display\\n86\\nResetting the trip meter\\n87\\nShow trip statistics in the centre\\ndisplay\\n87\\nSettings for trip statistics\\n88\\nDate and time\\n88\\nOutside temperature gauge\\n89\\nIndicator and warning symbols\\n90\\nLicense agreement for the driver\\ndisplay\\n92\\nApp menu in the driver display\\n98\\nManaging the app menu in the\\ndriver display\\n99\\nMessages in the driver display\\n100\\nManaging messages in the driver\\ndisplay\\n101\\nHandling a message saved from\\nthe driver display\\n102\\n \\nOverview of centre display\\n104\\nManaging the centre display\\n107\\nActivating and deactivating centre\\ndisplay\\n110\\nNavigating in the centre display's\\nviews\\n110\\nManaging subviews in centre display\\n114\\nFunction view in centre display\\n117\\nMoving apps and buttons in cen-\\ntre display\\n119\\nSymbols in the centre display's\\nstatus bar\\n119\\nKeyboard in centre display\\n121\\nChanging keyboard language in\\ncentre display\\n124\\nEnter the characters, letters and\\nwords manually in the centre display\\n124\\nChanging the appearance in the\\ncentre display\\n126\", metadata={'source': 'https://az685612.vo.msecnd.net/pdfs/20w17/XC60_OwnersManual_MY21_en-GB_TP32005/XC60_OwnersManual_MY21_en-GB_TP32005.pdf', 'file_path': 'https://az685612.vo.msecnd.net/pdfs/20w17/XC60_OwnersManual_MY21_en-GB_TP32005/XC60_OwnersManual_MY21_en-GB_TP32005.pdf', 'page': 4, 'total_pages': 720, 'format': 'PDF 1.4', 'title': '', 'author': '', 'subject': '', 'keywords': '', 'creator': '', 'producer': 'GPL Ghostscript 9.06', 'creationDate': \"D:20200421104728+02'00'\", 'modDate': \"D:20200421104728+02'00'\", 'trapped': ''}),\n",
       " Document(page_content=\"status bar\\n119\\nKeyboard in centre display\\n121\\nChanging keyboard language in\\ncentre display\\n124\\nEnter the characters, letters and\\nwords manually in the centre display\\n124\\nChanging the appearance in the\\ncentre display\\n126\\nSwitching off and changing the\\nvolume of the system sound in the\\ncentre display\\n126\\nChanging system units\\n127\\nChanging system language\\n127\\nOther settings in the centre dis-\\nplay's top view\\n127\\nOpen contextual setup in the cen-\\ntre display\\n128\", metadata={'source': 'https://az685612.vo.msecnd.net/pdfs/20w17/XC60_OwnersManual_MY21_en-GB_TP32005/XC60_OwnersManual_MY21_en-GB_TP32005.pdf', 'file_path': 'https://az685612.vo.msecnd.net/pdfs/20w17/XC60_OwnersManual_MY21_en-GB_TP32005/XC60_OwnersManual_MY21_en-GB_TP32005.pdf', 'page': 4, 'total_pages': 720, 'format': 'PDF 1.4', 'title': '', 'author': '', 'subject': '', 'keywords': '', 'creator': '', 'producer': 'GPL Ghostscript 9.06', 'creationDate': \"D:20200421104728+02'00'\", 'modDate': \"D:20200421104728+02'00'\", 'trapped': ''}),\n",
       " Document(page_content='4\\n \\nResetting user data for change of\\nownership\\n129\\nResetting settings in the centre\\ndisplay\\n129\\nTable showing centre display settings\\n130\\nDriver profiles\\n131\\nSelecting driver profile\\n132\\nRenaming a driver profile\\n132\\nProtect driver profile\\n133\\nLinking remote control key to\\ndriver profile\\n133\\nResetting settings in the driver\\nprofiles\\n134\\nMessage in centre display\\n135\\nManaging messages in the centre\\ndisplay\\n135\\nHandling a message saved from\\nthe centre display\\n136\\nHead-up display*\\n137\\nActivating and deactivating the\\nhead-up display*\\n138\\nSettings for head-up display*\\n139\\nVoice recognition\\n140\\nUsing voice recognition\\n141\\nControlling a telephone with voice\\nrecognition\\n143\\nVoice control of radio and media\\n144\\n \\nSettings for voice recognition\\n145\\nLIGHTING\\nLighting control\\n148\\nAdjusting light functions via the\\ncentre display\\n150\\nAdapting the headlamp pattern\\nfrom the headlamps\\n150\\nAdjusting headlamp level\\n150\\nPosition lamps\\n151\\nDaytime running lights\\n152\\nDipped beam\\n153\\nUsing main beam\\n153\\nActive main beam\\n154\\nUsing direction indicators\\n155\\nActive bending lights*\\n156\\nFront fog lamps/cornering lights*\\n157\\nRear fog lamp\\n158\\nBrake lights\\n158\\nEmergency brake lights\\n159\\nHazard warning flashers\\n159\\nUsing home safe lighting\\n160\\nApproach light duration\\n160\\nInterior lighting\\n160\\nAdjusting interior lighting\\n162', metadata={'source': 'https://az685612.vo.msecnd.net/pdfs/20w17/XC60_OwnersManual_MY21_en-GB_TP32005/XC60_OwnersManual_MY21_en-GB_TP32005.pdf', 'file_path': 'https://az685612.vo.msecnd.net/pdfs/20w17/XC60_OwnersManual_MY21_en-GB_TP32005/XC60_OwnersManual_MY21_en-GB_TP32005.pdf', 'page': 5, 'total_pages': 720, 'format': 'PDF 1.4', 'title': '', 'author': '', 'subject': '', 'keywords': '', 'creator': '', 'producer': 'GPL Ghostscript 9.06', 'creationDate': \"D:20200421104728+02'00'\", 'modDate': \"D:20200421104728+02'00'\", 'trapped': ''}),\n",
       " Document(page_content=\"5\\nWINDOWS, GLASS AND\\nMIRRORS\\nWindows, glass and mirrors\\n166\\nPinch protection for windows and\\nsun blinds\\n166\\nReset sequence for pinch protection\\n167\\nPower windows\\n167\\nOperating power windows\\n168\\nRearview and door mirrors\\n169\\nAdjusting rearview mirror dimming\\n170\\nAngling adjustment of the door\\nmirrors\\n171\\nPanoramic roof*\\n172\\nOperating the panoramic roof*\\n174\\nAutomatic closing of the panor-\\namic roof's* sun blind\\n176\\nWiper blades and washer fluid\\n177\\nUsing windscreen wipers\\n177\\nUsing the rain sensor\\n178\\nActivating and deactivating the\\nrain sensor's memory function\\n179\\nUsing windscreen and headlamp\\nwashers\\n180\\nUsing the rear window wiper and\\nrear window washer\\n181\\nUsing automatic rear windscreen\\nwiping when reversing\\n182\\nSEATS AND STEERING WHEEL\\nManual front seat\\n184\\nPower* front seat\\n185\\nAdjusting the power* front seat\\n185\\nStoring position for seat, door mir-\\nrors and head-up display*\\n186\\nUsing a stored position for seat,\\ndoor mirrors and head-up display*\\n187\\nMassage settings* in the front seat\\n188\\nAdjusting massage settings* in\\nthe front seat\\n189\\nAdjusting* the length of the seat\\ncushion in the front seat\\n190\\nAdjusting the side support* in the\\nfront seat\\n191\\nAdjusting the lumbar support* in\\nthe front seat\\n192\\nAdjusting the passenger seat from\\nthe driver's seat*\\n193\\nLowering the backrests in the rear\\nseat\\n194\\nAdjusting the head restraints in\\nthe rear seat\\n196\\nSteering wheel controls and horn\\n197\\nSteering lock\\n198\\nAdjusting the steering wheel\\n198\\nCLIMATE\", metadata={'source': 'https://az685612.vo.msecnd.net/pdfs/20w17/XC60_OwnersManual_MY21_en-GB_TP32005/XC60_OwnersManual_MY21_en-GB_TP32005.pdf', 'file_path': 'https://az685612.vo.msecnd.net/pdfs/20w17/XC60_OwnersManual_MY21_en-GB_TP32005/XC60_OwnersManual_MY21_en-GB_TP32005.pdf', 'page': 6, 'total_pages': 720, 'format': 'PDF 1.4', 'title': '', 'author': '', 'subject': '', 'keywords': '', 'creator': '', 'producer': 'GPL Ghostscript 9.06', 'creationDate': \"D:20200421104728+02'00'\", 'modDate': \"D:20200421104728+02'00'\", 'trapped': ''}),\n",
       " Document(page_content='seat\\n194\\nAdjusting the head restraints in\\nthe rear seat\\n196\\nSteering wheel controls and horn\\n197\\nSteering lock\\n198\\nAdjusting the steering wheel\\n198\\nCLIMATE\\nClimate\\n202\\nClimate zones\\n202\\nClimate control - sensors\\n203\\nPerceived temperature\\n204\\nControlling the climate control\\nsystem using voice control\\n204\\nAir quality\\n205\\nCleanZone*\\n206\\nClean Zone Interior Package*\\n206\\nInterior Air Quality System*\\n207\\nActivating and deactivating the air\\nquality sensor*\\n207\\nPassenger compartment filter\\n208\\nAdvanced Air Cleaner*\\n208\\nAir distribution\\n208\\nChanging air distribution\\n209\\nOpening, closing and aiming the\\nair vents\\n210\\nTable of air distribution options\\n211\\nClimate controls\\n214\\nActivating and deactivating\\nheated front seat*\\n216\\nActivating and deactivating auto-\\nmatic start of heated front seat*\\n217\\nActivating and deactivating\\nheated rear seat*\\n217', metadata={'source': 'https://az685612.vo.msecnd.net/pdfs/20w17/XC60_OwnersManual_MY21_en-GB_TP32005/XC60_OwnersManual_MY21_en-GB_TP32005.pdf', 'file_path': 'https://az685612.vo.msecnd.net/pdfs/20w17/XC60_OwnersManual_MY21_en-GB_TP32005/XC60_OwnersManual_MY21_en-GB_TP32005.pdf', 'page': 6, 'total_pages': 720, 'format': 'PDF 1.4', 'title': '', 'author': '', 'subject': '', 'keywords': '', 'creator': '', 'producer': 'GPL Ghostscript 9.06', 'creationDate': \"D:20200421104728+02'00'\", 'modDate': \"D:20200421104728+02'00'\", 'trapped': ''}),\n",
       " Document(page_content='6\\n \\nActivating and deactivating venti-\\nlated front seat*\\n218\\nActivating and deactivating the\\nheated steering wheel*\\n219\\nActivating and deactivating auto-\\nmatic start of heated steering wheel*\\n219\\nActivating auto climate control\\n220\\nActivating and deactivating air\\nrecirculation\\n220\\nActivating and deactivating time\\nsetting for air recirculation\\n221\\nActivating and deactivating max\\ndefroster\\n221\\nActivating and deactivating the\\nheated windscreen*\\n222\\nActivating and deactivating auto-\\nmatic start of heated windscreen*\\n223\\nActivating and deactivating the\\nheated rear window and door mirrors\\n224\\nActivating and deactivating auto-\\nmatic starting of the heated rear\\nwindow and door mirrors\\n224\\nRegulating fan level for front seat\\n225\\nRegulating fan level for rear seat*\\n225\\nRegulating temperature for front seat\\n227\\nRegulating temperature for rear seat*\\n227\\nSynchronising temperature\\n229\\nActivating and deactivating air\\nconditioning\\n229\\n \\nParking climate*\\n230\\nPreconditioning*\\n230\\nStart and switch off preconditioning*\\n231\\nPreconditioning time setting*\\n232\\nAdding and editing time setting\\nfor preconditioning*\\n232\\nActivating and deactivating time\\nsetting for preconditioning*\\n234\\nRemoving time setting for precon-\\nditioning*\\n234\\nPrecleaning*\\n235\\nStarting and switching off pre-\\ncleaning*\\n235\\nClimate comfort when parking*\\n236\\nStarting and switching off climate\\ncomfort when parking*\\n237\\nSymbols and messages for park-\\ning climate control*\\n238\\nHeater*\\n239\\nParking heater*\\n240\\nAdditional heater*\\n241', metadata={'source': 'https://az685612.vo.msecnd.net/pdfs/20w17/XC60_OwnersManual_MY21_en-GB_TP32005/XC60_OwnersManual_MY21_en-GB_TP32005.pdf', 'file_path': 'https://az685612.vo.msecnd.net/pdfs/20w17/XC60_OwnersManual_MY21_en-GB_TP32005/XC60_OwnersManual_MY21_en-GB_TP32005.pdf', 'page': 7, 'total_pages': 720, 'format': 'PDF 1.4', 'title': '', 'author': '', 'subject': '', 'keywords': '', 'creator': '', 'producer': 'GPL Ghostscript 9.06', 'creationDate': \"D:20200421104728+02'00'\", 'modDate': \"D:20200421104728+02'00'\", 'trapped': ''}),\n",
       " Document(page_content='236\\nStarting and switching off climate\\ncomfort when parking*\\n237\\nSymbols and messages for park-\\ning climate control*\\n238\\nHeater*\\n239\\nParking heater*\\n240\\nAdditional heater*\\n241\\nActivating and deactivating auto-\\nmatic start of auxiliary heater*\\n241\\nKEY, LOCKS AND ALARM\\nLocking and unlocking\\n244\\nLock confirmation\\n244\\nLock indication setting\\n246\\nRemote control key\\n246\\nLocking and unlocking with the\\nremote control key\\n248\\nSettings for remotely controlled\\nand inside unlocking\\n249\\nUnlocking the tailgate with the\\nremote control key\\n250\\nRemote control key range\\n250\\nReplacing the battery in the\\nremote control key\\n251\\nOrdering more remote control keys\\n255\\nCare Key - restricted remote con-\\ntrol key\\n255\\nCare Key settings\\n256\\nDetachable key blade\\n257\\nLocking and unlocking with the\\ndetachable key blade\\n258\\nImmobiliser\\n259\\nType approval for the remote con-\\ntrol key system\\n260\\nKeyless and touch-sensitive surfaces*\\n275\\nKeyless locking and unlocking*\\n276\\nSettings for Keyless entry*\\n277\\nKeyless unlocking of the tailgate*\\n277', metadata={'source': 'https://az685612.vo.msecnd.net/pdfs/20w17/XC60_OwnersManual_MY21_en-GB_TP32005/XC60_OwnersManual_MY21_en-GB_TP32005.pdf', 'file_path': 'https://az685612.vo.msecnd.net/pdfs/20w17/XC60_OwnersManual_MY21_en-GB_TP32005/XC60_OwnersManual_MY21_en-GB_TP32005.pdf', 'page': 7, 'total_pages': 720, 'format': 'PDF 1.4', 'title': '', 'author': '', 'subject': '', 'keywords': '', 'creator': '', 'producer': 'GPL Ghostscript 9.06', 'creationDate': \"D:20200421104728+02'00'\", 'modDate': \"D:20200421104728+02'00'\", 'trapped': ''}),\n",
       " Document(page_content='7\\n \\nAntenna locations for the start\\nand lock systems\\n278\\nLocking and unlocking from inside\\nthe car\\n279\\nUnlocking the tailgate from the\\ninside of the car\\n280\\nActivating and deactivating child\\nsafety locks\\n280\\nAutomatic locking when driving\\n281\\nClosing and locking tailgate with\\nbutton*\\n282\\nSetting the max. opening for elec-\\ntrically operated tailgate*\\n284\\nOperating the tailgate with foot\\nmovement*\\n284\\nPrivate locking\\n286\\nActivating and deactivating pri-\\nvate locking\\n287\\nAlarm*\\n288\\nActivating and deactivating alarms*\\n289\\nReduced alarm level*\\n290\\nDouble lock*\\n291\\nDRIVER SUPPORT\\nDriving support systems\\n294\\nSpeed-dependent steering force\\n294\\nElectronic stability control\\n295\\nElectronic Stability Control in\\nsport mode\\n296\\nActivating or deactivating sport\\nmode for electronic stability control\\n297\\nSymbols and messages for elec-\\ntronic stability control\\n298\\nConnected Safety\\n300\\nActivating or deactivating\\nConnected Safety\\n301\\nLimitations of Connected Safety\\n301\\nRoad Sign Information*\\n302\\nActivating or deactivating road\\nsign information*\\n303\\nDisplay mode for road sign infor-\\nmation*\\n304\\nRoad Sign Information and\\nSensus Navigation*\\n306\\nWarning for speed limitation and\\nspeed camera from road sign\\ninformation*\\n306\\nActivating or deactivating warn-\\nings from road sign information*\\n307\\nLimitations of Road Sign Information*\\n308\\nSpeed limiter\\n309\\nSelecting and activating speed limiter\\n310\\n \\nDeactivating the speed limiter\\n311\\nTemporary deactivation of speed\\nlimiter\\n312\\nLimitations for speed limiter\\n312\\nAutomatic speed limiter\\n312', metadata={'source': 'https://az685612.vo.msecnd.net/pdfs/20w17/XC60_OwnersManual_MY21_en-GB_TP32005/XC60_OwnersManual_MY21_en-GB_TP32005.pdf', 'file_path': 'https://az685612.vo.msecnd.net/pdfs/20w17/XC60_OwnersManual_MY21_en-GB_TP32005/XC60_OwnersManual_MY21_en-GB_TP32005.pdf', 'page': 8, 'total_pages': 720, 'format': 'PDF 1.4', 'title': '', 'author': '', 'subject': '', 'keywords': '', 'creator': '', 'producer': 'GPL Ghostscript 9.06', 'creationDate': \"D:20200421104728+02'00'\", 'modDate': \"D:20200421104728+02'00'\", 'trapped': ''}),\n",
       " Document(page_content='Selecting and activating speed limiter\\n310\\n \\nDeactivating the speed limiter\\n311\\nTemporary deactivation of speed\\nlimiter\\n312\\nLimitations for speed limiter\\n312\\nAutomatic speed limiter\\n312\\nActivating or deactivating the\\nautomatic speed limiter\\n314\\nChanging the tolerance for the\\nautomatic speed limiter\\n315\\nLimitations for automatic speed limiter\\n315\\nCruise control\\n316\\nSelecting and activating cruise control\\n317\\nDeactivating cruise control\\n318\\nStandby mode for cruise control\\n318\\nAdaptive cruise control*\\n319\\nControls for adaptive cruise control*\\n320\\nDisplay mode for adaptive cruise\\ncontrol*\\n321\\nSelecting and activating adaptive\\ncruise control*\\n322\\nDeactivating adaptive cruise control*\\n323\\nStandby mode for adaptive cruise\\ncontrol*\\n324\\nLimitations for adaptive cruise control*\\n325\\nChange between cruise control\\nand adaptive cruise control* in the\\ncentre display\\n326', metadata={'source': 'https://az685612.vo.msecnd.net/pdfs/20w17/XC60_OwnersManual_MY21_en-GB_TP32005/XC60_OwnersManual_MY21_en-GB_TP32005.pdf', 'file_path': 'https://az685612.vo.msecnd.net/pdfs/20w17/XC60_OwnersManual_MY21_en-GB_TP32005/XC60_OwnersManual_MY21_en-GB_TP32005.pdf', 'page': 8, 'total_pages': 720, 'format': 'PDF 1.4', 'title': '', 'author': '', 'subject': '', 'keywords': '', 'creator': '', 'producer': 'GPL Ghostscript 9.06', 'creationDate': \"D:20200421104728+02'00'\", 'modDate': \"D:20200421104728+02'00'\", 'trapped': ''}),\n",
       " Document(page_content='8\\n \\nSymbols and messages for adap-\\ntive cruise control*\\n327\\nPilot Assist*\\n329\\nControls for Pilot Assist*\\n331\\nDisplay mode for Pilot Assist*\\n332\\nSelecting and activating Pilot Assist*\\n334\\nDeactivate Pilot Assist*\\n335\\nStandby mode for Pilot Assist*\\n335\\nTemporary disabling of steering\\nassistance with Pilot Assist*\\n336\\nLimitations of Pilot Assist*\\n337\\nSymbols and messages for\\nPilot Assist*\\n340\\nCornering support*\\n341\\nActivating or deactivating corner-\\ning support*\\n342\\nLimitations for cornering support*\\n342\\nOvertaking Assistance*\\n343\\nUse Overtaking Assistance\\n343\\nWarning from driver support in\\nthe event of a collision risk\\n344\\nChange of target with driver support\\n345\\nSet the stored speed for driver\\nsupport\\n346\\nSet time interval to vehicle ahead\\n347\\nDrive modes when using time\\ninterval to vehicles\\n348\\n \\nAutomatic braking with driver support\\n348\\nLane assistance\\n349\\nActivating or deactivating lane\\nassistance\\n351\\nSelecting assistance option for\\nlane assistance\\n352\\nLimitations of Lane assistance\\n352\\nSymbols and messages for lane\\nassistance\\n353\\nDisplay mode for lane assistance\\n355\\nCity Safety™\\n356\\nSubfunctions for City Safety\\n357\\nSetting the warning distance for\\nCity Safety\\n359\\nDetection of obstacles with City\\nSafety\\n360\\nCity Safety in cross traffic\\n362\\nLimitations for City Safety in cross\\ntraffic\\n363\\nCity Safety steering assistance for\\nevasive manoeuvre\\n364\\nLimitations of City Safety steering\\nassistance when taking evasive action\\n364\\nAutomatic braking in the event of\\nan impeded evasive manoeuvre\\nwith City Safety\\n365\\nCity Safety brakes for oncoming\\nvehicles\\n365\\n \\nLimitations of City Safety', metadata={'source': 'https://az685612.vo.msecnd.net/pdfs/20w17/XC60_OwnersManual_MY21_en-GB_TP32005/XC60_OwnersManual_MY21_en-GB_TP32005.pdf', 'file_path': 'https://az685612.vo.msecnd.net/pdfs/20w17/XC60_OwnersManual_MY21_en-GB_TP32005/XC60_OwnersManual_MY21_en-GB_TP32005.pdf', 'page': 9, 'total_pages': 720, 'format': 'PDF 1.4', 'title': '', 'author': '', 'subject': '', 'keywords': '', 'creator': '', 'producer': 'GPL Ghostscript 9.06', 'creationDate': \"D:20200421104728+02'00'\", 'modDate': \"D:20200421104728+02'00'\", 'trapped': ''}),\n",
       " Document(page_content='assistance when taking evasive action\\n364\\nAutomatic braking in the event of\\nan impeded evasive manoeuvre\\nwith City Safety\\n365\\nCity Safety brakes for oncoming\\nvehicles\\n365\\n \\nLimitations of City Safety\\n366\\nMessages for City Safety\\n369\\nSteering assistance at risk of collision\\n370\\nActivating or deactivating steering\\nassistance in the event of a colli-\\nsion risk\\n371\\nSteering assistance upon risk of\\nrun-off\\n371\\nSteering assistance upon risk of\\nhead-on collision\\n372\\nSteering assistance upon risk of\\nrear-end collision*\\n373\\nLimitations for steering assistance\\nat risk of collision\\n374\\nSymbols and messages for steer-\\ning assistance upon risk of collision\\n375\\nRear Collision Warning*\\n376\\nLimitations of Rear Collision Warning*\\n376\\nBLIS*\\n377\\nActivating or deactivating BLIS\\n378\\nLimitations of BLIS\\n379\\nMessages for BLIS\\n380\\nDriver Alert Control\\n381\\nActivating or deactivating Driver\\nAlert Control\\n382\\nSelect rest stop guidance in the\\nevent of a warning from Driver\\nAlert Control\\n382', metadata={'source': 'https://az685612.vo.msecnd.net/pdfs/20w17/XC60_OwnersManual_MY21_en-GB_TP32005/XC60_OwnersManual_MY21_en-GB_TP32005.pdf', 'file_path': 'https://az685612.vo.msecnd.net/pdfs/20w17/XC60_OwnersManual_MY21_en-GB_TP32005/XC60_OwnersManual_MY21_en-GB_TP32005.pdf', 'page': 9, 'total_pages': 720, 'format': 'PDF 1.4', 'title': '', 'author': '', 'subject': '', 'keywords': '', 'creator': '', 'producer': 'GPL Ghostscript 9.06', 'creationDate': \"D:20200421104728+02'00'\", 'modDate': \"D:20200421104728+02'00'\", 'trapped': ''}),\n",
       " Document(page_content='9\\n \\nLimitations of Driver Alert Control\\n383\\nDistance Warning*\\n383\\nActivating or deactivating dis-\\ntance warning\\n384\\nLimitations of Distance Warning\\n384\\nCross Traffic Alert*\\n385\\nActivating or deactivating Cross\\nTraffic Alert*\\n386\\nLimitations of Cross Traffic Alert*\\n386\\nMessages for Cross Traffic Alert*\\n388\\nPark Assist*\\n389\\nPark Assist Pilot front, rear and\\nalong the sides*\\n390\\nActivating or deactivating the\\nparking assistance system*\\n391\\nLimitations of Parking assistance\\n392\\nSymbols and messages for Park\\nAssist Pilot\\n394\\nPark assist camera*\\n395\\nPark assist camera locations and\\nsurveillance areas*\\n396\\nPark assist lines for park assist\\ncamera*\\n398\\nSensor fields for parking assis-\\ntance system\\n400\\nActivate park assist camera\\n402\\nSymbols and messages for Park\\nassist camera\\n403\\n \\nPark Assist Pilot* \\n405\\nParking variants with Park Assist\\nPilot*\\n406\\nUsing Park Assist Pilot*\\n407\\nLeaving parallel parking with Park\\nAssist Pilot*\\n409\\nLimitations of Park Assist Pilot* \\n410\\nMessages for Park Assist Pilot*\\n412\\nRadar unit\\n413\\nType approval for radar device\\n414\\nCamera unit\\n422\\nLimitations for camera and radar unit\\n422\\nRecommended maintenance for\\ncamera and radar unit\\n425\\nSymbols and messages for cam-\\nera and radar unit\\n427\\nSTARTING AND DRIVING\\nStarting the car\\n430\\nSwitching off the car\\n431\\nIgnition positions\\n432\\nSelecting ignition mode\\n433\\nAlcohol lock*\\n433\\nBypass of the alcohol lock*\\n434\\nBefore starting the engine with\\nthe alcohol lock*\\n434\\nBrake functions\\n435\\nFoot brake\\n435\\nBrake assistance\\n436', metadata={'source': 'https://az685612.vo.msecnd.net/pdfs/20w17/XC60_OwnersManual_MY21_en-GB_TP32005/XC60_OwnersManual_MY21_en-GB_TP32005.pdf', 'file_path': 'https://az685612.vo.msecnd.net/pdfs/20w17/XC60_OwnersManual_MY21_en-GB_TP32005/XC60_OwnersManual_MY21_en-GB_TP32005.pdf', 'page': 10, 'total_pages': 720, 'format': 'PDF 1.4', 'title': '', 'author': '', 'subject': '', 'keywords': '', 'creator': '', 'producer': 'GPL Ghostscript 9.06', 'creationDate': \"D:20200421104728+02'00'\", 'modDate': \"D:20200421104728+02'00'\", 'trapped': ''}),\n",
       " Document(page_content='433\\nAlcohol lock*\\n433\\nBypass of the alcohol lock*\\n434\\nBefore starting the engine with\\nthe alcohol lock*\\n434\\nBrake functions\\n435\\nFoot brake\\n435\\nBrake assistance\\n436\\nBraking on wet roads\\n436\\nBraking on gritted roads\\n437\\nBrake system maintenance\\n437\\nParking brake\\n437\\nActivating and deactivating the\\nparking brake\\n438\\nAutomatic parking brake activa-\\ntion setting\\n440\\nParking on a hill\\n440\\nIn the event of a fault in the park-\\ning brake\\n440\\nAutomatic braking when stationary\\n441\\nActivating and deactivating the\\nautomatic brake at a standstill\\n442\\nHelp when starting on a hill\\n442', metadata={'source': 'https://az685612.vo.msecnd.net/pdfs/20w17/XC60_OwnersManual_MY21_en-GB_TP32005/XC60_OwnersManual_MY21_en-GB_TP32005.pdf', 'file_path': 'https://az685612.vo.msecnd.net/pdfs/20w17/XC60_OwnersManual_MY21_en-GB_TP32005/XC60_OwnersManual_MY21_en-GB_TP32005.pdf', 'page': 10, 'total_pages': 720, 'format': 'PDF 1.4', 'title': '', 'author': '', 'subject': '', 'keywords': '', 'creator': '', 'producer': 'GPL Ghostscript 9.06', 'creationDate': \"D:20200421104728+02'00'\", 'modDate': \"D:20200421104728+02'00'\", 'trapped': ''}),\n",
       " Document(page_content='10\\n \\nAuto braking after a collision\\n443\\nRegenerative braking*\\n443\\nGearbox\\n443\\nManual gearbox\\n444\\nAutomatic gearbox\\n444\\nChanging gear with automatic\\ngearbox\\n445\\nChanging gear with steering\\nwheel paddles*\\n448\\nGear selector inhibitor\\n449\\nDeactivate automatic gear selec-\\ntor inhibitor\\n450\\nKick-down function\\n451\\nLaunch function*\\n451\\nSymbols and messages for auto-\\nmatic gearbox\\n452\\nGear shift indicator\\n452\\nAll-wheel drive*\\n454\\nDrive modes*\\n454\\nChanging drive mode*\\n456\\nDrive mode Eco\\n457\\nActivating and deactivating drive\\nmode Eco with the function button\\n459\\nStart/stop function\\n460\\nDriving with start/stop function\\n460\\nDeactivating the start/stop function\\n462\\n \\nConditions for the Start/Stop function\\n462\\nLevel control* and shock absorption\\n464\\nSettings for level control*\\n467\\nLow speed control*\\n468\\nActivating and deactivating low-\\nspeed driving* using a function button\\n468\\nHill descent control*\\n469\\nActivating and deactivating hill\\ndescent control* with the function\\nbutton\\n470\\nEconomical driving\\n471\\nPreparations for a long trip\\n472\\nWinter driving\\n473\\nDriving in water\\n473\\nOpening and closing the fuel filler flap\\n474\\nFilling fuel\\n474\\nHandling of fuel\\n476\\nPetrol\\n476\\nPetrol particle filter\\n477\\nDiesel\\n478\\nEmpty tank and diesel engine\\n479\\nDiesel particulate filter\\n480\\nEmission control with AdBlue®\\n481\\nHandling AdBlue®\\n482\\nChecking and filling with AdBlue®\\n482\\n \\nSymbols and messages for AdBlue®\\n485\\nOverheating in the engine and\\ndrive system\\n487\\nOverloading the starter battery\\n488', metadata={'source': 'https://az685612.vo.msecnd.net/pdfs/20w17/XC60_OwnersManual_MY21_en-GB_TP32005/XC60_OwnersManual_MY21_en-GB_TP32005.pdf', 'file_path': 'https://az685612.vo.msecnd.net/pdfs/20w17/XC60_OwnersManual_MY21_en-GB_TP32005/XC60_OwnersManual_MY21_en-GB_TP32005.pdf', 'page': 11, 'total_pages': 720, 'format': 'PDF 1.4', 'title': '', 'author': '', 'subject': '', 'keywords': '', 'creator': '', 'producer': 'GPL Ghostscript 9.06', 'creationDate': \"D:20200421104728+02'00'\", 'modDate': \"D:20200421104728+02'00'\", 'trapped': ''}),\n",
       " Document(page_content='Handling AdBlue®\\n482\\nChecking and filling with AdBlue®\\n482\\n \\nSymbols and messages for AdBlue®\\n485\\nOverheating in the engine and\\ndrive system\\n487\\nOverloading the starter battery\\n488\\nUsing jump starting with another\\nbattery\\n488\\nTowbar*\\n490\\nSpecifications for towbar*\\n491\\nExtendable and retractable towbar*\\n492\\nDriving with a trailer\\n494\\nTrailer stability assist*\\n496\\nChecking trailer lamps\\n497\\nTowbar-mounted bicycle rack*\\n498\\nTowing\\n499\\nFitting and removing the towing eye\\n500\\nRecovery\\n502\\nHomeLink®*\\n502\\nProgramming HomeLink®*\\n503\\nUsing HomeLink®*\\n505\\nType approval for HomeLink®*\\n506\\nCompass*\\n506\\nActivating and deactivating the\\ncompass*\\n506\\nCalibrating the compass*\\n507', metadata={'source': 'https://az685612.vo.msecnd.net/pdfs/20w17/XC60_OwnersManual_MY21_en-GB_TP32005/XC60_OwnersManual_MY21_en-GB_TP32005.pdf', 'file_path': 'https://az685612.vo.msecnd.net/pdfs/20w17/XC60_OwnersManual_MY21_en-GB_TP32005/XC60_OwnersManual_MY21_en-GB_TP32005.pdf', 'page': 11, 'total_pages': 720, 'format': 'PDF 1.4', 'title': '', 'author': '', 'subject': '', 'keywords': '', 'creator': '', 'producer': 'GPL Ghostscript 9.06', 'creationDate': \"D:20200421104728+02'00'\", 'modDate': \"D:20200421104728+02'00'\", 'trapped': ''}),\n",
       " Document(page_content='11\\nSOUND, MEDIA AND INTERNET\\nSound, media and Internet\\n510\\nAudio settings\\n510\\nSound experience*\\n511\\nApps\\n512\\nDownloading apps\\n513\\nUpdating apps\\n514\\nDeleting apps\\n514\\nRadio\\n515\\nStart radio\\n515\\nChanging radio band and radio station\\n516\\nSearching for radio stations\\n517\\nSave radio channels in the Radio\\nFavourites app\\n518\\nSettings for radio\\n518\\nRDS radio\\n520\\nDigital radio*\\n520\\nLink between FM and digital radio*\\n521\\nMedia player\\n521\\nMedia playback\\n522\\nControlling and changing media\\n523\\nSearching media\\n524\\nGracenote®\\n525\\nVideo\\n526\\nPlaying a video\\n526\\n \\nPlaying back DivX® \\n526\\nSettings for video\\n527\\nMedia via Bluetooth®\\n527\\nConnecting a device via Bluetooth®\\n527\\nMedia via USB port\\n528\\nConnecting a device via USB port\\n528\\nTechnical specifications for USB\\ndevices\\n529\\nCompatible media formats\\n529\\nApple® CarPlay®*\\n530\\nUsing Apple® CarPlay®*\\n531\\nSettings for Apple® CarPlay®*\\n533\\nTips for using Apple® CarPlay®*\\n533\\nAndroid Auto*\\n534\\nUsing Android Auto*\\n535\\nSettings for Android Auto*\\n536\\nTips for using Android Auto*\\n537\\nPhone\\n537\\nConnecting a phone to the car via\\nBluetooth for the first time\\n538\\nConnecting a phone to the car via\\nBluetooth automatically\\n540\\nConnecting a phone to the car via\\nBluetooth manually\\n541\\nDisconnecting a Bluetooth-con-\\nnected phone\\n541\\n \\nSwitch between Bluetooth-con-\\nnected phones\\n541\\nRemoving devices connected to\\nBluetooth\\n542\\nManaging phone calls\\n542\\nManaging text messages\\n543\\nSettings for text messages\\n544\\nManaging the phone book\\n544', metadata={'source': 'https://az685612.vo.msecnd.net/pdfs/20w17/XC60_OwnersManual_MY21_en-GB_TP32005/XC60_OwnersManual_MY21_en-GB_TP32005.pdf', 'file_path': 'https://az685612.vo.msecnd.net/pdfs/20w17/XC60_OwnersManual_MY21_en-GB_TP32005/XC60_OwnersManual_MY21_en-GB_TP32005.pdf', 'page': 12, 'total_pages': 720, 'format': 'PDF 1.4', 'title': '', 'author': '', 'subject': '', 'keywords': '', 'creator': '', 'producer': 'GPL Ghostscript 9.06', 'creationDate': \"D:20200421104728+02'00'\", 'modDate': \"D:20200421104728+02'00'\", 'trapped': ''}),\n",
       " Document(page_content='Switch between Bluetooth-con-\\nnected phones\\n541\\nRemoving devices connected to\\nBluetooth\\n542\\nManaging phone calls\\n542\\nManaging text messages\\n543\\nSettings for text messages\\n544\\nManaging the phone book\\n544\\nSettings for phone\\n545\\nSettings for Bluetooth devices\\n546\\nWireless phone charger*\\n546\\nUsing the wireless telephone charger*\\n546\\nCertificate for wireless charger\\n548\\nInternet-connected car*\\n552\\nConnect the car to the Internet via\\na Bluetooth-enabled phone\\n553\\nConnect the car to the Internet via\\na phone (Wi-Fi)\\n553\\nConnect the car to the Internet via\\ncar modem (SIM card)\\n554\\nSettings for car modem*\\n555\\nSharing Internet access from the\\ncar via a Wi-Fi hotspot\\n555\\nNo or poor Internet connection\\n556\\nRemove Wi-Fi network\\n557\\nWi-Fi technologies and security\\n557', metadata={'source': 'https://az685612.vo.msecnd.net/pdfs/20w17/XC60_OwnersManual_MY21_en-GB_TP32005/XC60_OwnersManual_MY21_en-GB_TP32005.pdf', 'file_path': 'https://az685612.vo.msecnd.net/pdfs/20w17/XC60_OwnersManual_MY21_en-GB_TP32005/XC60_OwnersManual_MY21_en-GB_TP32005.pdf', 'page': 12, 'total_pages': 720, 'format': 'PDF 1.4', 'title': '', 'author': '', 'subject': '', 'keywords': '', 'creator': '', 'producer': 'GPL Ghostscript 9.06', 'creationDate': \"D:20200421104728+02'00'\", 'modDate': \"D:20200421104728+02'00'\", 'trapped': ''}),\n",
       " Document(page_content=\"12\\n \\nUser terms and conditions and\\ndata sharing\\n558\\nActivating and deactivating data\\nsharing\\n558\\nData sharing for services\\n559\\nStorage space on hard disk\\n560\\nLicense agreement for audio and media 561\\nWHEELS AND TYRES\\nTyres\\n572\\nDimension designation for tyre\\n574\\nDimension designation for wheel rim\\n575\\nTyres' rotation direction\\n575\\nTread wear indicators on the tyres\\n576\\nChecking tyre pressure\\n576\\nAdjusting tyre pressure\\n577\\nRecommended tyre pressure\\n578\\nTyre pressure monitoring system*\\n579\\nSaving a new reference value for\\ntyre pressure monitoring*\\n580\\nSee tyre pressure status in the\\ncentre display*\\n581\\nAction in the event of warning for\\nlow tyre pressure\\n582\\nMessages for tyre pressure moni-\\ntoring*\\n583\\nChanging wheel\\n583\\nTool kit\\n585\\nJack*\\n586\\nWheel bolts\\n586\\nSpare wheel*\\n587\\nHandling the spare wheel*\\n588\\nWinter tyres\\n589\\nSnow chains\\n589\\nEmergency puncture repair kit\\n590\\n \\nUsing a puncture repair kit\\n591\\nInflating tyres with the compressor\\nfrom the puncture repair kit\\n595\", metadata={'source': 'https://az685612.vo.msecnd.net/pdfs/20w17/XC60_OwnersManual_MY21_en-GB_TP32005/XC60_OwnersManual_MY21_en-GB_TP32005.pdf', 'file_path': 'https://az685612.vo.msecnd.net/pdfs/20w17/XC60_OwnersManual_MY21_en-GB_TP32005/XC60_OwnersManual_MY21_en-GB_TP32005.pdf', 'page': 13, 'total_pages': 720, 'format': 'PDF 1.4', 'title': '', 'author': '', 'subject': '', 'keywords': '', 'creator': '', 'producer': 'GPL Ghostscript 9.06', 'creationDate': \"D:20200421104728+02'00'\", 'modDate': \"D:20200421104728+02'00'\", 'trapped': ''}),\n",
       " Document(page_content='13\\nLOADING, STORAGE AND\\nPASSENGER COMPARTMENT\\nPassenger compartment interior\\n598\\nTunnel console\\n599\\nElectrical sockets\\n600\\nUsing electrical sockets\\n601\\nUsing the glovebox\\n602\\nSun visors\\n603\\nCargo area\\n603\\nRecommendations for loading\\n604\\nRoof load and loading on load carriers\\n605\\nBag hooks\\n606\\nLoad retaining eyelets\\n606\\nThrough-load hatch in the rear seat\\n607\\nFitting and removing cargo cover*\\n607\\nOperating cargo cover*\\n609\\nFitting and removing safety grilles*\\n610\\nFitting and removing the safety net*\\n612\\nFirst aid kit*\\n614\\nWarning triangle\\n614\\nMAINTENANCE AND SERVICE\\nVolvo service programme\\n618\\nData transfer between car and\\nworkshop via Wi-Fi\\n618\\nDownload Center\\n619\\nManaging system updates via the\\nDownload Centre\\n619\\nCar status\\n620\\nBook service and repair\\n621\\nSending car information to a workshop\\n622\\nRaise the car\\n623\\nServicing the climate control system\\n626\\nHead up display when replacing\\nthe windscreen*\\n626\\nOpening and closing the bonnet\\n627\\nEngine compartment overview\\n628\\nEngine oil\\n629\\nChecking and filling with engine oil\\n630\\nCoolant\\n632\\nTopping up coolant\\n632\\nStarter battery\\n634\\nSupport battery\\n636\\nSymbols on the batteries\\n638\\nBattery recycle\\n638\\nFuses and central electrical units\\n639\\nReplacing a fuse\\n639\\n \\nFuses in engine compartment\\n641\\nFuses under glovebox\\n646\\nFuses in cargo area\\n651\\nBulb replacement\\n656\\nCleaning the interior\\n656\\nCleaning the centre display\\n657\\nCleaning the Head-up display* and\\ndriver display\\n658\\nCleaning fabric upholstery and\\nheadlining\\n658\\nCleaning the seatbelts\\n659', metadata={'source': 'https://az685612.vo.msecnd.net/pdfs/20w17/XC60_OwnersManual_MY21_en-GB_TP32005/XC60_OwnersManual_MY21_en-GB_TP32005.pdf', 'file_path': 'https://az685612.vo.msecnd.net/pdfs/20w17/XC60_OwnersManual_MY21_en-GB_TP32005/XC60_OwnersManual_MY21_en-GB_TP32005.pdf', 'page': 14, 'total_pages': 720, 'format': 'PDF 1.4', 'title': '', 'author': '', 'subject': '', 'keywords': '', 'creator': '', 'producer': 'GPL Ghostscript 9.06', 'creationDate': \"D:20200421104728+02'00'\", 'modDate': \"D:20200421104728+02'00'\", 'trapped': ''}),\n",
       " Document(page_content='656\\nCleaning the interior\\n656\\nCleaning the centre display\\n657\\nCleaning the Head-up display* and\\ndriver display\\n658\\nCleaning fabric upholstery and\\nheadlining\\n658\\nCleaning the seatbelts\\n659\\nCleaning textile floor and entrance\\nmats\\n659\\nCleaning leather upholstery*\\n660\\nCleaning the leather steering wheel\\n661\\nCleaning interior plastic, metal and\\nwood parts\\n661\\nCleaning the exterior\\n662\\nPolishing and waxing\\n662\\nHandwashing\\n663\\nAutomatic car wash\\n664\\nHigh-pressure washing\\n666\\nCleaning the wiper blades\\n666\\nCleaning exterior plastic, rubber\\nand trim components\\n667\\nCleaning wheel rims\\n668', metadata={'source': 'https://az685612.vo.msecnd.net/pdfs/20w17/XC60_OwnersManual_MY21_en-GB_TP32005/XC60_OwnersManual_MY21_en-GB_TP32005.pdf', 'file_path': 'https://az685612.vo.msecnd.net/pdfs/20w17/XC60_OwnersManual_MY21_en-GB_TP32005/XC60_OwnersManual_MY21_en-GB_TP32005.pdf', 'page': 14, 'total_pages': 720, 'format': 'PDF 1.4', 'title': '', 'author': '', 'subject': '', 'keywords': '', 'creator': '', 'producer': 'GPL Ghostscript 9.06', 'creationDate': \"D:20200421104728+02'00'\", 'modDate': \"D:20200421104728+02'00'\", 'trapped': ''}),\n",
       " Document(page_content='14\\n \\nRustproofing\\n668\\nCar paintwork\\n668\\nTouching up minor paintwork damage\\n669\\nColour codes\\n670\\nReplacing the wiper blade, rear\\nwindow\\n670\\nReplacing windscreen wiper blades\\n671\\nSet the wiper blades in service\\nposition\\n672\\nFilling washer fluid\\n673\\nSPECIFICATIONS\\nType designations\\n676\\nDimensions\\n679\\nWeights\\n681\\nTowing capacity and towball load\\n682\\nEngine specifications\\n684\\nEngine oil — specifications\\n686\\nAdverse driving conditions for\\nengine oil\\n688\\nTransmission fluid – specifications\\n689\\nBrake fluid – specifications\\n689\\nFuel tank - volume\\n689\\nTank capacity for AdBlue®\\n690\\nAir conditioning — specifications\\n690\\nFuel consumption and CO2 emissions\\n692\\nApproved wheel and tyre sizes\\n696\\nMinimum permitted tyre load\\nindex and speed rating for tyres\\n698\\nApproved tyre pressures\\n700\\nALPHABETICAL INDEX\\nAlphabetical Index\\n701', metadata={'source': 'https://az685612.vo.msecnd.net/pdfs/20w17/XC60_OwnersManual_MY21_en-GB_TP32005/XC60_OwnersManual_MY21_en-GB_TP32005.pdf', 'file_path': 'https://az685612.vo.msecnd.net/pdfs/20w17/XC60_OwnersManual_MY21_en-GB_TP32005/XC60_OwnersManual_MY21_en-GB_TP32005.pdf', 'page': 15, 'total_pages': 720, 'format': 'PDF 1.4', 'title': '', 'author': '', 'subject': '', 'keywords': '', 'creator': '', 'producer': 'GPL Ghostscript 9.06', 'creationDate': \"D:20200421104728+02'00'\", 'modDate': \"D:20200421104728+02'00'\", 'trapped': ''}),\n",
       " Document(page_content='OWNER INFORMATION', metadata={'source': 'https://az685612.vo.msecnd.net/pdfs/20w17/XC60_OwnersManual_MY21_en-GB_TP32005/XC60_OwnersManual_MY21_en-GB_TP32005.pdf', 'file_path': 'https://az685612.vo.msecnd.net/pdfs/20w17/XC60_OwnersManual_MY21_en-GB_TP32005/XC60_OwnersManual_MY21_en-GB_TP32005.pdf', 'page': 16, 'total_pages': 720, 'format': 'PDF 1.4', 'title': '', 'author': '', 'subject': '', 'keywords': '', 'creator': '', 'producer': 'GPL Ghostscript 9.06', 'creationDate': \"D:20200421104728+02'00'\", 'modDate': \"D:20200421104728+02'00'\", 'trapped': ''}),\n",
       " Document(page_content='OWNER INFORMATION\\n16\\nOwner information\\nOwner\\'s information is available in several\\ndifferent product formats, both digital and\\nprinted. The owner\\'s manual is available in\\nthe car\\'s centre display, as a mobile app and\\non the Volvo Cars support site. There is a\\nQuick Guide and a supplement to the\\nowner\\'s manual available in the glovebox,\\nwith specifications and fuse information,\\namongst other things. A printed owner\\'s\\nmanual can be ordered.\\nThe car\\'s centre display1\\nIn the centre display, drag\\ndown the top view and tap on\\nOwner\\'s manual. Available\\nhere are options for visual\\nnavigation with exterior and\\ninterior images of the car. The\\ninformation is searchable and\\nis also divided into categories.\\nMobile app\\nIn App Store or Google Play,\\nsearch for \"Volvo Manual\",\\ndownload the app to your\\nsmartphone or tablet and\\nselect the car. Available in the\\napp are video tutorials and\\noptions for visual navigation\\nwith exterior and interior images of the car.\\nThe content is searchable, and the various\\nsections are designed to facilitate navigation\\nVolvo Cars support site\\nGo to volvocars.com/support\\nand select your country. Here\\nyou can find owner\\'s man-\\nuals, both online and in PDF\\nformat. On the Volvo Cars\\nsupport site there are also\\nvideo tutorials and further\\ninformation and help regarding your Volvo and\\nyour car ownership. The page is available for\\nmost markets.\\nPrinted information\\nThere is a supplement to the\\nowner\\'s manual1 in the glove-\\nbox that contains information\\non fuses and specifications,\\nas well as a summary of\\nimportant and practical infor-\\nmation.\\nThere is also a Quick Guide available in printed\\nformat that helps you to get started with the\\nmost commonly used functions in the car.\\nDepending on equipment level selected, mar-', metadata={'source': 'https://az685612.vo.msecnd.net/pdfs/20w17/XC60_OwnersManual_MY21_en-GB_TP32005/XC60_OwnersManual_MY21_en-GB_TP32005.pdf', 'file_path': 'https://az685612.vo.msecnd.net/pdfs/20w17/XC60_OwnersManual_MY21_en-GB_TP32005/XC60_OwnersManual_MY21_en-GB_TP32005.pdf', 'page': 17, 'total_pages': 720, 'format': 'PDF 1.4', 'title': '', 'author': '', 'subject': '', 'keywords': '', 'creator': '', 'producer': 'GPL Ghostscript 9.06', 'creationDate': \"D:20200421104728+02'00'\", 'modDate': \"D:20200421104728+02'00'\", 'trapped': ''}),\n",
       " Document(page_content=\"important and practical infor-\\nmation.\\nThere is also a Quick Guide available in printed\\nformat that helps you to get started with the\\nmost commonly used functions in the car.\\nDepending on equipment level selected, mar-\\nket, etc. additional owner's information may\\nalso be available in printed format in the car.\\nA printed owner's manual and associated sup-\\nplement can be ordered. Contact a Volvo\\ndealer to order.\\n1 A complete printed manual is included with the car for markets without owner's manual in the centre display.\", metadata={'source': 'https://az685612.vo.msecnd.net/pdfs/20w17/XC60_OwnersManual_MY21_en-GB_TP32005/XC60_OwnersManual_MY21_en-GB_TP32005.pdf', 'file_path': 'https://az685612.vo.msecnd.net/pdfs/20w17/XC60_OwnersManual_MY21_en-GB_TP32005/XC60_OwnersManual_MY21_en-GB_TP32005.pdf', 'page': 17, 'total_pages': 720, 'format': 'PDF 1.4', 'title': '', 'author': '', 'subject': '', 'keywords': '', 'creator': '', 'producer': 'GPL Ghostscript 9.06', 'creationDate': \"D:20200421104728+02'00'\", 'modDate': \"D:20200421104728+02'00'\", 'trapped': ''}),\n",
       " Document(page_content=\"OWNER INFORMATION\\n}}\\n17\\nIMPORTANT\\nThe driver is always responsible that the\\nvehicle is driven safely in traffic and that\\napplicable laws and regulations are fol-\\nlowed. It is also important that the car is\\nmaintained and handled in accordance\\nwith Volvo's recommendations in the\\nowner's information.\\nIf there should be a difference between the\\ninformation in the centre display and the\\nprinted information then it is always the\\nprinted information that applies.\\nNOTE\\nChanging the language in the centre dis-\\nplay may mean that some owner's informa-\\ntion is not compliant with national or local\\nlaws and regulations. Do not switch to a\\nlanguage that is difficult to understand as\\nthis may make it difficult to find your way\\nback through the screen structure.\\nRelated information\\n•\\nOwner's manual in centre display (p. 17)\\n•\\nOwner's Manual in mobile devices\\n(p. 20)\\n•\\nVolvo Cars support site (p. 21)\\n•\\nReading the owner's manual (p. 21)\\nOwner's manual in centre display\\nA digital2 version of the owner's manual is\\navailable in the car's centre display.\\nThe digital owner's manual can be accessed\\nfrom the top view, and in some cases the con-\\ntextual owner's manual can also be accessed\\nfrom the top view.\\nNOTE\\nThe digital owner's manual is not available\\nwhile driving.\\nOwner's manual\\nTop view with button for owner's manual.\\nTo open the owner's manual - drag down the\\ntop view in the centre display and tap on\\nOwner's manual.\\nThe information in the owner's manual can be\\naccessed directly via the owner's manual\\nhomepage or its top menu.\\n2 Applies for most markets.\", metadata={'source': 'https://az685612.vo.msecnd.net/pdfs/20w17/XC60_OwnersManual_MY21_en-GB_TP32005/XC60_OwnersManual_MY21_en-GB_TP32005.pdf', 'file_path': 'https://az685612.vo.msecnd.net/pdfs/20w17/XC60_OwnersManual_MY21_en-GB_TP32005/XC60_OwnersManual_MY21_en-GB_TP32005.pdf', 'page': 18, 'total_pages': 720, 'format': 'PDF 1.4', 'title': '', 'author': '', 'subject': '', 'keywords': '', 'creator': '', 'producer': 'GPL Ghostscript 9.06', 'creationDate': \"D:20200421104728+02'00'\", 'modDate': \"D:20200421104728+02'00'\", 'trapped': ''}),\n",
       " Document(page_content=\"||\\nOWNER INFORMATION\\n18\\nContextual owner's manual\\nTop view with button for contextual owner's manual.\\nThe contextual owner's manual is a shortcut to\\nan article in the owner's manual that describes\\nthe active function shown on the screen.\\nWhen the contextual owner's manual is availa-\\nble, it is shown to the right of Owner's\\nmanual in the top view.\\nTapping on the contextual owner's manual\\ntherefore opens an article in the owner's man-\\nual that is related to the content that is shown\\non the screen. E.g. tap on Navigation Manual\\n– an article that is related to navigation opens.\\nThis only applies to some of the apps in the\\ncar. For downloaded third party apps,\\nfor example, it is not possible to access app-\\nspecific articles.\\nRelated information\\n•\\nNavigate in the owner's manual in the\\ncentre display (p. 18)\\n•\\nNavigating in the centre display's views\\n(p. 110)\\n•\\nDownloading apps (p. 513)\\nNavigate in the owner's manual in\\nthe centre display\\nThe digital owner's manual can be accessed\\nfrom the centre display top view in the car.\\nThe content is searchable, and the various\\nsections are designed to facilitate navigation.\\nThe owner's manual is accessed from the top view.\\n–\\nTo open the owner's manual - drag down\\nthe top view in the centre display and tap\\non Owner's manual.\\nThere is a range of different options for finding\\ninformation in the owner's manual. The\\noptions can be accessed from the owner's\\nmanual homepage and from the top menu.\", metadata={'source': 'https://az685612.vo.msecnd.net/pdfs/20w17/XC60_OwnersManual_MY21_en-GB_TP32005/XC60_OwnersManual_MY21_en-GB_TP32005.pdf', 'file_path': 'https://az685612.vo.msecnd.net/pdfs/20w17/XC60_OwnersManual_MY21_en-GB_TP32005/XC60_OwnersManual_MY21_en-GB_TP32005.pdf', 'page': 19, 'total_pages': 720, 'format': 'PDF 1.4', 'title': '', 'author': '', 'subject': '', 'keywords': '', 'creator': '', 'producer': 'GPL Ghostscript 9.06', 'creationDate': \"D:20200421104728+02'00'\", 'modDate': \"D:20200421104728+02'00'\", 'trapped': ''})]"
      ]
     },
     "execution_count": 7,
     "metadata": {},
     "output_type": "execute_result"
    }
   ],
   "source": [
    "from langchain.text_splitter import RecursiveCharacterTextSplitter\n",
    "import tiktoken\n",
    "\n",
    "def tiktoken_len(text):\n",
    "    tokens = tiktoken.encoding_for_model(\"gpt-3.5-turbo\").encode(\n",
    "        text,\n",
    "    )\n",
    "    return len(tokens)\n",
    "\n",
    "text_splitter = RecursiveCharacterTextSplitter(\n",
    "    chunk_size = 400,\n",
    "    chunk_overlap = 50,\n",
    "    length_function = tiktoken_len,\n",
    ")\n",
    "\n",
    "car_manual_chunks = text_splitter.split_documents(partial_car_manual_data)\n",
    "car_manual_chunks"
   ]
  },
  {
   "cell_type": "code",
   "execution_count": 8,
   "metadata": {},
   "outputs": [
    {
     "data": {
      "text/plain": [
       "392"
      ]
     },
     "execution_count": 8,
     "metadata": {},
     "output_type": "execute_result"
    }
   ],
   "source": [
    "max_chunk_length = 0\n",
    "\n",
    "for chunk in car_manual_chunks:\n",
    "    max_chunk_length = max(max_chunk_length, tiktoken_len(chunk.page_content))\n",
    "\n",
    "max_chunk_length"
   ]
  },
  {
   "cell_type": "code",
   "execution_count": 9,
   "metadata": {},
   "outputs": [
    {
     "name": "stdout",
     "output_type": "stream",
     "text": [
      "index created: mechainic\n"
     ]
    }
   ],
   "source": [
    "from pinecone import Pinecone, PodSpec\n",
    "pinecone_client = Pinecone()\n",
    "\n",
    "pinecone_client.create_index(\n",
    "    name=os.environ.get('index'),\n",
    "    dimension=1536,\n",
    "    metric=\"cosine\",\n",
    "    spec=PodSpec(\n",
    "        environment=\"gcp-starter\"\n",
    "    )\n",
    ")\n",
    "\n",
    "while not pinecone_client.describe_index(os.environ.get('index')).status['ready']:\n",
    "    print(\"loading\")\n",
    "\n",
    "print(f\"index created: {os.environ.get('index')}\")"
   ]
  },
  {
   "cell_type": "code",
   "execution_count": 63,
   "metadata": {},
   "outputs": [],
   "source": [
    "from langchain.vectorstores import Pinecone\n",
    "from langchain_openai import OpenAIEmbeddings\n",
    "\n",
    "embedding_model = OpenAIEmbeddings(model=\"text-embedding-3-small\")\n",
    "\n",
    "vector_store = Pinecone.from_documents(car_manual_chunks, embedding_model, index_name=os.environ.get('index'))"
   ]
  },
  {
   "cell_type": "code",
   "execution_count": 64,
   "metadata": {},
   "outputs": [],
   "source": [
    "retriever = vector_store.as_retriever()"
   ]
  },
  {
   "cell_type": "code",
   "execution_count": 65,
   "metadata": {},
   "outputs": [],
   "source": [
    "from langchain_core.prompts import ChatPromptTemplate\n",
    "\n",
    "RAG_PROMPT = \"\"\"\n",
    "\n",
    "CONTEXT:\n",
    "{context}\n",
    "\n",
    "QUERY:\n",
    "{question}\n",
    "\n",
    "You are a car specialist and can only provide your answers from the context. \n",
    "\n",
    "Don't tell in your response that you are getting it from the context.\n",
    "\n",
    "\"\"\"\n",
    "\n",
    "rag_prompt = ChatPromptTemplate.from_template(RAG_PROMPT)"
   ]
  },
  {
   "cell_type": "code",
   "execution_count": 66,
   "metadata": {},
   "outputs": [],
   "source": [
    "from langchain_openai import ChatOpenAI\n",
    "model = ChatOpenAI(model=\"gpt-3.5-turbo\")"
   ]
  },
  {
   "cell_type": "code",
   "execution_count": 67,
   "metadata": {},
   "outputs": [],
   "source": [
    "from operator import itemgetter\n",
    "from langchain.schema.runnable import RunnablePassthrough\n",
    "from langchain.schema.output_parser import StrOutputParser\n",
    "\n",
    "retrieval_augmented_qa_chain = (\n",
    "    {\"context\": itemgetter(\"question\") | retriever, \"question\": itemgetter(\"question\")}\n",
    "    | RunnablePassthrough.assign(context=itemgetter(\"context\"))\n",
    "    | {\"response\": rag_prompt | model, \"context\": itemgetter(\"context\")}\n",
    ")\n"
   ]
  },
  {
   "cell_type": "code",
   "execution_count": 68,
   "metadata": {},
   "outputs": [],
   "source": [
    "response = retrieval_augmented_qa_chain.invoke({\"question\" : \"What is the puporse of Event Data Recorder?\"})"
   ]
  },
  {
   "cell_type": "code",
   "execution_count": 69,
   "metadata": {},
   "outputs": [
    {
     "data": {
      "text/plain": [
       "AIMessage(content='The purpose of the Event Data Recorder is to provide assistance when taking evasive action and to automatically brake in the event of an impeded evasive maneuver with City Safety.', response_metadata={'token_usage': {'completion_tokens': 34, 'prompt_tokens': 2343, 'total_tokens': 2377}, 'model_name': 'gpt-3.5-turbo', 'system_fingerprint': 'fp_3bc1b5746c', 'finish_reason': 'stop', 'logprobs': None})"
      ]
     },
     "execution_count": 69,
     "metadata": {},
     "output_type": "execute_result"
    }
   ],
   "source": [
    "response[\"response\"]"
   ]
  }
 ],
 "metadata": {
  "kernelspec": {
   "display_name": "llmops-course",
   "language": "python",
   "name": "python3"
  },
  "language_info": {
   "codemirror_mode": {
    "name": "ipython",
    "version": 3
   },
   "file_extension": ".py",
   "mimetype": "text/x-python",
   "name": "python",
   "nbconvert_exporter": "python",
   "pygments_lexer": "ipython3",
   "version": "3.11.7"
  }
 },
 "nbformat": 4,
 "nbformat_minor": 2
}
